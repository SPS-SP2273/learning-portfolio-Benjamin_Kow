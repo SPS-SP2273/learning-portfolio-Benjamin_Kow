{
 "cells": [
  {
   "cell_type": "markdown",
   "id": "123456",
   "metadata": {},
   "source": [
    "<div style=\"text-align:left;font-size:2em\"><span style=\"font-weight:bolder;font-size:1.25em\">SP2273 | Learning Portfolio</span><br><br><span style=\"font-weight:bold;color:darkred\">Functions (Good) Exercises</span></div>"
   ]
  },
  {
   "cell_type": "markdown",
   "id": "55e7bbd3-712b-46d2-9105-e4f1345ad112",
   "metadata": {},
   "source": [
    "### Exercise 1"
   ]
  },
  {
   "cell_type": "code",
   "execution_count": 27,
   "id": "0b9c8018-c4af-4933-b119-a12c9a44eb35",
   "metadata": {},
   "outputs": [
    {
     "name": "stdin",
     "output_type": "stream",
     "text": [
      "What is the temperature ? 123\n",
      "What scale do you want to use? Please input 2 for Fahrenheit and 1 for Kelvin. 1\n"
     ]
    },
    {
     "data": {
      "text/plain": [
       "' 123 celsius is converted into 396.15 Kelvin'"
      ]
     },
     "execution_count": 27,
     "metadata": {},
     "output_type": "execute_result"
    }
   ],
   "source": [
    "def convert_celsius(temp,target_scale=2):\n",
    "    if target_scale == 2:\n",
    "        x = temp*(9/5) + 32\n",
    "        return f'{temp} celsius is converted into {x} Fahrenheit'\n",
    "    elif target_scale == 1:\n",
    "        y = temp + 273.15\n",
    "        return f' {temp} celsius is converted into {y} Kelvin'\n",
    "\n",
    "x = input('What is the temperature ?')\n",
    "assert type(x) == str, 'PLEASE INPUT A NUMBER'\n",
    "y = input('What scale do you want to use? Please input 2 for Fahrenheit and 1 for Kelvin.')\n",
    "assert type(y) != int, 'PLEASE INPUT AN INTEGER'\n",
    "y = int(y)\n",
    "assert (y == 1) or (y == 2), 'PLEASE INPUT 2 OR 1'\n",
    "\n",
    "convert_celsius(int(x),y)\n"
   ]
  },
  {
   "cell_type": "markdown",
   "id": "12c9be0d-dc25-4db5-970a-a0349f39f4e3",
   "metadata": {},
   "source": [
    "## Exercise 2"
   ]
  },
  {
   "cell_type": "code",
   "execution_count": 26,
   "id": "11369794-9837-4b25-8a54-a65068e7e1dd",
   "metadata": {},
   "outputs": [
    {
     "name": "stdin",
     "output_type": "stream",
     "text": [
      "What is the temperature and ? 1234\n",
      "What scale do you want to use? Please input 1 for Kelvin (Default) and 0 for Celsius. 1\n"
     ]
    },
    {
     "data": {
      "text/plain": [
       "'1234 fahrenheit is converted into 940.9277777777778 Kelvin'"
      ]
     },
     "execution_count": 26,
     "metadata": {},
     "output_type": "execute_result"
    }
   ],
   "source": [
    "def convert_fahrenheit(temp,target_scale=1):\n",
    "    if target_scale == 1:\n",
    "        x = (temp - 32)*(5/9)+273.15\n",
    "        return f'{temp} fahrenheit is converted into {x} Kelvin'\n",
    "    elif target_scale == 0:\n",
    "        y = (temp-32)*(5/9) \n",
    "        return f'{temp} fahrenheit is converted into {y} Celsius'\n",
    "\n",
    "x = input('What is the temperature and ?')\n",
    "assert type(x) == str, 'PLEASE INPUT A NUMBER'\n",
    "y = input('What scale do you want to use? Please input 1 for Kelvin (Default) and 0 for Celsius.')\n",
    "assert type(y) != int, 'PLEASE INPUT AN INTEGER'\n",
    "y = int(y)\n",
    "assert (y == 1) or (y == 2), 'PLEASE INPUT 1 OR 0'\n",
    "\n",
    "convert_fahrenheit(int(x),y)\n"
   ]
  },
  {
   "cell_type": "markdown",
   "id": "d1211fc0-71c2-4c82-a044-e8e72158a1df",
   "metadata": {},
   "source": [
    "### Exercise 3\n",
    "Wait i completely misread and did not see that you could use your previous functions .-."
   ]
  },
  {
   "cell_type": "code",
   "execution_count": 4,
   "id": "19b8ad14-ef70-4be9-bb50-4abd7cf96b8d",
   "metadata": {},
   "outputs": [],
   "source": [
    "import numpy as np"
   ]
  },
  {
   "cell_type": "code",
   "execution_count": 33,
   "id": "a848cec8-affd-4ba0-9835-fb4c28633b82",
   "metadata": {},
   "outputs": [
    {
     "name": "stdout",
     "output_type": "stream",
     "text": [
      "Please tell me the temperature you wish to convert:100\n",
      "Tell me the source units of your temperature, \n",
      " 0 for Celsius \n",
      " 1 for Kelvin \n",
      " 2 for Fahrenheit \n",
      "1\n",
      "Tell me the target units of your temperature, \n",
      " 0 for Celsius \n",
      " 1 for Kelvin \n",
      " 2 for Fahrenheit \n",
      "2\n"
     ]
    },
    {
     "data": {
      "text/plain": [
       "'100 Kelvin is converted into -279.66999999999996 Fahrenheit'"
      ]
     },
     "execution_count": 33,
     "metadata": {},
     "output_type": "execute_result"
    }
   ],
   "source": [
    "def convert_temperature(temp, source_scale, target_scale):\n",
    "    '''\n",
    "    0 is Celsius \n",
    "    1 is Kelvin\n",
    "    2 is Fahrenheit \n",
    "    ''' \n",
    "    x = [source_scale,target_scale]\n",
    "    a = [\"Celsius\", \"Kelvin\", \"Fahrenheit\"]\n",
    "    if x[0] == 0:\n",
    "        if x[1] == 1:\n",
    "            y = temp + 273.15\n",
    "            return f'{temp} {a[x[0]]} is converted into {y} {a[x[1]]}'\n",
    "        elif x[1] == 2:\n",
    "            y = temp*(9/5) + 32 \n",
    "            return f'{temp} {a[x[0]]} is converted into {y} {a[x[1]]}'\n",
    "    elif x[0] == 1:\n",
    "        if x[1] == 0:\n",
    "            y = temp - 273.15 \n",
    "            return f'{temp} {a[x[0]]} is converted into {y} {a[x[1]]}'\n",
    "        elif x[1] == 2:\n",
    "            y = (temp-273.15)*(9/5) + 32 \n",
    "            return f'{temp} {a[x[0]]} is converted into {y} {a[x[1]]}'\n",
    "    elif x[0] == 2:\n",
    "        print(\"why the hell do you use fahrenheit?!?\")\n",
    "        if x[1] == 0:\n",
    "            y = (temp-32)*(5/9)\n",
    "            return f'{temp} {a[x[0]]} is converted into {y} {a[x[1]]}'\n",
    "        elif x[1] == 1:\n",
    "            y = ((temp-32)*(5/9)) + 273.15 \n",
    "            return f'{temp} {a[x[0]]} is converted into {y} {a[x[1]]}'\n",
    "\n",
    "\n",
    "temp = input(\"Please tell me the temperature you wish to convert:\")\n",
    "assert type(temp) == str, 'PLEASE INPUT A NUMBER'\n",
    "source_scale = input('Tell me the source units of your temperature, \\n 0 for Celsius \\n 1 for Kelvin \\n 2 for Fahrenheit \\n') \n",
    "assert type(source_scale) != int, 'PLEASE INPUT AN INTEGER'\n",
    "source_scale = int(source_scale)\n",
    "assert (source_scale == 0) or (source_scale == 1) or (source_scale == 2), 'PLEASE INPUT 0 OR 1 OR 2'\n",
    "target_scale = input('Tell me the target units of your temperature, \\n 0 for Celsius \\n 1 for Kelvin \\n 2 for Fahrenheit \\n')\n",
    "assert type(target_scale) != int, 'PLEASE INPUT AN INTEGER'\n",
    "target_scale = int(target_scale)\n",
    "assert (target_scale == 0) or (target_scale == 1) or (target_scale == 2), 'PLEASE INPUT 0 OR 1 OR 2'\n",
    "\n",
    "convert_temperature(int(temp),source_scale,target_scale)"
   ]
  },
  {
   "cell_type": "markdown",
   "id": "d63f2be1-d71b-4777-b764-5a14540ecc51",
   "metadata": {},
   "source": [
    "### Exercise 3 (Optimised)"
   ]
  },
  {
   "cell_type": "code",
   "execution_count": 28,
   "id": "34210b6b-8642-4855-a046-5c21aca4e8e4",
   "metadata": {},
   "outputs": [
    {
     "name": "stdin",
     "output_type": "stream",
     "text": [
      "Please tell me the temperature you wish to convert: 12340\n",
      "Tell me the source units of your temperature, \n",
      " 0 for Celsius \n",
      " 1 for Kelvin \n",
      " 2 for Fahrenheit \n",
      " 2\n",
      "Tell me the target units of your temperature, \n",
      " 0 for Celsius \n",
      " 1 for Kelvin \n",
      " 2 for Fahrenheit \n",
      " 1\n"
     ]
    },
    {
     "name": "stdout",
     "output_type": "stream",
     "text": [
      "12340 2 1\n",
      "why the hell do you use fahrenheit?!?\n",
      "12340 fahrenheit is converted into 7110.927777777778 Kelvin\n"
     ]
    }
   ],
   "source": [
    "def convert_temperature(temp, source_scale, target_scale):\n",
    "    '''\n",
    "    0 is Celsius \n",
    "    1 is Kelvin\n",
    "    2 is Fahrenheit \n",
    "    ''' \n",
    "    a = [\"Celsius\", \"Kelvin\", \"Fahrenheit\"]\n",
    "    if source_scale == 0:\n",
    "        return convert_celsius(temp,target_scale)\n",
    "    elif source_scale == 1:\n",
    "        if target_scale == 0:\n",
    "            y = temp - 273.15 \n",
    "            return f'{temp} Kelvin is converted into {y} Celsius'\n",
    "        elif target_scale == 2:\n",
    "            y = (temp-273.15)*(9/5) + 32 \n",
    "            return f'{temp} Kelvin is converted into {y} Fahrenheit'\n",
    "    elif source_scale == 2:\n",
    "        print(\"why the hell do you use fahrenheit?!?\")\n",
    "        return convert_fahrenheit(temp,target_scale)        \n",
    "        \n",
    "temp = input(\"Please tell me the temperature you wish to convert:\")\n",
    "assert type(temp) == str, 'PLEASE INPUT A NUMBER'\n",
    "y = ['source','target']\n",
    "z = [0,0]\n",
    "for a, i in enumerate(y):\n",
    "    z[a] = input(f'Tell me the {i} units of your temperature, \\n 0 for Celsius \\n 1 for Kelvin \\n 2 for Fahrenheit \\n') \n",
    "    assert type(z[a]) != int, 'PLEASE INPUT AN INTEGER'\n",
    "    z[a] = int(z[a])\n",
    "    assert (z[a] == 0) or (z[a] == 1) or (z[a] == 2), 'PLEASE INPUT 0 OR 1 OR 2'\n",
    "print(temp,z[0],z[1])\n",
    "print(convert_temperature(int(temp),z[0],z[1]))"
   ]
  }
 ],
 "metadata": {
  "kernelspec": {
   "display_name": "Python 3 (ipykernel)",
   "language": "python",
   "name": "python3"
  },
  "language_info": {
   "codemirror_mode": {
    "name": "ipython",
    "version": 3
   },
   "file_extension": ".py",
   "mimetype": "text/x-python",
   "name": "python",
   "nbconvert_exporter": "python",
   "pygments_lexer": "ipython3",
   "version": "3.11.5"
  },
  "toc": {
   "base_numbering": 1,
   "nav_menu": {},
   "number_sections": true,
   "sideBar": true,
   "skip_h1_title": false,
   "title_cell": "Table of Contents",
   "title_sidebar": "Contents",
   "toc_cell": false,
   "toc_position": {},
   "toc_section_display": true,
   "toc_window_display": false
  },
  "vscode": {
   "interpreter": {
    "hash": "31f2aee4e71d21fbe5cf8b01ff0e069b9275f58929596ceb00d14d90e3e16cd6"
   }
  }
 },
 "nbformat": 4,
 "nbformat_minor": 5
}
