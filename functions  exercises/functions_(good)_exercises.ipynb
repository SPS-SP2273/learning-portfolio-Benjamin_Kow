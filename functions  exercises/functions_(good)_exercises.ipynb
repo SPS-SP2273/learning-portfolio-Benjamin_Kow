{
 "cells": [
  {
   "attachments": {},
   "cell_type": "markdown",
   "id": "123456",
   "metadata": {},
   "source": [
    "<div style=\"text-align:left;font-size:2em\"><span style=\"font-weight:bolder;font-size:1.25em\">SP2273 | Learning Portfolio</span><br><br><span style=\"font-weight:bold;color:darkred\">Functions (Good) Exercises</span></div>"
   ]
  },
  {
   "cell_type": "markdown",
   "id": "55e7bbd3-712b-46d2-9105-e4f1345ad112",
   "metadata": {},
   "source": [
    "### Exercise 1"
   ]
  },
  {
   "cell_type": "code",
   "execution_count": 12,
   "id": "0b9c8018-c4af-4933-b119-a12c9a44eb35",
   "metadata": {},
   "outputs": [
    {
     "name": "stdin",
     "output_type": "stream",
     "text": [
      "What is the temperature and ? 12314\n",
      "What scale do you want to use? Please input 2 for Fahrenheit and 1 for Kelvin. 1\n"
     ]
    },
    {
     "data": {
      "text/plain": [
       "12587.15"
      ]
     },
     "execution_count": 12,
     "metadata": {},
     "output_type": "execute_result"
    }
   ],
   "source": [
    "def convert_celsius(temperature_celsius,target_scale=2):\n",
    "    \n",
    "    if target_scale == 2:\n",
    "        x = temperature_celsius*(9/5) + 32\n",
    "        return f'{x} Fahrenheit'\n",
    "    elif target_scale == 1:\n",
    "        y = temperature_celsius + 273.15\n",
    "        return f'{y} Kelvin\n",
    "\n",
    "x = input('What is the temperature and ?')\n",
    "assert type(x) == str, 'PLEASE INPUT A NUMBER'\n",
    "y = input('What scale do you want to use? Please input 2 for Fahrenheit and 1 for Kelvin.')\n",
    "assert type(y) != int, 'PLEASE INPUT AN INTEGER'\n",
    "y = int(y)\n",
    "assert (y == 1) or (y == 2), 'PLEASE INPUT 2 OR 1'\n",
    "\n",
    "convert_celsius(int(x),y)\n"
   ]
  },
  {
   "cell_type": "markdown",
   "id": "12c9be0d-dc25-4db5-970a-a0349f39f4e3",
   "metadata": {},
   "source": [
    "### Exercise 2"
   ]
  },
  {
   "cell_type": "code",
   "execution_count": 5,
   "id": "11369794-9837-4b25-8a54-a65068e7e1dd",
   "metadata": {},
   "outputs": [
    {
     "name": "stdin",
     "output_type": "stream",
     "text": [
      "What is the temperature and ? 1234\n",
      "What scale do you want to use? Please input 2 for Kelvin (Default) and 1 for Celsius. 2\n"
     ]
    },
    {
     "data": {
      "text/plain": [
       "'940.9277777777778 Kelvin'"
      ]
     },
     "execution_count": 5,
     "metadata": {},
     "output_type": "execute_result"
    }
   ],
   "source": [
    "def convert_fahrenheit(temperature_fahrenheit,target_scale=2):\n",
    "    if target_scale == 2:\n",
    "        x = (temperature_fahrenheit - 32)*(5/9)+273.15\n",
    "        return f'{x} Kelvin'\n",
    "    elif target_scale == 1:\n",
    "        y = (temperature_fahrenheit-32)*(5/9) \n",
    "        return f'{y} Celsius'\n",
    "\n",
    "x = input('What is the temperature and ?')\n",
    "assert type(x) == str, 'PLEASE INPUT A NUMBER'\n",
    "y = input('What scale do you want to use? Please input 2 for Kelvin (Default) and 1 for Celsius.')\n",
    "assert type(y) != int, 'PLEASE INPUT AN INTEGER'\n",
    "y = int(y)\n",
    "assert (y == 1) or (y == 2), 'PLEASE INPUT 2 OR 1'\n",
    "\n",
    "convert_fahrenheit(int(x),y)\n"
   ]
  },
  {
   "cell_type": "markdown",
   "id": "d1211fc0-71c2-4c82-a044-e8e72158a1df",
   "metadata": {},
   "source": [
    "### Exercise 3"
   ]
  },
  {
   "cell_type": "code",
   "execution_count": null,
   "id": "a848cec8-affd-4ba0-9835-fb4c28633b82",
   "metadata": {},
   "outputs": [],
   "source": []
  }
 ],
 "metadata": {
  "kernelspec": {
   "display_name": "Python 3 (ipykernel)",
   "language": "python",
   "name": "python3"
  },
  "language_info": {
   "codemirror_mode": {
    "name": "ipython",
    "version": 3
   },
   "file_extension": ".py",
   "mimetype": "text/x-python",
   "name": "python",
   "nbconvert_exporter": "python",
   "pygments_lexer": "ipython3",
   "version": "3.11.5"
  },
  "toc": {
   "base_numbering": 1,
   "nav_menu": {},
   "number_sections": true,
   "sideBar": true,
   "skip_h1_title": false,
   "title_cell": "Table of Contents",
   "title_sidebar": "Contents",
   "toc_cell": false,
   "toc_position": {},
   "toc_section_display": true,
   "toc_window_display": false
  },
  "vscode": {
   "interpreter": {
    "hash": "31f2aee4e71d21fbe5cf8b01ff0e069b9275f58929596ceb00d14d90e3e16cd6"
   }
  }
 },
 "nbformat": 4,
 "nbformat_minor": 5
}
