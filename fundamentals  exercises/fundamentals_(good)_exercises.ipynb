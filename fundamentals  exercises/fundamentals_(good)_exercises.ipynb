{
 "cells": [
  {
   "cell_type": "markdown",
   "id": "123456",
   "metadata": {},
   "source": [
    "<div style=\"text-align:left;font-size:2em\"><span style=\"font-weight:bolder;font-size:1.25em\">SP2273 | Learning Portfolio</span><br><br><span style=\"font-weight:bold;color:darkred\">Fundamentals (Good) Exercises</span></div>"
   ]
  },
  {
   "cell_type": "code",
   "execution_count": 1,
   "id": "912f0e51",
   "metadata": {},
   "outputs": [
    {
     "name": "stdout",
     "output_type": "stream",
     "text": [
      "Give me a number please.Yes\n",
      "you entered Yes\n"
     ]
    }
   ],
   "source": [
    "user_input = input('Give me a number please.')\n",
    "print('you entered', user_input)"
   ]
  },
  {
   "cell_type": "code",
   "execution_count": 15,
   "id": "45e1190b",
   "metadata": {},
   "outputs": [
    {
     "name": "stdin",
     "output_type": "stream",
     "text": [
      "Enter the student's exam score:  80.5\n"
     ]
    },
    {
     "name": "stdout",
     "output_type": "stream",
     "text": [
      "Please enter an integer\n"
     ]
    }
   ],
   "source": [
    "grade = input('Enter the student\\'s exam score: ')\n",
    "if grade.isnumeric() == False:\n",
    "    print('Please enter an integer')\n",
    "else:\n",
    "    grade = int(grade)\n",
    "    if grade < 0 or grade > 100:\n",
    "        print('Please input an integer between 0 and 100')\n",
    "    elif 70 <=grade<=100:\n",
    "        print('Grade A')\n",
    "    elif 50<=grade<=69: \n",
    "        print('Grade B')\n",
    "    elif 35<=grade<=49:\n",
    "        print('Grade C')\n",
    "    else:\n",
    "        print('FAIL')\n",
    "\n",
    "\n",
    "# try:\n",
    "# except:\n",
    "# eval()"
   ]
  },
  {
   "cell_type": "code",
   "execution_count": 2,
   "id": "38801432-9386-48d9-9d1b-ceb898df4f5f",
   "metadata": {},
   "outputs": [
    {
     "name": "stdin",
     "output_type": "stream",
     "text": [
      "Enter the student's exam score:  190\n"
     ]
    },
    {
     "name": "stdout",
     "output_type": "stream",
     "text": [
      "Please input an integer between 0 and 100\n"
     ]
    }
   ],
   "source": [
    "grade = input('Enter the student\\'s exam score: ')\n",
    "try: \n",
    "    grade = eval(grade)\n",
    "    # grade = eval(grade)\n",
    "    if grade < 0 or grade > 100:\n",
    "        print('Please input an integer between 0 and 100')\n",
    "    elif 70 <=grade<=100:\n",
    "        print('Grade A')\n",
    "    elif 50<=grade<=69: \n",
    "        print('Grade B')\n",
    "    elif 35<=grade<=49:\n",
    "        print('Grade C')\n",
    "    else:\n",
    "        print('FAIL')\n",
    "except:\n",
    "    print('Please return a number')"
   ]
  },
  {
   "cell_type": "code",
   "execution_count": null,
   "id": "c3812b9f-507a-4a52-b20b-1302ac5b04b0",
   "metadata": {},
   "outputs": [],
   "source": [
    "def num(x):\n",
    "    try: \n",
    "        float(x)\n",
    "    except:\n",
    "        return False\n",
    "    return True\n",
    "\n",
    "x = input('What is this:')\n",
    "if num(x) == False:\n",
    "    print('Please enter an number')\n",
    "else:\n",
    "    x = float(x)\n",
    "    if x < 0 or x > 100:\n",
    "        print('Please input an number between 0 and 100')\n",
    "    elif 70 <=x<=100:\n",
    "        print('Grade A')\n",
    "    elif 50<=x<=69: \n",
    "        print('Grade B')\n",
    "    elif 35<=x<=49:\n",
    "        print('Grade C')\n",
    "    else:\n",
    "        print('FAIL')"
   ]
  },
  {
   "cell_type": "code",
   "execution_count": 6,
   "id": "a8ff5b10",
   "metadata": {},
   "outputs": [
    {
     "name": "stdout",
     "output_type": "stream",
     "text": [
      "Help on method raw_input in module ipykernel.kernelbase:\n",
      "\n",
      "raw_input(prompt='') method of ipykernel.ipkernel.IPythonKernel instance\n",
      "    Forward raw_input to frontends\n",
      "    \n",
      "    Raises\n",
      "    ------\n",
      "    StdinNotImplementedError if active frontend doesn't support stdin.\n",
      "\n"
     ]
    }
   ],
   "source": [
    "help(input)"
   ]
  },
  {
   "cell_type": "code",
   "execution_count": null,
   "id": "2d030bd1",
   "metadata": {},
   "outputs": [],
   "source": []
  }
 ],
 "metadata": {
  "kernelspec": {
   "display_name": "Python 3 (ipykernel)",
   "language": "python",
   "name": "python3"
  },
  "language_info": {
   "codemirror_mode": {
    "name": "ipython",
    "version": 3
   },
   "file_extension": ".py",
   "mimetype": "text/x-python",
   "name": "python",
   "nbconvert_exporter": "python",
   "pygments_lexer": "ipython3",
   "version": "3.11.5"
  },
  "toc": {
   "base_numbering": 1,
   "nav_menu": {},
   "number_sections": true,
   "sideBar": true,
   "skip_h1_title": false,
   "title_cell": "Table of Contents",
   "title_sidebar": "Contents",
   "toc_cell": false,
   "toc_position": {},
   "toc_section_display": true,
   "toc_window_display": false
  },
  "vscode": {
   "interpreter": {
    "hash": "31f2aee4e71d21fbe5cf8b01ff0e069b9275f58929596ceb00d14d90e3e16cd6"
   }
  }
 },
 "nbformat": 4,
 "nbformat_minor": 5
}
