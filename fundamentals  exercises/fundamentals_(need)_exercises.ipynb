{
 "cells": [
  {
   "cell_type": "markdown",
   "id": "123456",
   "metadata": {},
   "source": [
    "<div style=\"text-align:left;font-size:2em\"><span style=\"font-weight:bolder;font-size:1.25em\">SP2273 | Learning Portfolio</span><br><br><span style=\"font-weight:bold;color:darkred\">Fundamentals (Need) Exercises</span></div>"
   ]
  },
  {
   "cell_type": "markdown",
   "id": "ffddbed7-d047-42b2-9da6-0beabd98e347",
   "metadata": {},
   "source": [
    "**Exercise 1**\n",
    "\n",
    "1. Conditionals if, else, and ifel,\n",
    "2. Use # for comments\n",
    "3. Python is case sensitive (`Print` is different from `print`)\n",
    "4. Indentations matter\n",
    "5. can import packages using`import` for example `import Numpy as np`\n",
    "    1. can use packages to run functions such as `np.sqrt()` when python does not have such commands\n",
    "7. Can use .split() to split a string by their spaces\n",
    "8. Can make a list using [], *you can also make 2D lists*\n",
    "    1. () is for functions and mathematics\n",
    "    2. *{} is for dictionaries such as*\n",
    "``` python\n",
    "List = {\n",
    "'Name': 'Yes',\n",
    "'age': 'infinity'\n",
    "}\n",
    "```\n",
    "\n",
    "9. `=` is for designating variables and `==` is for checking if variables are the same\n",
    "10. You can compare integers but not floats, because of rounding off errors, you compare if they are similar enough like,\n",
    "```python\n",
    "a = 0.1\n",
    "b = 0.3\n",
    "a *= 3\n",
    "ecf = 1*10**-10\n",
    "abs(a - b) < ecf\n",
    "```\n",
    "\n",
    "11. *The dot (.) indicates ownership, and access depends on context*"
   ]
  },
  {
   "cell_type": "markdown",
   "id": "73362739-af20-4369-9fc8-88d9f78af0f5",
   "metadata": {},
   "source": [
    "**Exercise 2**"
   ]
  },
  {
   "cell_type": "raw",
   "id": "98e5b346-0224-4b24-8aa8-c58c98a78c5c",
   "metadata": {},
   "source": [
    "import numpy as np\n",
    "x, y = 3, 4\n",
    "z = np.sqrt(x**2 + y**2)\n",
    "print(x, y, z)"
   ]
  },
  {
   "cell_type": "markdown",
   "id": "11a9307e-2165-47b8-b02b-71833871d1dd",
   "metadata": {},
   "source": [
    "**Exercise 3**"
   ]
  },
  {
   "cell_type": "markdown",
   "id": "c3bf7fc5-9a2b-42a3-b93d-1d5f067aebc5",
   "metadata": {},
   "source": [
    "| # | Term | Description |\n",
    "|:--:|:--|:--|\n",
    "|1| Function | Something that takes in arguments and does something based on the input|\n",
    "|2| Agruments| Inputs you put into functions which tell functions what to do to it, or to something else||\n",
    "|3| Comments| It is a note you can add in after your code to document the purpose of the code or the code's purpose \n",
    "|4 | Indentations | They are used to show which lines of code belongs to for example an `if` conditional|\n",
    "|5| Packages | Because python is limited, we can import packages with different functions that helps us expand pythons capabilities without having to code it ourselves|\n",
    "|6|`.`|It indicates ownership, for example if you want a function from numpy you must have a prefix of `numpy.` for the function you are trying to call |\n",
    "|7| `:`|It indicates the end of a function in a line for example `if x == 35:`  |\n",
    "|8|`[]` |This is used to designate a list in python |\n",
    "|9|`[[[]]]` | |\n",
    "|10|`{}`| This bracket is used to define the start as well as the ending of a dictionary in python|"
   ]
  },
  {
   "cell_type": "markdown",
   "id": "33a29a03",
   "metadata": {},
   "source": [
    "**Exercise 4**"
   ]
  },
  {
   "cell_type": "code",
   "execution_count": 1,
   "id": "196d586a",
   "metadata": {},
   "outputs": [
    {
     "data": {
      "text/plain": [
       "2.5"
      ]
     },
     "execution_count": 1,
     "metadata": {},
     "output_type": "execute_result"
    }
   ],
   "source": [
    "5/2 # What do I do? You divide normally "
   ]
  },
  {
   "cell_type": "code",
   "execution_count": 10,
   "id": "223b73f5",
   "metadata": {},
   "outputs": [
    {
     "data": {
      "text/plain": [
       "2"
      ]
     },
     "execution_count": 10,
     "metadata": {},
     "output_type": "execute_result"
    }
   ],
   "source": [
    "5//2 # What do I do? This is floor division, \n",
    "     # you return the lowest integer value after 5 is divided by 2"
   ]
  },
  {
   "cell_type": "code",
   "execution_count": 3,
   "id": "e13212a1",
   "metadata": {},
   "outputs": [
    {
     "data": {
      "text/plain": [
       "1"
      ]
     },
     "execution_count": 3,
     "metadata": {},
     "output_type": "execute_result"
    }
   ],
   "source": [
    "5%2 # What do I do? You find the remainder after dividing 5 by 2"
   ]
  }
 ],
 "metadata": {
  "kernelspec": {
   "display_name": "Python 3 (ipykernel)",
   "language": "python",
   "name": "python3"
  },
  "language_info": {
   "codemirror_mode": {
    "name": "ipython",
    "version": 3
   },
   "file_extension": ".py",
   "mimetype": "text/x-python",
   "name": "python",
   "nbconvert_exporter": "python",
   "pygments_lexer": "ipython3",
   "version": "3.11.5"
  },
  "toc": {
   "base_numbering": 1,
   "nav_menu": {},
   "number_sections": true,
   "sideBar": true,
   "skip_h1_title": false,
   "title_cell": "Table of Contents",
   "title_sidebar": "Contents",
   "toc_cell": false,
   "toc_position": {},
   "toc_section_display": true,
   "toc_window_display": false
  },
  "vscode": {
   "interpreter": {
    "hash": "31f2aee4e71d21fbe5cf8b01ff0e069b9275f58929596ceb00d14d90e3e16cd6"
   }
  }
 },
 "nbformat": 4,
 "nbformat_minor": 5
}
