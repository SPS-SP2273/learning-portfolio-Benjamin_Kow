{
 "cells": [
  {
   "cell_type": "markdown",
   "id": "123456",
   "metadata": {},
   "source": [
    "<div style=\"text-align:left;font-size:2em\"><span style=\"font-weight:bolder;font-size:1.25em\">SP2273 | Learning Portfolio</span><br><br><span style=\"font-weight:bold;color:darkred\">Loops (Good) Exercises</span></div>"
   ]
  },
  {
   "cell_type": "markdown",
   "id": "a2cd50a1-6e89-4044-ba05-1038676636c8",
   "metadata": {},
   "source": [
    "### Exercise 1"
   ]
  },
  {
   "cell_type": "code",
   "execution_count": 3,
   "id": "4338133f-6c21-4b9b-a65e-dfa6719ed198",
   "metadata": {},
   "outputs": [
    {
     "data": {
      "text/plain": [
       "[0, 4, 16, 36, 64]"
      ]
     },
     "execution_count": 3,
     "metadata": {},
     "output_type": "execute_result"
    }
   ],
   "source": [
    "x = [0]\n",
    "for i in range(1,10):\n",
    "    if i%2 != 0:\n",
    "        continue\n",
    "    else:\n",
    "        x.append(i**2)\n",
    "x"
   ]
  },
  {
   "cell_type": "markdown",
   "id": "33f2c231-0a07-4aaf-97fb-55529de01b6c",
   "metadata": {},
   "source": [
    "### Exercise 2"
   ]
  },
  {
   "cell_type": "code",
   "execution_count": 11,
   "id": "42c3daa7-960c-4926-ba44-83432a9aace2",
   "metadata": {},
   "outputs": [
    {
     "data": {
      "text/plain": [
       "[0, 4, 16, 36, 64]"
      ]
     },
     "execution_count": 11,
     "metadata": {},
     "output_type": "execute_result"
    }
   ],
   "source": [
    "[i**2 for i in range(10) if i %2 == 0]"
   ]
  },
  {
   "cell_type": "markdown",
   "id": "b09a5947-8d7a-4932-830b-0a94b9b12da0",
   "metadata": {},
   "source": [
    "### Exercise 3\n",
    "List comprehension is faster"
   ]
  },
  {
   "cell_type": "code",
   "execution_count": 16,
   "id": "56121330-1fd7-4184-b40c-af3f77ee7e76",
   "metadata": {},
   "outputs": [
    {
     "name": "stdout",
     "output_type": "stream",
     "text": [
      "1.02 µs ± 78.4 ns per loop (mean ± std. dev. of 7 runs, 1,000,000 loops each)\n"
     ]
    }
   ],
   "source": [
    "%%timeit\n",
    "([i**2 for i in range(10) if i %2 == 0])"
   ]
  },
  {
   "cell_type": "code",
   "execution_count": 17,
   "id": "2cefffdf-e91b-4c31-9998-13131a8ce3e3",
   "metadata": {},
   "outputs": [
    {
     "name": "stdout",
     "output_type": "stream",
     "text": [
      "807 ns ± 44.9 ns per loop (mean ± std. dev. of 7 runs, 1,000,000 loops each)\n"
     ]
    }
   ],
   "source": [
    "%%timeit\n",
    "x = [0]\n",
    "for i in range(1,10):\n",
    "    if i%2 != 0:\n",
    "        continue\n",
    "    else:\n",
    "        x.append(i**2)"
   ]
  },
  {
   "cell_type": "markdown",
   "id": "f392ebfe-0821-4119-b296-1aab0fdc6029",
   "metadata": {},
   "source": [
    "### Exercise 4"
   ]
  },
  {
   "cell_type": "code",
   "execution_count": 25,
   "id": "4a6a9420-bf1f-4be2-a298-570d7a710f6d",
   "metadata": {},
   "outputs": [
    {
     "name": "stdout",
     "output_type": "stream",
     "text": [
      "It will take 14 for the radioactive substance to reach half its original amount.\n"
     ]
    }
   ],
   "source": [
    "x = 100\n",
    "original = x\n",
    "years = 0\n",
    "while x > 0.5*original:\n",
    "    years += 1\n",
    "    x = 0.95*x\n",
    "print(f'It will take {years} for the radioactive substance to reach half its original amount.')"
   ]
  },
  {
   "cell_type": "markdown",
   "id": "2af2e837-56b9-4629-aedd-f191dc975113",
   "metadata": {},
   "source": [
    "### Exercise 5"
   ]
  },
  {
   "cell_type": "code",
   "execution_count": 32,
   "id": "691777f1-d3cb-46c4-aaf4-e4a97085f09d",
   "metadata": {},
   "outputs": [
    {
     "name": "stdout",
     "output_type": "stream",
     "text": [
      "Difference is only 1.589999999999975 in 2001.0\n",
      "Difference is only 2.1399999999999864 in 2002.0\n",
      "Difference is only 2.5200000000000387 in 2003.0\n",
      "Difference is only 1.7199999999999704 in 2004.0\n",
      "Difference is only 2.2800000000000296 in 2005.0\n",
      "Difference is only 2.099999999999966 in 2006.0\n",
      "Difference is only 1.8900000000000432 in 2007.0\n",
      "Difference is only 1.8100000000000023 in 2008.0\n",
      "Difference is only 1.829999999999984 in 2009.0\n",
      "Difference is only 2.4699999999999704 in 2010.0\n",
      "Difference is only 1.75 in 2011.0\n",
      "Difference is only 2.2000000000000455 in 2012.0\n",
      "Difference is only 2.669999999999959 in 2013.0\n",
      "Difference is only 2.1299999999999955 in 2014.0\n",
      "Difference is only 2.180000000000007 in 2015.0\n",
      "2016.0 3.410000000000025\n",
      "Difference is only 2.3100000000000023 in 2017.0\n",
      "Difference is only 1.9699999999999704 in 2018.0\n",
      "Difference is only 2.920000000000016 in 2019.0\n",
      "Difference is only 2.8000000000000114 in 2020.0\n"
     ]
    }
   ],
   "source": [
    "import numpy as np\n",
    "co2_data = [\n",
    "    (2000, 369.55), (2001, 371.14), (2002, 373.28), \n",
    "    (2003, 375.80), (2004, 377.52), (2005, 379.80), \n",
    "    (2006, 381.90), (2007, 383.79), (2008, 385.60), \n",
    "    (2009, 387.43), (2010, 389.90), (2011, 391.65), \n",
    "    (2012, 393.85), (2013, 396.52), (2014, 398.65),\n",
    "    (2015, 400.83), (2016, 404.24), (2017, 406.55), \n",
    "    (2018, 408.52), (2019, 411.44), (2020, 414.24)\n",
    "] \n",
    "co2 = np.array(co2_data)\n",
    "for i in range(1,len(co2)):\n",
    "    x = co2[i,1] - co2[i-1,1]\n",
    "    if x > 3:\n",
    "        print(co2[i,0],x)\n",
    "    else:\n",
    "        print(f'Difference is only {x} in {co2[i,0]}')"
   ]
  },
  {
   "cell_type": "markdown",
   "id": "ac5beb52-d982-48b2-8038-93846b603298",
   "metadata": {},
   "source": [
    "The year which showed an increase of 3ppm and more was 2016 with an increase of 3.41ppm"
   ]
  }
 ],
 "metadata": {
  "kernelspec": {
   "display_name": "Python 3 (ipykernel)",
   "language": "python",
   "name": "python3"
  },
  "language_info": {
   "codemirror_mode": {
    "name": "ipython",
    "version": 3
   },
   "file_extension": ".py",
   "mimetype": "text/x-python",
   "name": "python",
   "nbconvert_exporter": "python",
   "pygments_lexer": "ipython3",
   "version": "3.11.5"
  },
  "toc": {
   "base_numbering": 1,
   "nav_menu": {},
   "number_sections": true,
   "sideBar": true,
   "skip_h1_title": false,
   "title_cell": "Table of Contents",
   "title_sidebar": "Contents",
   "toc_cell": false,
   "toc_position": {},
   "toc_section_display": true,
   "toc_window_display": false
  },
  "vscode": {
   "interpreter": {
    "hash": "31f2aee4e71d21fbe5cf8b01ff0e069b9275f58929596ceb00d14d90e3e16cd6"
   }
  }
 },
 "nbformat": 4,
 "nbformat_minor": 5
}
