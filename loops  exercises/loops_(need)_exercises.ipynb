{
 "cells": [
  {
   "attachments": {},
   "cell_type": "markdown",
   "id": "123456",
   "metadata": {},
   "source": [
    "<div style=\"text-align:left;font-size:2em\"><span style=\"font-weight:bolder;font-size:1.25em\">SP2273 | Learning Portfolio</span><br><br><span style=\"font-weight:bold;color:darkred\">Loops (Need) Exercises</span></div>"
   ]
  },
  {
   "cell_type": "markdown",
   "id": "a310465d-02ff-4541-ae86-0d656c948839",
   "metadata": {},
   "source": [
    "### Exercise 1"
   ]
  },
  {
   "cell_type": "code",
   "execution_count": 29,
   "id": "fa2de684-de98-4b1d-a9a1-f67d9b1a81a7",
   "metadata": {},
   "outputs": [
    {
     "name": "stdout",
     "output_type": "stream",
     "text": [
      " 0 Celsius converts to 32.0 Fahrenheit\n",
      " 5 Celsius converts to 41.0 Fahrenheit\n",
      " 10 Celsius converts to 50.0 Fahrenheit\n",
      " 15 Celsius converts to 59.0 Fahrenheit\n",
      " 20 Celsius converts to 68.0 Fahrenheit\n",
      " 25 Celsius converts to 77.0 Fahrenheit\n",
      " 30 Celsius converts to 86.0 Fahrenheit\n",
      " 35 Celsius converts to 95.0 Fahrenheit\n",
      " 40 Celsius converts to 104.0 Fahrenheit\n",
      " 45 Celsius converts to 113.0 Fahrenheit\n",
      " 50 Celsius converts to 122.0 Fahrenheit\n"
     ]
    }
   ],
   "source": [
    "import numpy as np \n",
    "temperatures_celsius = [\n",
    "    0, 5, 10, 15, 20, 25,\n",
    "    30, 35, 40, 45, 50\n",
    "]\n",
    "C = np.array(temperatures_celsius)\n",
    "F = C*(9/5)+32\n",
    "\n",
    "for i, j in zip(C,F):\n",
    "    print(f' {i} Celsius converts to {j} Fahrenheit')"
   ]
  },
  {
   "cell_type": "markdown",
   "id": "d8861555-5d15-4384-8126-425fe7bc31ef",
   "metadata": {},
   "source": [
    "### Exercise 2 "
   ]
  },
  {
   "cell_type": "code",
   "execution_count": 30,
   "id": "cc72114b-be90-4df3-9d96-ccef7ae2171d",
   "metadata": {},
   "outputs": [
    {
     "name": "stdout",
     "output_type": "stream",
     "text": [
      "1 :\t1\t2\t3\t4\t5\t\n",
      "\n",
      "2 :\t2\t4\t6\t8\t10\t\n",
      "\n",
      "3 :\t3\t6\t9\t12\t15\t\n",
      "\n",
      "4 :\t4\t8\t12\t16\t20\t\n",
      "\n",
      "5 :\t5\t10\t15\t20\t25\t\n",
      "\n"
     ]
    }
   ],
   "source": [
    "for i in range(1,6):\n",
    "    print(f'{i} :',end='\\t')\n",
    "    for j in range(1,6):\n",
    "        print(i*j,end='\\t')\n",
    "    print('\\n')\n"
   ]
  }
 ],
 "metadata": {
  "kernelspec": {
   "display_name": "Python 3 (ipykernel)",
   "language": "python",
   "name": "python3"
  },
  "language_info": {
   "codemirror_mode": {
    "name": "ipython",
    "version": 3
   },
   "file_extension": ".py",
   "mimetype": "text/x-python",
   "name": "python",
   "nbconvert_exporter": "python",
   "pygments_lexer": "ipython3",
   "version": "3.11.5"
  },
  "toc": {
   "base_numbering": 1,
   "nav_menu": {},
   "number_sections": true,
   "sideBar": true,
   "skip_h1_title": false,
   "title_cell": "Table of Contents",
   "title_sidebar": "Contents",
   "toc_cell": false,
   "toc_position": {},
   "toc_section_display": true,
   "toc_window_display": false
  },
  "vscode": {
   "interpreter": {
    "hash": "31f2aee4e71d21fbe5cf8b01ff0e069b9275f58929596ceb00d14d90e3e16cd6"
   }
  }
 },
 "nbformat": 4,
 "nbformat_minor": 5
}
