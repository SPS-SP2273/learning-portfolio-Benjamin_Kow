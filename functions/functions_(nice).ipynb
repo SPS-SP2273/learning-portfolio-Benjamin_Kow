{
 "cells": [
  {
   "cell_type": "markdown",
   "id": "123456",
   "metadata": {},
   "source": [
    "<div style=\"text-align:left;font-size:2em\"><span style=\"font-weight:bolder;font-size:1.25em\">SP2273 | Learning Portfolio</span><br><br><span style=\"font-weight:bold;color:darkred\">Functions (Nice)</span></div>"
   ]
  },
  {
   "cell_type": "markdown",
   "id": "72b441d0",
   "metadata": {},
   "source": [
    "# 1 Modularise and reuse"
   ]
  },
  {
   "cell_type": "markdown",
   "id": "6355d75f",
   "metadata": {},
   "source": [
    "# 2 The many ways to pass arguments"
   ]
  },
  {
   "cell_type": "markdown",
   "id": "85cfd319",
   "metadata": {},
   "source": [
    "## 2.1 *args & **kwarg"
   ]
  },
  {
   "cell_type": "markdown",
   "id": "2b255e4c",
   "metadata": {},
   "source": [
    "### *args\n",
    "Using the * allows python to enter the list or dictionary and pass the elements as arguments to a function"
   ]
  },
  {
   "cell_type": "code",
   "execution_count": 9,
   "id": "7f6279d9",
   "metadata": {},
   "outputs": [
    {
     "data": {
      "text/plain": [
       "18"
      ]
     },
     "execution_count": 9,
     "metadata": {},
     "output_type": "execute_result"
    }
   ],
   "source": [
    "def multiply(x,y):\n",
    "    return x*y\n",
    "\n",
    "x = [3,6]\n",
    "y = [4,2]\n",
    "multiply(*x)\n",
    "# However this list must have the exact number of arguments required \n",
    "# (in this case)"
   ]
  },
  {
   "cell_type": "code",
   "execution_count": 11,
   "id": "75a7fdaa",
   "metadata": {},
   "outputs": [
    {
     "data": {
      "text/plain": [
       "120"
      ]
     },
     "execution_count": 11,
     "metadata": {},
     "output_type": "execute_result"
    }
   ],
   "source": [
    "# For if you want to multiply multiple numbers\n",
    "def multiply(*x):\n",
    "    result = 1\n",
    "    for y in x:\n",
    "        result *= y\n",
    "    return result \n",
    "\n",
    "numbers=[1,2,3,4,5]\n",
    "multiply(*numbers)"
   ]
  },
  {
   "cell_type": "markdown",
   "id": "5e15db45",
   "metadata": {},
   "source": [
    "### ****kwargs**\n",
    "it stands for 'keyword arguments' when you want to  input dictionaries as arguments to a function"
   ]
  },
  {
   "cell_type": "code",
   "execution_count": 7,
   "id": "77926a8d",
   "metadata": {},
   "outputs": [
    {
     "data": {
      "text/plain": [
       "12"
      ]
     },
     "execution_count": 7,
     "metadata": {},
     "output_type": "execute_result"
    }
   ],
   "source": [
    "def multiply(x, y, z):\n",
    "    return x + y + z\n",
    "\n",
    "# Let's use the function\n",
    "numbers = {'x':2, 'y':4, 'z':6}\n",
    "multiply(**numbers)\n",
    "#The dictionary names must correspond to the keyword names (see below)"
   ]
  },
  {
   "cell_type": "code",
   "execution_count": 8,
   "id": "54a0923d",
   "metadata": {},
   "outputs": [
    {
     "ename": "TypeError",
     "evalue": "multiply() got an unexpected keyword argument 'A'",
     "output_type": "error",
     "traceback": [
      "\u001b[1;31m---------------------------------------------------------------------------\u001b[0m",
      "\u001b[1;31mTypeError\u001b[0m                                 Traceback (most recent call last)",
      "Cell \u001b[1;32mIn[8], line 2\u001b[0m\n\u001b[0;32m      1\u001b[0m x \u001b[38;5;241m=\u001b[39m {\u001b[38;5;124m'\u001b[39m\u001b[38;5;124mx\u001b[39m\u001b[38;5;124m'\u001b[39m:\u001b[38;5;241m2\u001b[39m,\u001b[38;5;124m'\u001b[39m\u001b[38;5;124my\u001b[39m\u001b[38;5;124m'\u001b[39m:\u001b[38;5;241m4\u001b[39m,\u001b[38;5;124m'\u001b[39m\u001b[38;5;124mA\u001b[39m\u001b[38;5;124m'\u001b[39m:\u001b[38;5;241m6\u001b[39m}\n\u001b[1;32m----> 2\u001b[0m \u001b[43mmultiply\u001b[49m\u001b[43m(\u001b[49m\u001b[38;5;241;43m*\u001b[39;49m\u001b[38;5;241;43m*\u001b[39;49m\u001b[43mx\u001b[49m\u001b[43m)\u001b[49m\n",
      "\u001b[1;31mTypeError\u001b[0m: multiply() got an unexpected keyword argument 'A'"
     ]
    }
   ],
   "source": [
    "x = {'x':2,'y':4,'A':6}\n",
    "multiply(**x)"
   ]
  },
  {
   "cell_type": "code",
   "execution_count": 10,
   "id": "03b1d8c9",
   "metadata": {},
   "outputs": [
    {
     "data": {
      "text/plain": [
       "14"
      ]
     },
     "execution_count": 10,
     "metadata": {},
     "output_type": "execute_result"
    }
   ],
   "source": [
    "def add_powers(**kwargs):\n",
    "    numbers = kwargs['numbers']\n",
    "    power = kwargs['power']\n",
    "\n",
    "    result = 0\n",
    "    for number in numbers:\n",
    "        result += number**power\n",
    "\n",
    "    return result\n",
    "\n",
    "\n",
    "# Let's use the function\n",
    "add_powers(numbers=[1, 2, 3], power=2)"
   ]
  },
  {
   "cell_type": "code",
   "execution_count": 12,
   "id": "632ebb9c",
   "metadata": {},
   "outputs": [
    {
     "data": {
      "text/plain": [
       "216"
      ]
     },
     "execution_count": 12,
     "metadata": {},
     "output_type": "execute_result"
    }
   ],
   "source": [
    "x = {'power':3, 'numbers':[3,4,5]}\n",
    "add_powers(**x)\n",
    "#The 'keyword' used in the dictionary must be the same as the one used in the\n",
    "# function"
   ]
  },
  {
   "cell_type": "markdown",
   "id": "27e05b0b",
   "metadata": {},
   "source": [
    "# 3 Gotchas with passing variables to functions"
   ]
  },
  {
   "cell_type": "markdown",
   "id": "007da224",
   "metadata": {},
   "source": [
    "## 3.1 The Problem"
   ]
  },
  {
   "cell_type": "code",
   "execution_count": 14,
   "id": "9b977677",
   "metadata": {},
   "outputs": [
    {
     "name": "stdout",
     "output_type": "stream",
     "text": [
      "BEFORE|\tNumber: 10, Array: [10], List: [10]\n",
      "Doing something!\n",
      "AFTER|\tNumber: 10, Array: [20], List: [10, 10]\n"
     ]
    }
   ],
   "source": [
    "import numpy as np\n",
    "def do_something(inside_number, inside_array, inside_list):\n",
    "    print('Doing something!')\n",
    "    inside_number *= 2\n",
    "    inside_array *= 2\n",
    "    inside_list *= 2\n",
    "\n",
    "outside_number=10\n",
    "outside_array=np.array([10])\n",
    "outside_list=[10]\n",
    "\n",
    "print(f\"BEFORE|\\tNumber: {outside_number}, Array: {outside_array}, List: {outside_list}\")\n",
    "do_something(outside_number, outside_list, outside_array)\n",
    "print(f\"AFTER|\\tNumber: {outside_number}, Array: {outside_array}, List: {outside_list}\")"
   ]
  },
  {
   "cell_type": "markdown",
   "id": "2a68df49",
   "metadata": {},
   "source": [
    "## 3.2 An Explanation"
   ]
  },
  {
   "cell_type": "markdown",
   "id": "6d72aed1",
   "metadata": {},
   "source": [
    "**immutable** variables like numbers or tuples will **pass by value**, meaning what was done to the variable in the function will not affect it (unless u return something)\n",
    "\n",
    "**mutable** objects like arrays and lists can be changed using functions, and called **passing by reference**"
   ]
  },
  {
   "cell_type": "markdown",
   "id": "f2f20ff5",
   "metadata": {},
   "source": [
    "# 4 There is more to exceptions"
   ]
  },
  {
   "cell_type": "markdown",
   "id": "01faed06",
   "metadata": {},
   "source": [
    "## 4.1 A list of exceptions\n",
    "Can refer to the link [here](https://docs.python.org/3/library/exceptions.html) for the list of exceptions"
   ]
  },
  {
   "cell_type": "markdown",
   "id": "ed499943",
   "metadata": {},
   "source": [
    "|**Exception** |  **Description** |\n",
    "|:---|:---| \n",
    "|`AssertionError`  |  Raised when the assert statement fails.  | \n",
    "|`AttributeError`  |  Raised on the attribute assignment or reference fails.  | \n",
    "|`EOFError`  |  Raised when the input() function hits the end-of-file condition.  | \n",
    "|`FloatingPointError`  |   Raised when a floating point operation fails.\n",
    "|`ImportError`  | Raised when the imported module is not found.   | \n",
    "|`IndexError`  |  Raised when the index of a sequence is out of range.  | \n",
    "|`KeyError`  |  Raised when a key is not found in a dictionary.  | \n",
    "|`NameError`  |  Raised when a variable is not found in the local or global scope.  | \n",
    "|`OSError`  | Raised when a system operation causes a system-related error.   | \n",
    "|`OverflowError\t`  |  Raised when the result of an arithmetic operation is too large to be represented.  | \n",
    "|`RuntimeError`  |  Raised when an error does not fall under any other category.  | \n",
    "|`SyntaxError`  |   Raised by the parser when a syntax error is encountered. | \n",
    "|`IndentationError`  |  Raised when there is an incorrect indentation.  | \n",
    "|`SystemError`  |  Raised when the interpreter detects internal error.  | \n",
    "|`SystemExit`  |  Raised by the sys.exit() function.  | \n",
    "|`TypeError`  |  Raised when a function or operation is applied to an object of an incorrect type.  | \n",
    "|`UnboundLocalError`  |  Raised when a reference is made to a local variable in a function or method, but no value has been bound to that variable.  | \n",
    "|`ValueError`  |  Raised when a function gets an argument of correct type but improper value.  | \n",
    "|`ZeroDivisionError`  |   Raised when the second operand of a division or module operation is zero. | "
   ]
  },
  {
   "cell_type": "markdown",
   "id": "87eaa262",
   "metadata": {},
   "source": [
    "## 4.2 Handling specific exceptions\n",
    "can tell the try except loop to look for specfic functions"
   ]
  },
  {
   "cell_type": "code",
   "execution_count": 18,
   "id": "3ce2e9a7",
   "metadata": {},
   "outputs": [
    {
     "name": "stdout",
     "output_type": "stream",
     "text": [
      "Give me a number and I will calculate its square.213121.123123123123.1'\n",
      "Oh oh! I cannot square 213121.123123123123.1'!\n"
     ]
    }
   ],
   "source": [
    "try:\n",
    "    number=input(\"Give me a number and I will calculate its square.\")\n",
    "    square=int(number)**2\n",
    "    print(f'The square of {number} is {square}!')\n",
    "except ValueError:\n",
    "    print(f\"Oh oh! I cannot square {number}!\")"
   ]
  },
  {
   "cell_type": "markdown",
   "id": "b164f62f",
   "metadata": {},
   "source": [
    "## 4.3 try also has an else"
   ]
  },
  {
   "cell_type": "code",
   "execution_count": 19,
   "id": "260420d7",
   "metadata": {},
   "outputs": [
    {
     "name": "stdout",
     "output_type": "stream",
     "text": [
      "Give me a number and I will calculate its square.12\n",
      "The square of 12 is 144!\n",
      "Yeah! Things ran without a problem!\n"
     ]
    }
   ],
   "source": [
    "try:\n",
    "    number=input(\"Give me a number and I will calculate its square.\")\n",
    "    square=int(number)**2\n",
    "    print(f'The square of {number} is {square}!')\n",
    "except ValueError:\n",
    "    print(f\"Oh oh! I cannot square {number}!\")\n",
    "else:\n",
    "    print('Yeah! Things ran without a problem!')"
   ]
  },
  {
   "cell_type": "markdown",
   "id": "f965de7a",
   "metadata": {},
   "source": [
    "# Exercises"
   ]
  },
  {
   "cell_type": "markdown",
   "id": "aedafee6",
   "metadata": {},
   "source": [
    "I read in the intro that theres some exercise involving us saving functions which can be used in other documents, was it removed or moved to a different section?"
   ]
  }
 ],
 "metadata": {
  "kernelspec": {
   "display_name": "Python 3 (ipykernel)",
   "language": "python",
   "name": "python3"
  },
  "language_info": {
   "codemirror_mode": {
    "name": "ipython",
    "version": 3
   },
   "file_extension": ".py",
   "mimetype": "text/x-python",
   "name": "python",
   "nbconvert_exporter": "python",
   "pygments_lexer": "ipython3",
   "version": "3.11.5"
  },
  "toc": {
   "base_numbering": 1,
   "nav_menu": {},
   "number_sections": true,
   "sideBar": true,
   "skip_h1_title": false,
   "title_cell": "Table of Contents",
   "title_sidebar": "Contents",
   "toc_cell": false,
   "toc_position": {},
   "toc_section_display": true,
   "toc_window_display": false
  },
  "vscode": {
   "interpreter": {
    "hash": "31f2aee4e71d21fbe5cf8b01ff0e069b9275f58929596ceb00d14d90e3e16cd6"
   }
  }
 },
 "nbformat": 4,
 "nbformat_minor": 5
}
