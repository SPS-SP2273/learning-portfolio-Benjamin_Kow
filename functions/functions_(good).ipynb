{
 "cells": [
  {
   "cell_type": "markdown",
   "id": "123456",
   "metadata": {},
   "source": [
    "<div style=\"text-align:left;font-size:2em\"><span style=\"font-weight:bolder;font-size:1.25em\">SP2273 | Learning Portfolio</span><br><br><span style=\"font-weight:bold;color:darkred\">Functions (Good)</span></div>"
   ]
  },
  {
   "cell_type": "markdown",
   "id": "c1680a8a",
   "metadata": {},
   "source": [
    "# What to expect in this chapter"
   ]
  },
  {
   "cell_type": "markdown",
   "id": "6b7a1a8e",
   "metadata": {},
   "source": [
    "# 1 Checks, balances, and contingencies"
   ]
  },
  {
   "cell_type": "markdown",
   "id": "a3116e8a",
   "metadata": {},
   "source": [
    "## 1.1 assert\n",
    "This command tells python to try for a specfic condition and halt execution if necessary."
   ]
  },
  {
   "cell_type": "code",
   "execution_count": 4,
   "id": "b725f920",
   "metadata": {},
   "outputs": [
    {
     "name": "stdout",
     "output_type": "stream",
     "text": [
      "Integer:100\n"
     ]
    }
   ],
   "source": [
    "# Example\n",
    "x = input(\"Integer:\")\n",
    "x = int(x)`\n",
    "assert x > 10, \"This number is too small\"\n",
    "#It will return the message if the condition FAILS"
   ]
  },
  {
   "cell_type": "code",
   "execution_count": 5,
   "id": "451283ca",
   "metadata": {},
   "outputs": [
    {
     "name": "stdout",
     "output_type": "stream",
     "text": [
      "Integer:9\n"
     ]
    },
    {
     "ename": "AssertionError",
     "evalue": "This number is too small",
     "output_type": "error",
     "traceback": [
      "\u001b[1;31m---------------------------------------------------------------------------\u001b[0m",
      "\u001b[1;31mAssertionError\u001b[0m                            Traceback (most recent call last)",
      "Cell \u001b[1;32mIn[5], line 4\u001b[0m\n\u001b[0;32m      2\u001b[0m x \u001b[38;5;241m=\u001b[39m \u001b[38;5;28minput\u001b[39m(\u001b[38;5;124m\"\u001b[39m\u001b[38;5;124mInteger:\u001b[39m\u001b[38;5;124m\"\u001b[39m)\n\u001b[0;32m      3\u001b[0m x \u001b[38;5;241m=\u001b[39m \u001b[38;5;28mint\u001b[39m(x)\n\u001b[1;32m----> 4\u001b[0m \u001b[38;5;28;01massert\u001b[39;00m x \u001b[38;5;241m>\u001b[39m \u001b[38;5;241m10\u001b[39m, \u001b[38;5;124m\"\u001b[39m\u001b[38;5;124mThis number is too small\u001b[39m\u001b[38;5;124m\"\u001b[39m\n\u001b[0;32m      5\u001b[0m \u001b[38;5;66;03m#It will return the message if the condition FAILS\u001b[39;00m\n",
      "\u001b[1;31mAssertionError\u001b[0m: This number is too small"
     ]
    }
   ],
   "source": [
    "# Example\n",
    "x = input(\"Integer:\")\n",
    "x = int(x)\n",
    "assert x > 10, \"This number is too small\"\n",
    "#It will return the message if the condition FAILS"
   ]
  },
  {
   "cell_type": "markdown",
   "id": "0d8dc774",
   "metadata": {},
   "source": [
    "## 1.2 try-except\n",
    "Refer to one of the fundamentals exercises, python will do everything under 'try' before going to 'except' part "
   ]
  },
  {
   "cell_type": "code",
   "execution_count": 11,
   "id": "27abf32a",
   "metadata": {},
   "outputs": [
    {
     "name": "stdout",
     "output_type": "stream",
     "text": [
      "Please input an integer: a;jdf\n",
      "pls input an INTEGER!!!!!!!\n"
     ]
    }
   ],
   "source": [
    "x = input('Please input an integer: ')\n",
    "try:\n",
    "    x = int(x)\n",
    "    x = x**3\n",
    "    print(f'Your number cubed is {x}')\n",
    "except:\n",
    "    print('pls input an INTEGER!!!!!!!')"
   ]
  },
  {
   "cell_type": "markdown",
   "id": "f5563430",
   "metadata": {},
   "source": [
    "## 1.3 A simple suggestion\n",
    "Can use `print()` as a method for your code to tell you what it is doing, and also what it has done and where it has went wrong."
   ]
  },
  {
   "cell_type": "markdown",
   "id": "1850ae4d",
   "metadata": {},
   "source": [
    "# 2 Some loose ends"
   ]
  },
  {
   "cell_type": "markdown",
   "id": "29856d60",
   "metadata": {},
   "source": [
    "## 2.1 Positional, keyword and default arguments"
   ]
  },
  {
   "cell_type": "markdown",
   "id": "d463f359",
   "metadata": {},
   "source": [
    "3 main methods to input arguments into a function, **Positional**, **Keyword** as well as **Default**\n",
    "1. Positional: If no variable is stated, python will take arguments and assign them to the method which you defined in your function\n",
    "1. Keyword: where you state the variable name so the position does not matter.\n",
    "1. Default: This is the optional arguments which was mentioned previously, but in order to do this you must put the 'default' in the definition of the function."
   ]
  },
  {
   "cell_type": "code",
   "execution_count": 15,
   "id": "48503bbe",
   "metadata": {},
   "outputs": [],
   "source": [
    "def side_by_side(a, b, c=42):\n",
    "    return f'{a: 2d}|{b: 2d}|{c: 2d}'"
   ]
  },
  {
   "cell_type": "code",
   "execution_count": 16,
   "id": "75dd07ee",
   "metadata": {},
   "outputs": [
    {
     "data": {
      "text/plain": [
       "' 1| 2| 42'"
      ]
     },
     "execution_count": 16,
     "metadata": {},
     "output_type": "execute_result"
    }
   ],
   "source": [
    "side_by_side(1, 2)           # Two positional, 1 default\n",
    "## ' 1| 2| 42'\n",
    "side_by_side(1, 2, 3)        # Three positional\n",
    "## ' 1| 2| 3'\n",
    "side_by_side(a=1, b=2)       # Two keyword, 1 default\n",
    "## ' 1| 2| 42'\n",
    "side_by_side(c=3, b=1, a=2)  # Three keyword\n",
    "## ' 2| 1| 3'\n",
    "side_by_side(1, c=3, b=2)    # One positional, 2 keyword\n",
    "## ' 1| 2| 3'\n",
    "side_by_side(1, b=2)         # One positional, 1 keyword, 1 default\n",
    "## ' 1| 2| 42'"
   ]
  },
  {
   "cell_type": "code",
   "execution_count": 17,
   "id": "0d99a70c",
   "metadata": {},
   "outputs": [
    {
     "ename": "SyntaxError",
     "evalue": "positional argument follows keyword argument (210592462.py, line 3)",
     "output_type": "error",
     "traceback": [
      "\u001b[1;36m  Cell \u001b[1;32mIn[17], line 3\u001b[1;36m\u001b[0m\n\u001b[1;33m    side_by_side(a=2, 1)      # Won't work.\u001b[0m\n\u001b[1;37m                       ^\u001b[0m\n\u001b[1;31mSyntaxError\u001b[0m\u001b[1;31m:\u001b[0m positional argument follows keyword argument\n"
     ]
    }
   ],
   "source": [
    "# Keywords cannot be followed \n",
    "# by positional arguments\n",
    "side_by_side(a=2, 1)      # Won't work.                          \n",
    "# This is because it is ambiguous what variable is '1' meant to be assigned to   "
   ]
  },
  {
   "cell_type": "markdown",
   "id": "39cc1287",
   "metadata": {},
   "source": [
    "## 2.2 Docstrings\n",
    "You can put sentances inside a function to tell the user how to use it in `help()`"
   ]
  },
  {
   "cell_type": "code",
   "execution_count": 28,
   "id": "f5363995",
   "metadata": {},
   "outputs": [],
   "source": [
    "def my_function(x,y,z):\n",
    "    '''\n",
    "    This function is what you expect it to be...\n",
    "    it prints\n",
    "    x\n",
    "    y\n",
    "    z\n",
    "    ...mwahahaha\n",
    "    '''\n",
    "    print(x,y,z)\n",
    "    return \"bwahahaha\""
   ]
  },
  {
   "cell_type": "code",
   "execution_count": 29,
   "id": "9fd9e778",
   "metadata": {},
   "outputs": [
    {
     "name": "stdout",
     "output_type": "stream",
     "text": [
      "Help on function my_function in module __main__:\n",
      "\n",
      "my_function(x, y, z)\n",
      "    This function is what you expect it to be...\n",
      "    it prints\n",
      "    x\n",
      "    y\n",
      "    z\n",
      "    ...mwahahaha\n",
      "\n"
     ]
    }
   ],
   "source": [
    "help(my_function)"
   ]
  },
  {
   "cell_type": "code",
   "execution_count": 32,
   "id": "85501a3c",
   "metadata": {},
   "outputs": [],
   "source": [
    "# Why does this not work? wait why does this line come out instead....\n",
    "def my_thing(x,y,z):\n",
    "    print(x,y,z)\n",
    "    '''\n",
    "    This function is what you expect it to be...\n",
    "    it prints\n",
    "    x\n",
    "    y\n",
    "    z\n",
    "    ...mwahahaha\n",
    "    '''\n",
    "    return \"bwahahaha\""
   ]
  },
  {
   "cell_type": "code",
   "execution_count": 33,
   "id": "0e9baf95",
   "metadata": {},
   "outputs": [
    {
     "name": "stdout",
     "output_type": "stream",
     "text": [
      "Help on function my_thing in module __main__:\n",
      "\n",
      "my_thing(x, y, z)\n",
      "    # Why does this not work? wait why does this line come out instead....\n",
      "\n"
     ]
    }
   ],
   "source": [
    "help(my_thing)"
   ]
  },
  {
   "cell_type": "markdown",
   "id": "432ad293",
   "metadata": {},
   "source": [
    "## 2.3 Function are first-class citizens\n",
    "you can treat functions like arguments to a variable, just that you remove the brackets."
   ]
  },
  {
   "cell_type": "code",
   "execution_count": 35,
   "id": "ddf84d19",
   "metadata": {},
   "outputs": [
    {
     "data": {
      "text/plain": [
       "-0.5063656411097588"
      ]
     },
     "execution_count": 35,
     "metadata": {},
     "output_type": "execute_result"
    }
   ],
   "source": [
    "import numpy as np\n",
    "def function(angle, x):\n",
    "    return x(angle)\n",
    "\n",
    "function(100,np.sin)"
   ]
  },
  {
   "cell_type": "code",
   "execution_count": 37,
   "id": "1ee893a3",
   "metadata": {},
   "outputs": [
    {
     "data": {
      "text/plain": [
       "-1.0"
      ]
     },
     "execution_count": 37,
     "metadata": {},
     "output_type": "execute_result"
    }
   ],
   "source": [
    "function(np.pi/2,lambda x:np.cos(2*x)) \n",
    "# What role does lambda serve here?\n",
    "# lambda means the same as def just that it is conventionally used for \n",
    "# temporary functions which are also annoymous and short."
   ]
  },
  {
   "cell_type": "markdown",
   "id": "f4fd6b97",
   "metadata": {},
   "source": [
    "## 2.4 More about unpacking\n",
    "Python can assign different elements in lists and arrays to different variables."
   ]
  },
  {
   "cell_type": "code",
   "execution_count": 41,
   "id": "6bee0609",
   "metadata": {},
   "outputs": [
    {
     "name": "stdout",
     "output_type": "stream",
     "text": [
      "a 1 4\n"
     ]
    }
   ],
   "source": [
    "a,b,c=[\"a\",1,4]\n",
    "print(a,b,c) \n",
    "# Can assign sequentially"
   ]
  },
  {
   "cell_type": "code",
   "execution_count": 43,
   "id": "5326cc9d",
   "metadata": {},
   "outputs": [
    {
     "data": {
      "text/plain": [
       "(1203912.0, 0.0, 0.001)"
      ]
     },
     "execution_count": 43,
     "metadata": {},
     "output_type": "execute_result"
    }
   ],
   "source": [
    "x, y, z = np.array([1203912, 0, 0.001])\n",
    "x, y, z\n",
    "# same works for arrays just that they have to be the same type"
   ]
  },
  {
   "cell_type": "code",
   "execution_count": 45,
   "id": "bef1c232",
   "metadata": {},
   "outputs": [
    {
     "data": {
      "text/plain": [
       "(1, [2, 3, 4], 5)"
      ]
     },
     "execution_count": 45,
     "metadata": {},
     "output_type": "execute_result"
    }
   ],
   "source": [
    "x, *y, z = np.array([1, 2, 3, 4, 5])\n",
    "x, y, z\n",
    "# What does * mean? It tells me something about tuple unpacking... \n",
    "# The * assigns whatevers left after the order assignment. "
   ]
  },
  {
   "cell_type": "code",
   "execution_count": 49,
   "id": "699155a3",
   "metadata": {},
   "outputs": [
    {
     "data": {
      "text/plain": [
       "(1, 5, [2, 3, 4])"
      ]
     },
     "execution_count": 49,
     "metadata": {},
     "output_type": "execute_result"
    }
   ],
   "source": [
    "x, *_, y = [1, 2, 3, 4, 5]\n",
    "x, y, _\n",
    "# same for lists what this mean?"
   ]
  },
  {
   "cell_type": "code",
   "execution_count": 12,
   "id": "e791784a",
   "metadata": {},
   "outputs": [
    {
     "ename": "SyntaxError",
     "evalue": "invalid syntax (806982789.py, line 2)",
     "output_type": "error",
     "traceback": [
      "\u001b[1;36m  Cell \u001b[1;32mIn[12], line 2\u001b[1;36m\u001b[0m\n\u001b[1;33m    return grade += 100\u001b[0m\n\u001b[1;37m                 ^\u001b[0m\n\u001b[1;31mSyntaxError\u001b[0m\u001b[1;31m:\u001b[0m invalid syntax\n"
     ]
    }
   ],
   "source": [
    "\n",
    "    "
   ]
  },
  {
   "cell_type": "code",
   "execution_count": null,
   "id": "388aaf1f",
   "metadata": {},
   "outputs": [],
   "source": []
  }
 ],
 "metadata": {
  "kernelspec": {
   "display_name": "Python 3 (ipykernel)",
   "language": "python",
   "name": "python3"
  },
  "language_info": {
   "codemirror_mode": {
    "name": "ipython",
    "version": 3
   },
   "file_extension": ".py",
   "mimetype": "text/x-python",
   "name": "python",
   "nbconvert_exporter": "python",
   "pygments_lexer": "ipython3",
   "version": "3.11.5"
  },
  "toc": {
   "base_numbering": 1,
   "nav_menu": {},
   "number_sections": true,
   "sideBar": true,
   "skip_h1_title": false,
   "title_cell": "Table of Contents",
   "title_sidebar": "Contents",
   "toc_cell": false,
   "toc_position": {},
   "toc_section_display": true,
   "toc_window_display": false
  },
  "vscode": {
   "interpreter": {
    "hash": "31f2aee4e71d21fbe5cf8b01ff0e069b9275f58929596ceb00d14d90e3e16cd6"
   }
  }
 },
 "nbformat": 4,
 "nbformat_minor": 5
}
