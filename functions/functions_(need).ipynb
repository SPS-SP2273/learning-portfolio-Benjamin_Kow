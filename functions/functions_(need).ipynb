{
 "cells": [
  {
   "cell_type": "markdown",
   "id": "123456",
   "metadata": {},
   "source": [
    "<div style=\"text-align:left;font-size:2em\"><span style=\"font-weight:bolder;font-size:1.25em\">SP2273 | Learning Portfolio</span><br><br><span style=\"font-weight:bold;color:darkred\">Functions (Need)</span></div>"
   ]
  },
  {
   "cell_type": "markdown",
   "id": "6248031c",
   "metadata": {},
   "source": [
    "# What to expect in this chapter"
   ]
  },
  {
   "cell_type": "markdown",
   "id": "79ab0902",
   "metadata": {},
   "source": [
    "# 1 User-defined functions\n",
    "To main ways to make user defined functions, through named and annoymous functions"
   ]
  },
  {
   "cell_type": "markdown",
   "id": "4dfe3000",
   "metadata": {},
   "source": [
    "## 1.1 Named Functions"
   ]
  },
  {
   "cell_type": "markdown",
   "id": "966ffcde",
   "metadata": {},
   "source": [
    "### Named functions that return"
   ]
  },
  {
   "cell_type": "code",
   "execution_count": 3,
   "id": "d930b236",
   "metadata": {},
   "outputs": [],
   "source": [
    "def greetings(name):\n",
    "    if name == 'Benjamin':\n",
    "        print(f'Why are you greeting yourself?')\n",
    "    else:\n",
    "        return f'Good morning {name}! I am Benjamin'\n"
   ]
  },
  {
   "cell_type": "code",
   "execution_count": 4,
   "id": "5c21ecbe",
   "metadata": {},
   "outputs": [
    {
     "name": "stdout",
     "output_type": "stream",
     "text": [
      "Why are you greeting yourself?\n"
     ]
    }
   ],
   "source": [
    "greetings('Benjamin')"
   ]
  },
  {
   "cell_type": "code",
   "execution_count": 5,
   "id": "b3b57f93",
   "metadata": {},
   "outputs": [
    {
     "data": {
      "text/plain": [
       "'Good morning Ben! I am Benjamin'"
      ]
     },
     "execution_count": 5,
     "metadata": {},
     "output_type": "execute_result"
    }
   ],
   "source": [
    "greetings(name='Ben')"
   ]
  },
  {
   "cell_type": "code",
   "execution_count": 6,
   "id": "9b8b8fb4",
   "metadata": {},
   "outputs": [],
   "source": [
    "# Can have multiple outputs \n",
    "import numpy as np\n",
    "def basic_stats(numbers):\n",
    "    np_numbers = np.array(numbers)\n",
    "    my_min = np_numbers.min()\n",
    "    my_max = np_numbers.max()\n",
    "    my_mean = np_numbers.mean()\n",
    "    return my_max, my_min, my_mean"
   ]
  },
  {
   "cell_type": "code",
   "execution_count": 7,
   "id": "e2bf727c",
   "metadata": {},
   "outputs": [
    {
     "name": "stdout",
     "output_type": "stream",
     "text": [
      "5 1 3.0\n"
     ]
    }
   ],
   "source": [
    "biggest,smallest, mean = basic_stats([1,2,3,4,5])\n",
    "print(biggest,smallest,mean)"
   ]
  },
  {
   "cell_type": "markdown",
   "id": "588d9da8",
   "metadata": {},
   "source": [
    "### Named functions that don’t return\n",
    "Functions that don't return are ones that dont return any value, they instead do something just like `print()`"
   ]
  },
  {
   "cell_type": "markdown",
   "id": "407080f2",
   "metadata": {},
   "source": [
    "## 1.2 Anonymous functions\n",
    "Annoymous or **Lambda** functions are just one-liners"
   ]
  },
  {
   "cell_type": "code",
   "execution_count": 8,
   "id": "240c93c4",
   "metadata": {},
   "outputs": [],
   "source": [
    "my_short_function = lambda name: f\"Hello {name}!\" \n",
    "# Function which takes in a single parameter called name\n",
    "#But this is not really an annoymous function because it has a name technially "
   ]
  },
  {
   "cell_type": "code",
   "execution_count": 3,
   "id": "c55f03ae",
   "metadata": {},
   "outputs": [
    {
     "data": {
      "text/plain": [
       "'Hello Benjamin!'"
      ]
     },
     "execution_count": 3,
     "metadata": {},
     "output_type": "execute_result"
    }
   ],
   "source": [
    "my_short_function(\"Benjamin\")"
   ]
  },
  {
   "cell_type": "code",
   "execution_count": 9,
   "id": "d15beebf",
   "metadata": {},
   "outputs": [],
   "source": [
    "numbers=[[9, 0, -10],\n",
    "         [8, 1, -11],\n",
    "         [7, 2, -12],\n",
    "         [6, 3, -13],\n",
    "         [5, 4, -14],\n",
    "         [4, 5, -15],\n",
    "         [3, 6, -16],\n",
    "         [2, 7, -17],\n",
    "         [1, 8, -18],\n",
    "         [0, 9, -19]]"
   ]
  },
  {
   "cell_type": "markdown",
   "id": "b8153748",
   "metadata": {},
   "source": [
    "The three below are truly **annoymous** arguments"
   ]
  },
  {
   "cell_type": "code",
   "execution_count": 10,
   "id": "7618d058",
   "metadata": {},
   "outputs": [
    {
     "data": {
      "text/plain": [
       "[[0, 9, -19],\n",
       " [1, 8, -18],\n",
       " [2, 7, -17],\n",
       " [3, 6, -16],\n",
       " [4, 5, -15],\n",
       " [5, 4, -14],\n",
       " [6, 3, -13],\n",
       " [7, 2, -12],\n",
       " [8, 1, -11],\n",
       " [9, 0, -10]]"
      ]
     },
     "execution_count": 10,
     "metadata": {},
     "output_type": "execute_result"
    }
   ],
   "source": [
    "# Sort by comparing the default key\n",
    "# (i.e., the 1st element)\n",
    "sorted(numbers)"
   ]
  },
  {
   "cell_type": "code",
   "execution_count": 14,
   "id": "2c8fb0e1",
   "metadata": {
    "scrolled": true
   },
   "outputs": [
    {
     "data": {
      "text/plain": [
       "[[9, 0, -10],\n",
       " [8, 1, -11],\n",
       " [7, 2, -12],\n",
       " [6, 3, -13],\n",
       " [5, 4, -14],\n",
       " [4, 5, -15],\n",
       " [3, 6, -16],\n",
       " [2, 7, -17],\n",
       " [1, 8, -18],\n",
       " [0, 9, -19]]"
      ]
     },
     "execution_count": 14,
     "metadata": {},
     "output_type": "execute_result"
    }
   ],
   "source": [
    "# Sort by comparing a custom key\n",
    "# that uses the 2nd element (index=1)\n",
    "sorted(numbers, key=lambda x: x[1])\n",
    "# Here the lambda function as well as key is used here, what does lambda \n",
    "# function do? Does it just allow us to apply a condition?"
   ]
  },
  {
   "cell_type": "code",
   "execution_count": 15,
   "id": "4e924cdc",
   "metadata": {},
   "outputs": [
    {
     "data": {
      "text/plain": [
       "[[0, 9, -19],\n",
       " [1, 8, -18],\n",
       " [2, 7, -17],\n",
       " [3, 6, -16],\n",
       " [4, 5, -15],\n",
       " [5, 4, -14],\n",
       " [6, 3, -13],\n",
       " [7, 2, -12],\n",
       " [8, 1, -11],\n",
       " [9, 0, -10]]"
      ]
     },
     "execution_count": 15,
     "metadata": {},
     "output_type": "execute_result"
    }
   ],
   "source": [
    "# Sort by comparing a custom key\n",
    "# that uses the sum of the elements.\n",
    "sorted(numbers, key=lambda x: sum(x))   "
   ]
  },
  {
   "cell_type": "markdown",
   "id": "8bdbed2e",
   "metadata": {},
   "source": [
    "## 1.3 Optional arguments"
   ]
  },
  {
   "cell_type": "code",
   "execution_count": 23,
   "id": "6e33ae28",
   "metadata": {},
   "outputs": [
    {
     "name": "stdout",
     "output_type": "stream",
     "text": [
      "What's your name?lASJ\n"
     ]
    },
    {
     "data": {
      "text/plain": [
       "'why u dw talk :/'"
      ]
     },
     "execution_count": 23,
     "metadata": {},
     "output_type": "execute_result"
    }
   ],
   "source": [
    "def greeting(name = 'why u dw talk :/'):\n",
    "    if name == 'Benjamin':\n",
    "        return f'Hello Benjamin'\n",
    "    else:\n",
    "        return name \n",
    "\n",
    "name = input('What\\'s your name?')\n",
    "greeting()"
   ]
  },
  {
   "cell_type": "code",
   "execution_count": 24,
   "id": "23bddb35",
   "metadata": {},
   "outputs": [],
   "source": [
    "?print"
   ]
  },
  {
   "cell_type": "markdown",
   "id": "409c4c75",
   "metadata": {},
   "source": [
    "## 1.4 The importance of functions?"
   ]
  },
  {
   "cell_type": "markdown",
   "id": "ce62aa1c",
   "metadata": {},
   "source": [
    "### An argument for functions"
   ]
  },
  {
   "cell_type": "markdown",
   "id": "7e2622bd",
   "metadata": {},
   "source": [
    "Functions allows for the **abstraction** of ideas where you can hide certain more complicated details in another place.\n",
    "\n",
    "If you need this thing to be done repeatedly you can define it once and then just use the function continuously (**reusability**). \n",
    "\n",
    "It also allows for the **maintainence** of code because you only need to edit changes to the function, not at everywhere you need the use of the function.\n"
   ]
  },
  {
   "cell_type": "markdown",
   "id": "da00fe6f",
   "metadata": {},
   "source": [
    "### A word of caution"
   ]
  },
  {
   "cell_type": "markdown",
   "id": "3c57d2b1",
   "metadata": {},
   "source": [
    "Functions can be *misued* where there are **too many arguments** and **overcomplicated** which also increases computational overheads."
   ]
  }
 ],
 "metadata": {
  "kernelspec": {
   "display_name": "Python 3 (ipykernel)",
   "language": "python",
   "name": "python3"
  },
  "language_info": {
   "codemirror_mode": {
    "name": "ipython",
    "version": 3
   },
   "file_extension": ".py",
   "mimetype": "text/x-python",
   "name": "python",
   "nbconvert_exporter": "python",
   "pygments_lexer": "ipython3",
   "version": "3.11.5"
  },
  "toc": {
   "base_numbering": 1,
   "nav_menu": {},
   "number_sections": true,
   "sideBar": true,
   "skip_h1_title": false,
   "title_cell": "Table of Contents",
   "title_sidebar": "Contents",
   "toc_cell": false,
   "toc_position": {},
   "toc_section_display": true,
   "toc_window_display": false
  },
  "vscode": {
   "interpreter": {
    "hash": "31f2aee4e71d21fbe5cf8b01ff0e069b9275f58929596ceb00d14d90e3e16cd6"
   }
  }
 },
 "nbformat": 4,
 "nbformat_minor": 5
}
