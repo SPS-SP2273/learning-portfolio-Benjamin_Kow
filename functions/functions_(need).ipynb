{
 "cells": [
  {
   "cell_type": "markdown",
   "id": "123456",
   "metadata": {},
   "source": [
    "<div style=\"text-align:left;font-size:2em\"><span style=\"font-weight:bolder;font-size:1.25em\">SP2273 | Learning Portfolio</span><br><br><span style=\"font-weight:bold;color:darkred\">Functions (Need)</span></div>"
   ]
  },
  {
   "cell_type": "markdown",
   "id": "6248031c",
   "metadata": {},
   "source": [
    "# What to expect in this chapter"
   ]
  },
  {
   "cell_type": "markdown",
   "id": "79ab0902",
   "metadata": {},
   "source": [
    "# 1 User-defined functions\n",
    "To main ways to make user defined functions, through named and annoymous functions"
   ]
  },
  {
   "cell_type": "markdown",
   "id": "4dfe3000",
   "metadata": {},
   "source": [
    "## 1.1 Named Functions"
   ]
  },
  {
   "cell_type": "markdown",
   "id": "966ffcde",
   "metadata": {},
   "source": [
    "### Named functions that return"
   ]
  },
  {
   "cell_type": "code",
   "execution_count": 1,
   "id": "d930b236",
   "metadata": {},
   "outputs": [],
   "source": [
    "def greetings(name):\n",
    "    if name == 'Benjamin':\n",
    "        print(f'Why are you greeting yourself?')\n",
    "    else:\n",
    "        return f'Good morning {name}! I am Benjamin'\n"
   ]
  },
  {
   "cell_type": "code",
   "execution_count": 5,
   "id": "5c21ecbe",
   "metadata": {},
   "outputs": [
    {
     "name": "stdout",
     "output_type": "stream",
     "text": [
      "Why are you greeting yourself?\n"
     ]
    }
   ],
   "source": [
    "greetings('Benjamin')"
   ]
  },
  {
   "cell_type": "code",
   "execution_count": 6,
   "id": "b3b57f93",
   "metadata": {},
   "outputs": [
    {
     "data": {
      "text/plain": [
       "'Good morning Ben! I am Benjamin'"
      ]
     },
     "execution_count": 6,
     "metadata": {},
     "output_type": "execute_result"
    }
   ],
   "source": [
    "greetings(name='Ben')"
   ]
  },
  {
   "cell_type": "code",
   "execution_count": 7,
   "id": "9b8b8fb4",
   "metadata": {},
   "outputs": [],
   "source": [
    "# Can have multiple outputs \n",
    "import numpy as np\n",
    "def basic_stats(numbers):\n",
    "    np_numbers = np.array(numbers)\n",
    "    my_min = np_numbers.min()\n",
    "    my_max = np_numbers.max()\n",
    "    my_mean = np_numbers.mean()\n",
    "    return my_max, my_min, my_mean"
   ]
  },
  {
   "cell_type": "code",
   "execution_count": 12,
   "id": "e2bf727c",
   "metadata": {},
   "outputs": [
    {
     "name": "stdout",
     "output_type": "stream",
     "text": [
      "5 1 3.0\n"
     ]
    }
   ],
   "source": [
    "biggest,smallest, mean = basic_stats([1,2,3,4,5])\n",
    "print(biggest,smallest,mean)"
   ]
  },
  {
   "cell_type": "markdown",
   "id": "588d9da8",
   "metadata": {},
   "source": [
    "### Named functions that don’t return\n",
    "Functions that don't return are ones that dont return any value, they instead do something just like `print()`"
   ]
  },
  {
   "cell_type": "markdown",
   "id": "407080f2",
   "metadata": {},
   "source": [
    "## 1.2 Anonymous functions\n",
    "Annoymous or **Lambda** functions are just one-liners"
   ]
  },
  {
   "cell_type": "code",
   "execution_count": 4,
   "id": "240c93c4",
   "metadata": {},
   "outputs": [],
   "source": [
    "my_short_function = lambda name: f\"Hello {name}!\" \n",
    "# Function which takes in a single parameter called name\n",
    "#But this is not really an annoymous function because it has a name technially "
   ]
  },
  {
   "cell_type": "code",
   "execution_count": 3,
   "id": "c55f03ae",
   "metadata": {},
   "outputs": [
    {
     "data": {
      "text/plain": [
       "'Hello Benjamin!'"
      ]
     },
     "execution_count": 3,
     "metadata": {},
     "output_type": "execute_result"
    }
   ],
   "source": [
    "my_short_function(\"Benjamin\")"
   ]
  },
  {
   "cell_type": "markdown",
   "id": "8bdbed2e",
   "metadata": {},
   "source": [
    "## 1.3 Optional arguments"
   ]
  },
  {
   "cell_type": "markdown",
   "id": "409c4c75",
   "metadata": {},
   "source": [
    "## 1.4 The importance of functions?"
   ]
  },
  {
   "cell_type": "markdown",
   "id": "ce62aa1c",
   "metadata": {},
   "source": [
    "### An argument for functions"
   ]
  },
  {
   "cell_type": "code",
   "execution_count": null,
   "id": "a7dbe854",
   "metadata": {},
   "outputs": [],
   "source": [
    "\n",
    "# Your code here\n"
   ]
  },
  {
   "cell_type": "markdown",
   "id": "da00fe6f",
   "metadata": {},
   "source": [
    "### A word of caution"
   ]
  },
  {
   "cell_type": "code",
   "execution_count": null,
   "id": "93af2d9d",
   "metadata": {},
   "outputs": [],
   "source": [
    "\n",
    "# Your code here\n"
   ]
  }
 ],
 "metadata": {
  "kernelspec": {
   "display_name": "Python 3 (ipykernel)",
   "language": "python",
   "name": "python3"
  },
  "language_info": {
   "codemirror_mode": {
    "name": "ipython",
    "version": 3
   },
   "file_extension": ".py",
   "mimetype": "text/x-python",
   "name": "python",
   "nbconvert_exporter": "python",
   "pygments_lexer": "ipython3",
   "version": "3.11.5"
  },
  "toc": {
   "base_numbering": 1,
   "nav_menu": {},
   "number_sections": true,
   "sideBar": true,
   "skip_h1_title": false,
   "title_cell": "Table of Contents",
   "title_sidebar": "Contents",
   "toc_cell": false,
   "toc_position": {},
   "toc_section_display": true,
   "toc_window_display": false
  },
  "vscode": {
   "interpreter": {
    "hash": "31f2aee4e71d21fbe5cf8b01ff0e069b9275f58929596ceb00d14d90e3e16cd6"
   }
  }
 },
 "nbformat": 4,
 "nbformat_minor": 5
}
