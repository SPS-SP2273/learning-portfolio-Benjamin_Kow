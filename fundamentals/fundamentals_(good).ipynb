{
 "cells": [
  {
   "cell_type": "markdown",
   "id": "123456",
   "metadata": {},
   "source": [
    "<div style=\"text-align:left;font-size:2em\"><span style=\"font-weight:bolder;font-size:1.25em\">SP2273 | Learning Portfolio</span><br><br><span style=\"font-weight:bold;color:darkred\">Fundamentals (Good)</span></div>"
   ]
  },
  {
   "cell_type": "markdown",
   "id": "6ac5e83d",
   "metadata": {},
   "source": [
    "# What to expect in this chapter"
   ]
  },
  {
   "cell_type": "markdown",
   "id": "f7d294d3",
   "metadata": {},
   "source": [
    "# 1 There is more to if"
   ]
  },
  {
   "cell_type": "code",
   "execution_count": 1,
   "id": "2c524ab3",
   "metadata": {},
   "outputs": [
    {
     "name": "stdout",
     "output_type": "stream",
     "text": [
      "Goodnight\n"
     ]
    }
   ],
   "source": [
    "Says = 'I am so sleepy'\n",
    "\n",
    "if Says == 'I am so sleepy':\n",
    "    print('Goodnight')\n",
    "elif Says == 'I am not sleepy':\n",
    "    print('Good morning')\n",
    "else:\n",
    "    print('Good afternoon')"
   ]
  },
  {
   "cell_type": "markdown",
   "id": "da3c501f",
   "metadata": {},
   "source": [
    "# 2 Asking questions"
   ]
  },
  {
   "cell_type": "code",
   "execution_count": 4,
   "id": "b1aa5161",
   "metadata": {},
   "outputs": [
    {
     "data": {
      "text/plain": [
       "False"
      ]
     },
     "execution_count": 4,
     "metadata": {},
     "output_type": "execute_result"
    }
   ],
   "source": [
    "awake = ['10am', '11am','12nn','1pm','2pm', '3pm','4pm','5pm','6pm']\n",
    "sleeping = ['1am','2am','3am','4am','5am','6am','7am','8am','9am','7pm','8pm','9pm','10pm','11pm','12mn']\n",
    "\n",
    "'6pm' in sleeping"
   ]
  },
  {
   "cell_type": "code",
   "execution_count": 3,
   "id": "e0e72406",
   "metadata": {},
   "outputs": [
    {
     "data": {
      "text/plain": [
       "True"
      ]
     },
     "execution_count": 3,
     "metadata": {},
     "output_type": "execute_result"
    }
   ],
   "source": [
    "'1am' in sleeping"
   ]
  },
  {
   "cell_type": "code",
   "execution_count": 5,
   "id": "c5cebaf8",
   "metadata": {},
   "outputs": [
    {
     "data": {
      "text/plain": [
       "True"
      ]
     },
     "execution_count": 5,
     "metadata": {},
     "output_type": "execute_result"
    }
   ],
   "source": [
    "('10am' in awake) and ('1am' in sleeping)"
   ]
  },
  {
   "cell_type": "code",
   "execution_count": 6,
   "id": "c9cc6c2c",
   "metadata": {},
   "outputs": [
    {
     "data": {
      "text/plain": [
       "True"
      ]
     },
     "execution_count": 6,
     "metadata": {},
     "output_type": "execute_result"
    }
   ],
   "source": [
    "('11am' in awake) or ('1am' in sleeping)"
   ]
  },
  {
   "cell_type": "code",
   "execution_count": 7,
   "id": "3d5de42d",
   "metadata": {},
   "outputs": [
    {
     "data": {
      "text/plain": [
       "True"
      ]
     },
     "execution_count": 7,
     "metadata": {},
     "output_type": "execute_result"
    }
   ],
   "source": [
    "'11' in '11am'"
   ]
  },
  {
   "cell_type": "code",
   "execution_count": 8,
   "id": "366b8f97",
   "metadata": {},
   "outputs": [
    {
     "data": {
      "text/plain": [
       "False"
      ]
     },
     "execution_count": 8,
     "metadata": {},
     "output_type": "execute_result"
    }
   ],
   "source": [
    "'11am' > '1pm'"
   ]
  },
  {
   "cell_type": "code",
   "execution_count": 9,
   "id": "58299cbf",
   "metadata": {},
   "outputs": [
    {
     "data": {
      "text/plain": [
       "True"
      ]
     },
     "execution_count": 9,
     "metadata": {},
     "output_type": "execute_result"
    }
   ],
   "source": [
    "'5pm' > '1am'"
   ]
  },
  {
   "cell_type": "markdown",
   "id": "178be60a",
   "metadata": {},
   "source": [
    "## 3.1 Asking Math questions"
   ]
  },
  {
   "cell_type": "code",
   "execution_count": 13,
   "id": "5bbcc2da",
   "metadata": {},
   "outputs": [
    {
     "data": {
      "text/plain": [
       "True"
      ]
     },
     "execution_count": 13,
     "metadata": {},
     "output_type": "execute_result"
    }
   ],
   "source": [
    "x = 5\n",
    "x > 3 and x < 9\n",
    "3 < x < 9"
   ]
  },
  {
   "cell_type": "markdown",
   "id": "18071aa6",
   "metadata": {},
   "source": [
    "# 4 Python stores information in different formats or types"
   ]
  },
  {
   "cell_type": "code",
   "execution_count": 14,
   "id": "683cb7f6",
   "metadata": {},
   "outputs": [
    {
     "name": "stdout",
     "output_type": "stream",
     "text": [
      "1 <class 'int'>\n"
     ]
    }
   ],
   "source": [
    "x = int(1.234)\n",
    "print(x, type(x))"
   ]
  },
  {
   "cell_type": "code",
   "execution_count": 15,
   "id": "3acdbeef",
   "metadata": {},
   "outputs": [
    {
     "name": "stdout",
     "output_type": "stream",
     "text": [
      "1.234 <class 'str'>\n"
     ]
    }
   ],
   "source": [
    "x = str(1.234)\n",
    "print(x, type(x))"
   ]
  },
  {
   "cell_type": "code",
   "execution_count": 16,
   "id": "8c0e9d28",
   "metadata": {},
   "outputs": [
    {
     "name": "stdout",
     "output_type": "stream",
     "text": [
      "1.234 <class 'float'>\n"
     ]
    }
   ],
   "source": [
    "x = float(1.234)\n",
    "print(x, type(x))"
   ]
  },
  {
   "cell_type": "code",
   "execution_count": 20,
   "id": "14ca0e63",
   "metadata": {},
   "outputs": [
    {
     "name": "stdout",
     "output_type": "stream",
     "text": [
      "(-23.766+0j) <class 'complex'>\n"
     ]
    }
   ],
   "source": [
    "x = complex(1.234 + 5j**2)\n",
    "print(x, type(x))"
   ]
  },
  {
   "cell_type": "markdown",
   "id": "95da0922",
   "metadata": {},
   "source": [
    "# 5 Never compare floats directly"
   ]
  },
  {
   "cell_type": "markdown",
   "id": "bbf45236",
   "metadata": {},
   "source": [
    "## 5.1 The Problem"
   ]
  },
  {
   "cell_type": "code",
   "execution_count": 2,
   "id": "84da1490",
   "metadata": {},
   "outputs": [
    {
     "data": {
      "text/plain": [
       "False"
      ]
     },
     "execution_count": 2,
     "metadata": {},
     "output_type": "execute_result"
    }
   ],
   "source": [
    "a = 0.1\n",
    "a3 = 0.3\n",
    "a * 3 == a3"
   ]
  },
  {
   "cell_type": "code",
   "execution_count": 5,
   "id": "f3ae5ed4",
   "metadata": {},
   "outputs": [
    {
     "data": {
      "text/plain": [
       "str"
      ]
     },
     "execution_count": 5,
     "metadata": {},
     "output_type": "execute_result"
    }
   ],
   "source": [
    "f'{0.3:.21f}'\n",
    "type(f'{0.3:.21f}')"
   ]
  },
  {
   "cell_type": "markdown",
   "id": "b11577ca",
   "metadata": {},
   "source": [
    "## 5.2 A solution"
   ]
  },
  {
   "cell_type": "code",
   "execution_count": 8,
   "id": "02fe122a",
   "metadata": {},
   "outputs": [
    {
     "data": {
      "text/plain": [
       "True"
      ]
     },
     "execution_count": 8,
     "metadata": {},
     "output_type": "execute_result"
    }
   ],
   "source": [
    "eps = 1*10**-10 #can check if the floats are \n",
    "                #close to each other instead \n",
    "                #of exactly the same\n",
    "abs(a*3-a3) < eps"
   ]
  },
  {
   "cell_type": "code",
   "execution_count": 10,
   "id": "6796ed9d",
   "metadata": {},
   "outputs": [
    {
     "data": {
      "text/plain": [
       "True"
      ]
     },
     "execution_count": 10,
     "metadata": {},
     "output_type": "execute_result"
    }
   ],
   "source": [
    "import numpy as np\n",
    "np.isclose(a*3,a3)"
   ]
  },
  {
   "cell_type": "markdown",
   "id": "f5d666a6",
   "metadata": {},
   "source": [
    "# 6 Combining English and variables"
   ]
  },
  {
   "cell_type": "code",
   "execution_count": 13,
   "id": "17087a3e",
   "metadata": {},
   "outputs": [
    {
     "name": "stdout",
     "output_type": "stream",
     "text": [
      "Hello Yuan Zhe!\n"
     ]
    }
   ],
   "source": [
    "name = \"Yuan Zhe\"\n",
    "print(f\"Hello {name}!\")"
   ]
  },
  {
   "cell_type": "code",
   "execution_count": 14,
   "id": "13d97523",
   "metadata": {},
   "outputs": [
    {
     "name": "stdout",
     "output_type": "stream",
     "text": [
      "Hello YUAN ZHE!\n"
     ]
    }
   ],
   "source": [
    "print(f\"Hello {name.upper()}!\")"
   ]
  },
  {
   "cell_type": "code",
   "execution_count": 18,
   "id": "fbe09a46",
   "metadata": {},
   "outputs": [
    {
     "name": "stdout",
     "output_type": "stream",
     "text": [
      "The value of 100 squared is 10000\n"
     ]
    }
   ],
   "source": [
    "x=100\n",
    "print(f\"The value of {x} squared is {x**2}\")"
   ]
  },
  {
   "cell_type": "markdown",
   "id": "2db32045",
   "metadata": {},
   "source": [
    "## 6.1 Structure of f-strings"
   ]
  },
  {
   "cell_type": "markdown",
   "id": "49d5ee2f-63c4-4011-9741-6792e25a7150",
   "metadata": {},
   "source": [
    "This is f-string interpolation"
   ]
  },
  {
   "cell_type": "markdown",
   "id": "b1aaf432",
   "metadata": {},
   "source": [
    "![](Screenshot1.png)"
   ]
  },
  {
   "cell_type": "markdown",
   "id": "4679eb20",
   "metadata": {},
   "source": [
    "# 7 Escape sequences"
   ]
  },
  {
   "cell_type": "code",
   "execution_count": 10,
   "id": "56310b5d-d0cb-4c24-972c-b47f9143d173",
   "metadata": {},
   "outputs": [
    {
     "name": "stdout",
     "output_type": "stream",
     "text": [
      "Line 1\n",
      "\tLine 2\n",
      "\t\t Line 3\n"
     ]
    }
   ],
   "source": [
    "print('Line 1\\n\\tLine 2\\n\\t\\t Line 3')  #\\t is for horizontal tab and \n",
    "                                        # \\n is for line break"
   ]
  },
  {
   "cell_type": "code",
   "execution_count": 9,
   "id": "ef5b9c73-6ea4-4e10-b70c-df35b0869e9e",
   "metadata": {},
   "outputs": [
    {
     "name": "stdout",
     "output_type": "stream",
     "text": [
      "\\ is for backslash ' is for aprostophe\n"
     ]
    }
   ],
   "source": [
    "print(\"\\\\ is for backslash \\' is for aprostophe\")"
   ]
  },
  {
   "cell_type": "markdown",
   "id": "02efd807",
   "metadata": {},
   "source": [
    "# 8 Computers read = from Right to Left!"
   ]
  },
  {
   "cell_type": "code",
   "execution_count": 15,
   "id": "a1131928-ce5f-41a2-bcb5-ad5f9b1d5d81",
   "metadata": {},
   "outputs": [
    {
     "name": "stdout",
     "output_type": "stream",
     "text": [
      "1000\n"
     ]
    }
   ],
   "source": [
    "x = y = 10\n",
    "y = x**2 \n",
    "print(y*x)"
   ]
  },
  {
   "cell_type": "markdown",
   "id": "341dad57",
   "metadata": {},
   "source": [
    "# 9 Shorter and Cleaner Code"
   ]
  },
  {
   "cell_type": "code",
   "execution_count": 16,
   "id": "c630736d-4c89-4c3a-869b-d8b7c8a5fcda",
   "metadata": {},
   "outputs": [
    {
     "data": {
      "text/plain": [
       "42"
      ]
     },
     "execution_count": 16,
     "metadata": {},
     "output_type": "execute_result"
    }
   ],
   "source": [
    "y = 40\n",
    "y += 2 # This is the same as y = y + 2\n",
    "y"
   ]
  },
  {
   "cell_type": "code",
   "execution_count": 18,
   "id": "4f318d75-97bb-41cc-84fd-bcc8f4ce1ad9",
   "metadata": {},
   "outputs": [],
   "source": [
    "y *= 2 # is the same as y = y*2 just change the operator before\n",
    "       # and the number after\n",
    "    "
   ]
  },
  {
   "cell_type": "markdown",
   "id": "b83db675",
   "metadata": {},
   "source": [
    "# 10 Python can be a prima-donna."
   ]
  },
  {
   "cell_type": "markdown",
   "id": "45ccfdd7",
   "metadata": {},
   "source": [
    "# 11 Best Practices for Scientific Computing"
   ]
  },
  {
   "cell_type": "markdown",
   "id": "887c0cd2-12ff-4a13-a243-0d291a540eed",
   "metadata": {},
   "source": [
    "1. Write programs for people, not computers.\n",
    "2. Optimise software only after it works correctly.\n",
    "3. Document design and purpose, not mechanics\n",
    "4. Collaborate."
   ]
  },
  {
   "cell_type": "markdown",
   "id": "b11e5ef6",
   "metadata": {},
   "source": [
    "# 12 Looking for help"
   ]
  },
  {
   "cell_type": "code",
   "execution_count": 19,
   "id": "e71356ab-6e47-41ac-b10c-553ada1737b8",
   "metadata": {},
   "outputs": [
    {
     "name": "stdout",
     "output_type": "stream",
     "text": [
      "Help on built-in function print in module builtins:\n",
      "\n",
      "print(*args, sep=' ', end='\\n', file=None, flush=False)\n",
      "    Prints the values to a stream, or to sys.stdout by default.\n",
      "    \n",
      "    sep\n",
      "      string inserted between values, default a space.\n",
      "    end\n",
      "      string appended after the last value, default a newline.\n",
      "    file\n",
      "      a file-like object (stream); defaults to the current sys.stdout.\n",
      "    flush\n",
      "      whether to forcibly flush the stream.\n",
      "\n"
     ]
    }
   ],
   "source": [
    "help(print)"
   ]
  },
  {
   "cell_type": "markdown",
   "id": "562431d7",
   "metadata": {},
   "source": [
    "## References"
   ]
  },
  {
   "cell_type": "markdown",
   "id": "ad8ef5de",
   "metadata": {},
   "source": [
    "## Footnotes"
   ]
  }
 ],
 "metadata": {
  "kernelspec": {
   "display_name": "Python 3 (ipykernel)",
   "language": "python",
   "name": "python3"
  },
  "language_info": {
   "codemirror_mode": {
    "name": "ipython",
    "version": 3
   },
   "file_extension": ".py",
   "mimetype": "text/x-python",
   "name": "python",
   "nbconvert_exporter": "python",
   "pygments_lexer": "ipython3",
   "version": "3.11.5"
  },
  "toc": {
   "base_numbering": 1,
   "nav_menu": {},
   "number_sections": true,
   "sideBar": true,
   "skip_h1_title": false,
   "title_cell": "Table of Contents",
   "title_sidebar": "Contents",
   "toc_cell": false,
   "toc_position": {},
   "toc_section_display": true,
   "toc_window_display": false
  },
  "vscode": {
   "interpreter": {
    "hash": "31f2aee4e71d21fbe5cf8b01ff0e069b9275f58929596ceb00d14d90e3e16cd6"
   }
  }
 },
 "nbformat": 4,
 "nbformat_minor": 5
}
