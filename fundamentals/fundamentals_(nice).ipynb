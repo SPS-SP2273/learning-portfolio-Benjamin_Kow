{
 "cells": [
  {
   "cell_type": "markdown",
   "id": "123456",
   "metadata": {},
   "source": [
    "<div style=\"text-align:left;font-size:2em\"><span style=\"font-weight:bolder;font-size:1.25em\">SP2273 | Learning Portfolio</span><br><br><span style=\"font-weight:bold;color:darkred\">Fundamentals (Nice)</span></div>"
   ]
  },
  {
   "cell_type": "markdown",
   "id": "3ef27faa",
   "metadata": {},
   "source": [
    "# 1 If if is not enough"
   ]
  },
  {
   "cell_type": "markdown",
   "id": "85ca02f4",
   "metadata": {},
   "source": [
    "One can use the `match` and `case` conditionals if the `ifelse` conditions are too klunky. match case just matches words. Example below"
   ]
  },
  {
   "cell_type": "code",
   "execution_count": 2,
   "id": "d5e90dfe",
   "metadata": {},
   "outputs": [
    {
     "name": "stdout",
     "output_type": "stream",
     "text": [
      "Hello | Yuan Zhe\n"
     ]
    }
   ],
   "source": [
    "name = 'Yuan Zhe'\n",
    "\n",
    "match name:\n",
    "    case 'Yuan Zhe':\n",
    "        print('Hello | Yuan Zhe')\n",
    "    case 'Yuan Ze':\n",
    "        print('You got my name wrong.')\n",
    "    case _:\n",
    "        print('You did not say any name...')"
   ]
  },
  {
   "cell_type": "markdown",
   "id": "d50e0f6c",
   "metadata": {},
   "source": [
    "# 2 Ternary operators or Conditional Statements"
   ]
  },
  {
   "cell_type": "markdown",
   "id": "02d4b5fe",
   "metadata": {},
   "source": [
    "You can also replace the `if else` conditionals with single line conditionals to help reduce the amount of space the code takes."
   ]
  },
  {
   "cell_type": "code",
   "execution_count": 6,
   "id": "460973c1",
   "metadata": {},
   "outputs": [
    {
     "name": "stdout",
     "output_type": "stream",
     "text": [
      "Hello Yuan Zhe\n"
     ]
    }
   ],
   "source": [
    "name = 'Yuan Zhe'\n",
    "\n",
    "print('Hello Yuan Zhe') if name == 'Yuan Zhe' else 'hello'\n"
   ]
  },
  {
   "cell_type": "code",
   "execution_count": 8,
   "id": "633bd42f",
   "metadata": {},
   "outputs": [
    {
     "data": {
      "text/plain": [
       "'Hello Yuan Zhe'"
      ]
     },
     "execution_count": 8,
     "metadata": {},
     "output_type": "execute_result"
    }
   ],
   "source": [
    "name = 'Yuan Zhe'\n",
    "( 'Hello whats your name','Hello Yuan Zhe')[name == 'Yuan Zhe']"
   ]
  },
  {
   "cell_type": "code",
   "execution_count": 12,
   "id": "bf46a96e",
   "metadata": {},
   "outputs": [],
   "source": [
    "text = None\n",
    "message = text or 'No message!'"
   ]
  },
  {
   "cell_type": "markdown",
   "id": "01b6e3bb",
   "metadata": {},
   "source": [
    "# 3 Swapping values\n",
    "can swap values easily, but ONLY in python"
   ]
  },
  {
   "cell_type": "code",
   "execution_count": 13,
   "id": "3b68850f",
   "metadata": {},
   "outputs": [
    {
     "name": "stdout",
     "output_type": "stream",
     "text": [
      "2 1\n"
     ]
    }
   ],
   "source": [
    "a, b = 1, 2\n",
    "a, b = b, a\n",
    "print(a, b)"
   ]
  },
  {
   "cell_type": "markdown",
   "id": "c6ec2bcd",
   "metadata": {},
   "source": [
    "# 4 There are more types"
   ]
  },
  {
   "cell_type": "code",
   "execution_count": 19,
   "id": "10d69246",
   "metadata": {},
   "outputs": [
    {
     "name": "stdout",
     "output_type": "stream",
     "text": [
      "float          : 2.220446049250313e-16\n",
      "float16        : 0.000977\n",
      "float32        : 1.1920929e-07\n",
      "float64        : 2.220446049250313e-16\n",
      "longdouble     : 2.220446049250313e-16\n"
     ]
    }
   ],
   "source": [
    "# I dont really understand waht the numbers mean\n",
    "import numpy as np\n",
    "my_types = [\n",
    "    float,       # Default for core Python on my machine\n",
    "    np.float16, \n",
    "    np.float32,\n",
    "    np.float64,\n",
    "    np.longdouble\n",
    "]\n",
    "\n",
    "for my_type in my_types:\n",
    "    print(f'{my_type.__name__:<15s}:', np.finfo(my_type).eps)"
   ]
  },
  {
   "cell_type": "markdown",
   "id": "022d9ce1",
   "metadata": {},
   "source": [
    "# 5 Operator precedance\n",
    "Just a useful table you can refer to\n",
    "![](Fundamentals_nice.png)"
   ]
  },
  {
   "cell_type": "markdown",
   "id": "fecfc4eb",
   "metadata": {},
   "source": [
    "# 6 Variables in Python are just names"
   ]
  },
  {
   "cell_type": "markdown",
   "id": "5c5ff0e2",
   "metadata": {},
   "source": [
    "## 6.1 The Problem"
   ]
  },
  {
   "cell_type": "code",
   "execution_count": 24,
   "id": "bc6ad568",
   "metadata": {},
   "outputs": [
    {
     "name": "stdout",
     "output_type": "stream",
     "text": [
      "x: [1, 2, 3], y: [1, 2, 3]\n"
     ]
    }
   ],
   "source": [
    "x = [1, 2]\n",
    "y = x\n",
    "y.append(3)\n",
    "\n",
    "print(f\"x: {x}, y: {y}\")"
   ]
  },
  {
   "cell_type": "markdown",
   "id": "cba8f4ba",
   "metadata": {},
   "source": [
    "## 6.2 An explanation"
   ]
  },
  {
   "cell_type": "code",
   "execution_count": 25,
   "id": "199d8806",
   "metadata": {},
   "outputs": [
    {
     "name": "stdout",
     "output_type": "stream",
     "text": [
      "x: 140719294157608, y: 140719294157608, 1: 140719294157608\n"
     ]
    }
   ],
   "source": [
    "# Code 1\n",
    "x = 1\n",
    "y = 1\n",
    "\n",
    "print(f\"x: {id(x)}, y: {id(y)}, 1: {id(1)}\")"
   ]
  },
  {
   "cell_type": "code",
   "execution_count": 26,
   "id": "1971c1f9",
   "metadata": {},
   "outputs": [
    {
     "name": "stdout",
     "output_type": "stream",
     "text": [
      "x: 140719294157608, y: 140719294157640\n"
     ]
    }
   ],
   "source": [
    "# Code 2\n",
    "x = 1\n",
    "y = x + 1\n",
    "\n",
    "print(f\"x: {id(x)}, y: {id(y)}\")"
   ]
  },
  {
   "cell_type": "code",
   "execution_count": 27,
   "id": "3eaafca7",
   "metadata": {},
   "outputs": [
    {
     "name": "stdout",
     "output_type": "stream",
     "text": [
      "1: 140719294157608, 2: 140719294157640\n"
     ]
    }
   ],
   "source": [
    "print(f\"1: {id(1)}, 2: {id(2)}\")"
   ]
  },
  {
   "cell_type": "code",
   "execution_count": 28,
   "id": "fd47ddac",
   "metadata": {},
   "outputs": [],
   "source": [
    "# x is bound to a list object with a value [1 ,2]\n",
    "x = [1, 2]\n",
    "\n",
    "# y is bound to the SAME list object with a value [1 ,2]\n",
    "y = x\n",
    "\n",
    "# y is used to change the value of the object from  [1, 2] to [1, 2, 3]\n",
    "y.append(3)"
   ]
  },
  {
   "cell_type": "markdown",
   "id": "c29b9871",
   "metadata": {},
   "source": [
    "So because a list [] is a mutable object, when you bind y to x and when you edit y, it is the list which changes, and thus the value of x changes as well. "
   ]
  },
  {
   "cell_type": "markdown",
   "id": "c8c89b10",
   "metadata": {},
   "source": [
    "## 6.3 A solution"
   ]
  },
  {
   "cell_type": "code",
   "execution_count": 29,
   "id": "7a9ceae4",
   "metadata": {},
   "outputs": [],
   "source": [
    "y = x.copy() # this will make a copy of list x at a different location \n",
    "             # rather than bind list y to list x"
   ]
  },
  {
   "cell_type": "markdown",
   "id": "53b38e3c",
   "metadata": {},
   "source": [
    "# 7 == is not the same as is\n",
    "\n",
    "`x is y` checks for identity, meaning if both variables have the same ID and are bound to the same location\n",
    "\n",
    "`x ==y` checks for equality by running a function that checks for equality. **not too sure what this means, could I have a hint or will i find out later?**"
   ]
  },
  {
   "cell_type": "markdown",
   "id": "b95cf18d",
   "metadata": {},
   "source": [
    "## Footnotes"
   ]
  }
 ],
 "metadata": {
  "kernelspec": {
   "display_name": "Python 3 (ipykernel)",
   "language": "python",
   "name": "python3"
  },
  "language_info": {
   "codemirror_mode": {
    "name": "ipython",
    "version": 3
   },
   "file_extension": ".py",
   "mimetype": "text/x-python",
   "name": "python",
   "nbconvert_exporter": "python",
   "pygments_lexer": "ipython3",
   "version": "3.11.5"
  },
  "toc": {
   "base_numbering": 1,
   "nav_menu": {},
   "number_sections": true,
   "sideBar": true,
   "skip_h1_title": false,
   "title_cell": "Table of Contents",
   "title_sidebar": "Contents",
   "toc_cell": false,
   "toc_position": {},
   "toc_section_display": true,
   "toc_window_display": false
  },
  "vscode": {
   "interpreter": {
    "hash": "31f2aee4e71d21fbe5cf8b01ff0e069b9275f58929596ceb00d14d90e3e16cd6"
   }
  }
 },
 "nbformat": 4,
 "nbformat_minor": 5
}
