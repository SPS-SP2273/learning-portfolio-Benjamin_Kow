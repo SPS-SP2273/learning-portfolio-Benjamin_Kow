{
 "cells": [
  {
   "cell_type": "markdown",
   "id": "123456",
   "metadata": {},
   "source": [
    "<div style=\"text-align:left;font-size:2em\"><span style=\"font-weight:bolder;font-size:1.25em\">SP2273 | Learning Portfolio</span><br><br><span style=\"font-weight:bold;color:darkred\">Fundamentals (Need)</span></div>"
   ]
  },
  {
   "cell_type": "markdown",
   "id": "fbc3bb09",
   "metadata": {
    "jp-MarkdownHeadingCollapsed": true
   },
   "source": [
    "# What to expect in this chapter"
   ]
  },
  {
   "cell_type": "markdown",
   "id": "6adca581",
   "metadata": {},
   "source": [
    "# Functions"
   ]
  },
  {
   "cell_type": "code",
   "execution_count": 1,
   "id": "a4f2df74",
   "metadata": {},
   "outputs": [
    {
     "name": "stdout",
     "output_type": "stream",
     "text": [
      "Hello world!\n"
     ]
    }
   ],
   "source": [
    "print('Hello world!')"
   ]
  },
  {
   "cell_type": "markdown",
   "id": "55d986b4",
   "metadata": {
    "jp-MarkdownHeadingCollapsed": true
   },
   "source": [
    "# Remember"
   ]
  },
  {
   "cell_type": "markdown",
   "id": "4b85c3a0",
   "metadata": {},
   "source": [
    "# Python is interpreted"
   ]
  },
  {
   "cell_type": "code",
   "execution_count": 2,
   "id": "803d50da",
   "metadata": {},
   "outputs": [
    {
     "name": "stdout",
     "output_type": "stream",
     "text": [
      "Hello World\n",
      "Hello World again\n"
     ]
    }
   ],
   "source": [
    "print('Hello World')\n",
    "print('Hello World again')"
   ]
  },
  {
   "cell_type": "markdown",
   "id": "3521ea94",
   "metadata": {},
   "source": [
    "# Python is sensitive."
   ]
  },
  {
   "cell_type": "code",
   "execution_count": 4,
   "id": "e87eeb1d",
   "metadata": {},
   "outputs": [
    {
     "name": "stdout",
     "output_type": "stream",
     "text": [
      "hello world\n"
     ]
    },
    {
     "ename": "NameError",
     "evalue": "name 'Print' is not defined",
     "output_type": "error",
     "traceback": [
      "\u001b[1;31m---------------------------------------------------------------------------\u001b[0m",
      "\u001b[1;31mNameError\u001b[0m                                 Traceback (most recent call last)",
      "Cell \u001b[1;32mIn[4], line 3\u001b[0m\n\u001b[0;32m      1\u001b[0m \u001b[38;5;66;03m#Python is case sensitive \u001b[39;00m\n\u001b[0;32m      2\u001b[0m \u001b[38;5;28mprint\u001b[39m(\u001b[38;5;124m'\u001b[39m\u001b[38;5;124mhello world\u001b[39m\u001b[38;5;124m'\u001b[39m) \u001b[38;5;66;03m#This will work but capital P will not\u001b[39;00m\n\u001b[1;32m----> 3\u001b[0m \u001b[43mPrint\u001b[49m(\u001b[38;5;124m'\u001b[39m\u001b[38;5;124mhello world\u001b[39m\u001b[38;5;124m'\u001b[39m)\n",
      "\u001b[1;31mNameError\u001b[0m: name 'Print' is not defined"
     ]
    }
   ],
   "source": [
    "#Python is case sensitive \n",
    "print('hello world') #This will work but capital P will not\n",
    "Print('hello world')"
   ]
  },
  {
   "cell_type": "markdown",
   "id": "149f2f99",
   "metadata": {},
   "source": [
    "# Comments"
   ]
  },
  {
   "cell_type": "code",
   "execution_count": 1,
   "id": "34606289",
   "metadata": {},
   "outputs": [],
   "source": [
    "# '#' is a comment, anything after the symbol will be ignored"
   ]
  },
  {
   "cell_type": "code",
   "execution_count": 10,
   "id": "4c3e9129-bf71-4d15-afb9-11665ed0568c",
   "metadata": {},
   "outputs": [
    {
     "data": {
      "text/plain": [
       "'\\nThis is a multi\\nline\\ncomment \\n'"
      ]
     },
     "execution_count": 10,
     "metadata": {},
     "output_type": "execute_result"
    }
   ],
   "source": [
    "'''\n",
    "This is a multi\n",
    "line\n",
    "comment \n",
    "'''"
   ]
  },
  {
   "cell_type": "markdown",
   "id": "73af474e",
   "metadata": {},
   "source": [
    "# = is not the same as =="
   ]
  },
  {
   "cell_type": "code",
   "execution_count": 7,
   "id": "924bd6ce",
   "metadata": {},
   "outputs": [
    {
     "data": {
      "text/plain": [
       "True"
      ]
     },
     "execution_count": 7,
     "metadata": {},
     "output_type": "execute_result"
    }
   ],
   "source": [
    "name = 'Batman'  # This makes 'name' carry 'Batman'\n",
    "name == 'Batman' # This tells us if 'name' is 'Batman'\n",
    "               # Answer: T or F?"
   ]
  },
  {
   "cell_type": "markdown",
   "id": "fad488bc",
   "metadata": {},
   "source": [
    "# Use if to make decisions"
   ]
  },
  {
   "cell_type": "code",
   "execution_count": 11,
   "id": "c687b7f4",
   "metadata": {},
   "outputs": [
    {
     "name": "stdout",
     "output_type": "stream",
     "text": [
      "Hello Batman!\n"
     ]
    }
   ],
   "source": [
    "name = 'Batman'\n",
    "if name == 'Batman':\n",
    "    print('Hello Batman!')\n",
    "else:\n",
    "    print('Hello World!')"
   ]
  },
  {
   "cell_type": "markdown",
   "id": "45830169",
   "metadata": {},
   "source": [
    "# Indentations (spaces) are sooo IMPORTANT!"
   ]
  },
  {
   "cell_type": "code",
   "execution_count": 12,
   "id": "9559ef4c",
   "metadata": {},
   "outputs": [
    {
     "ename": "IndentationError",
     "evalue": "unexpected indent (448194680.py, line 3)",
     "output_type": "error",
     "traceback": [
      "\u001b[1;36m  Cell \u001b[1;32mIn[12], line 3\u001b[1;36m\u001b[0m\n\u001b[1;33m    print(x) #This does not work beacause of the indent\u001b[0m\n\u001b[1;37m    ^\u001b[0m\n\u001b[1;31mIndentationError\u001b[0m\u001b[1;31m:\u001b[0m unexpected indent\n"
     ]
    }
   ],
   "source": [
    "x = 10\n",
    "print(x) #This works\n",
    "    print(x) #This does not work beacause of the indent"
   ]
  },
  {
   "cell_type": "markdown",
   "id": "cb03d0e3",
   "metadata": {},
   "source": [
    "# 'age’ is English, age is a variable."
   ]
  },
  {
   "cell_type": "code",
   "execution_count": 13,
   "id": "831298f6",
   "metadata": {},
   "outputs": [
    {
     "name": "stdout",
     "output_type": "stream",
     "text": [
      "age\n",
      "10\n"
     ]
    }
   ],
   "source": [
    "age = 10\n",
    "\n",
    "print('age')\n",
    "print(age)\n",
    "#anything with '' means the word instead of the variable"
   ]
  },
  {
   "cell_type": "markdown",
   "id": "d7c16c2b",
   "metadata": {},
   "source": [
    " # Brackets"
   ]
  },
  {
   "cell_type": "code",
   "execution_count": 2,
   "id": "49aa59b1",
   "metadata": {},
   "outputs": [
    {
     "name": "stdout",
     "output_type": "stream",
     "text": [
      "Hello!\n"
     ]
    }
   ],
   "source": [
    "print('Hello!') # () is for functions"
   ]
  },
  {
   "cell_type": "code",
   "execution_count": 3,
   "id": "45fed0b8",
   "metadata": {},
   "outputs": [
    {
     "data": {
      "text/plain": [
       "8800"
      ]
     },
     "execution_count": 3,
     "metadata": {},
     "output_type": "execute_result"
    }
   ],
   "source": [
    "(23 + 21) *200 # Brackets also apply for math"
   ]
  },
  {
   "cell_type": "code",
   "execution_count": 4,
   "id": "771f2355",
   "metadata": {},
   "outputs": [],
   "source": [
    "list_1D = [1, 2, 3, 4, 5, 9, 8] # [] makes a list, this is a 1D list\n",
    "\n",
    "list_2D = [ # This is a 2D list\n",
    "            [1,\"B\"], \n",
    "            [2,\"C\"]\n",
    "]\n"
   ]
  },
  {
   "cell_type": "code",
   "execution_count": 5,
   "id": "c18cdaf4",
   "metadata": {},
   "outputs": [
    {
     "name": "stdout",
     "output_type": "stream",
     "text": [
      "8am - 10am\n"
     ]
    }
   ],
   "source": [
    "Module_Information = {\n",
    "    'Course code': 'SP2273',\n",
    "    'Course title': 'Working on interdisciplinary science, Pythonically',\n",
    "    'Time slot': '8am - 10am'\n",
    "}\n",
    "\n",
    "print(Module_Information['Time slot'])"
   ]
  },
  {
   "cell_type": "markdown",
   "id": "8c77a14e",
   "metadata": {},
   "source": [
    "# Giving Python superpowers with Packages"
   ]
  },
  {
   "cell_type": "code",
   "execution_count": 6,
   "id": "e9d03dba",
   "metadata": {},
   "outputs": [
    {
     "data": {
      "text/plain": [
       "-403501.5"
      ]
     },
     "execution_count": 6,
     "metadata": {},
     "output_type": "execute_result"
    }
   ],
   "source": [
    "123 * ((2-5)**9) / 6 # ** represents powers"
   ]
  },
  {
   "cell_type": "code",
   "execution_count": 7,
   "id": "a2b09d2c",
   "metadata": {},
   "outputs": [
    {
     "ename": "NameError",
     "evalue": "name 'sqrt' is not defined",
     "output_type": "error",
     "traceback": [
      "\u001b[1;31m---------------------------------------------------------------------------\u001b[0m",
      "\u001b[1;31mNameError\u001b[0m                                 Traceback (most recent call last)",
      "Cell \u001b[1;32mIn[7], line 1\u001b[0m\n\u001b[1;32m----> 1\u001b[0m \u001b[43msqrt\u001b[49m(\u001b[38;5;241m5\u001b[39m) \u001b[38;5;66;03m# This doesn't work\u001b[39;00m\n",
      "\u001b[1;31mNameError\u001b[0m: name 'sqrt' is not defined"
     ]
    }
   ],
   "source": [
    "sqrt(5) # This doesn't work"
   ]
  },
  {
   "cell_type": "code",
   "execution_count": null,
   "id": "7d2232ad",
   "metadata": {},
   "outputs": [],
   "source": [
    "import math \n",
    "math.sqrt(5)"
   ]
  },
  {
   "cell_type": "code",
   "execution_count": null,
   "id": "67e5e2c4",
   "metadata": {},
   "outputs": [],
   "source": [
    "import numpy as np # call an imported package as something easier to call later\n",
    "np.sqrt(67)"
   ]
  },
  {
   "cell_type": "markdown",
   "id": "e7aa24b2",
   "metadata": {},
   "source": [
    "## Why so many packages?"
   ]
  },
  {
   "cell_type": "code",
   "execution_count": null,
   "id": "f5f28ef0",
   "metadata": {},
   "outputs": [],
   "source": [
    "np.sqrt([5,6,8,9])"
   ]
  },
  {
   "cell_type": "markdown",
   "id": "3d403530",
   "metadata": {},
   "source": [
    "# The dot (.)"
   ]
  },
  {
   "cell_type": "code",
   "execution_count": 28,
   "id": "abf8eaaa",
   "metadata": {},
   "outputs": [
    {
     "data": {
      "text/plain": [
       "3.0"
      ]
     },
     "execution_count": 28,
     "metadata": {},
     "output_type": "execute_result"
    }
   ],
   "source": [
    "math.sqrt(6)\n",
    "np.sqrt(9)\n",
    "# The . represents ownership, math. represnts from math and np represents from numpy"
   ]
  },
  {
   "cell_type": "code",
   "execution_count": 19,
   "id": "8b0def28-102c-4f98-9991-38039c908dfb",
   "metadata": {},
   "outputs": [
    {
     "data": {
      "text/plain": [
       "'APPLE'"
      ]
     },
     "execution_count": 19,
     "metadata": {},
     "output_type": "execute_result"
    }
   ],
   "source": [
    "'apple'.upper() # you dont put 'apple', the upper function is not defined\n",
    "                # for other variables, and 'upper' also takes no arguments"
   ]
  },
  {
   "cell_type": "code",
   "execution_count": 13,
   "id": "75090755-ab22-483d-9550-2a8c77b656ee",
   "metadata": {},
   "outputs": [
    {
     "data": {
      "text/plain": [
       "'Apple'"
      ]
     },
     "execution_count": 13,
     "metadata": {},
     "output_type": "execute_result"
    }
   ],
   "source": [
    "'apple'.title()"
   ]
  },
  {
   "cell_type": "code",
   "execution_count": 18,
   "id": "61b3f209-0389-46ff-9b98-606a96851c1d",
   "metadata": {},
   "outputs": [],
   "source": [
    "x = 1j +10 # complex number"
   ]
  },
  {
   "cell_type": "code",
   "execution_count": 16,
   "id": "2e47c0c6-7e12-4438-bf26-32bc1d648d54",
   "metadata": {},
   "outputs": [
    {
     "data": {
      "text/plain": [
       "10.0"
      ]
     },
     "execution_count": 16,
     "metadata": {},
     "output_type": "execute_result"
    }
   ],
   "source": [
    "x.real"
   ]
  },
  {
   "cell_type": "code",
   "execution_count": 17,
   "id": "2a5bdafb-caab-4d45-aff1-a074f875b969",
   "metadata": {},
   "outputs": [
    {
     "data": {
      "text/plain": [
       "1.0"
      ]
     },
     "execution_count": 17,
     "metadata": {},
     "output_type": "execute_result"
    }
   ],
   "source": [
    "x.imag"
   ]
  },
  {
   "cell_type": "markdown",
   "id": "4c40f2b5",
   "metadata": {},
   "source": [
    "# Split"
   ]
  },
  {
   "cell_type": "code",
   "execution_count": 29,
   "id": "7b843c87",
   "metadata": {},
   "outputs": [
    {
     "data": {
      "text/plain": [
       "['I', 'am', 'not', 'prepared', 'for', '8ams']"
      ]
     },
     "execution_count": 29,
     "metadata": {},
     "output_type": "execute_result"
    }
   ],
   "source": [
    "\"I am not prepared for 8ams\".split()"
   ]
  },
  {
   "cell_type": "code",
   "execution_count": 38,
   "id": "2c6fecfd",
   "metadata": {},
   "outputs": [
    {
     "name": "stdout",
     "output_type": "stream",
     "text": [
      "1\n"
     ]
    }
   ],
   "source": [
    "list = \"1 2 3 4 5\".split()\n",
    "print(list[0]) # So it works like an array"
   ]
  }
 ],
 "metadata": {
  "kernelspec": {
   "display_name": "Python 3 (ipykernel)",
   "language": "python",
   "name": "python3"
  },
  "language_info": {
   "codemirror_mode": {
    "name": "ipython",
    "version": 3
   },
   "file_extension": ".py",
   "mimetype": "text/x-python",
   "name": "python",
   "nbconvert_exporter": "python",
   "pygments_lexer": "ipython3",
   "version": "3.11.5"
  },
  "toc": {
   "base_numbering": 1,
   "nav_menu": {},
   "number_sections": true,
   "sideBar": true,
   "skip_h1_title": false,
   "title_cell": "Table of Contents",
   "title_sidebar": "Contents",
   "toc_cell": false,
   "toc_position": {},
   "toc_section_display": true,
   "toc_window_display": false
  },
  "vscode": {
   "interpreter": {
    "hash": "31f2aee4e71d21fbe5cf8b01ff0e069b9275f58929596ceb00d14d90e3e16cd6"
   }
  }
 },
 "nbformat": 4,
 "nbformat_minor": 5
}
