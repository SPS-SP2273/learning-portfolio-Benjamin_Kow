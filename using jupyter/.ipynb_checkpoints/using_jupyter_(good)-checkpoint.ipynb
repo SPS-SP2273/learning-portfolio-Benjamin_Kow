{
 "cells": [
  {
   "cell_type": "markdown",
   "id": "123456",
   "metadata": {},
   "source": [
    "<div style=\"text-align:left;font-size:2em\"><span style=\"font-weight:bolder;font-size:1.25em\">SP2273 | Learning Portfolio</span><br><br><span style=\"font-weight:bold;color:darkred\">Using Jupyter (Good)</span></div>"
   ]
  },
  {
   "cell_type": "markdown",
   "id": "72e7f56d",
   "metadata": {},
   "source": [
    "# What to expect in this chapter"
   ]
  },
  {
   "cell_type": "markdown",
   "id": "b9d5adf1",
   "metadata": {},
   "source": [
    "# 1 Some tips and tricks"
   ]
  },
  {
   "cell_type": "markdown",
   "id": "caca0bbf",
   "metadata": {},
   "source": [
    "## 1.1 Keyboard Shortcuts"
   ]
  },
  {
   "cell_type": "markdown",
   "id": "aad00903",
   "metadata": {},
   "source": [
    "### Things to note"
   ]
  },
  {
   "cell_type": "code",
   "execution_count": 3,
   "id": "80c45a9f-9619-480b-a3f6-0e27616309e3",
   "metadata": {},
   "outputs": [
    {
     "name": "stdout",
     "output_type": "stream",
     "text": [
      "HAHhaHAHhaHAHhaHAHhaHAHhaHAHhaHAHhaHAHhaHAHhaHAHha\n",
      "HAHhaHAHhaHAHhaHAHhaHAHhaHAHhaHAHhaHAHhaHAHhaHAHha\n"
     ]
    }
   ],
   "source": [
    "print('HAHha'*10)\n",
    "\n",
    "print('HAHha'*10)"
   ]
  },
  {
   "cell_type": "markdown",
   "id": "0490c4da",
   "metadata": {},
   "source": [
    "## 1.2 Shell commands"
   ]
  },
  {
   "cell_type": "code",
   "execution_count": 4,
   "id": "3199d20c-56fd-4ba3-a423-350a9593d5a0",
   "metadata": {},
   "outputs": [
    {
     "name": "stdout",
     "output_type": "stream",
     "text": [
      " Volume in drive C is Windows-SSD\n",
      " Volume Serial Number is 66EE-61FE\n",
      "\n",
      " Directory of C:\\Users\\Benjamin Kow\\Documents\\Projects\\NUS\\Everything Else\\SPS\\SP2273\\Learning Portfolio\\learning-portfolio-Benjamin_Kow\\using jupyter\n",
      "\n",
      "19/01/2024  05:05 pm    <DIR>          .\n",
      "19/01/2024  09:42 am    <DIR>          ..\n",
      "19/01/2024  05:01 pm    <DIR>          .ipynb_checkpoints\n",
      "19/01/2024  04:17 pm             1,959 using-jupyter_need.ipynb\n",
      "19/01/2024  05:05 pm             3,353 using_jupyter_(good).ipynb\n",
      "19/01/2024  04:09 pm             4,138 using_jupyter_(need).ipynb\n",
      "               3 File(s)          9,450 bytes\n",
      "               3 Dir(s)  194,612,424,704 bytes free\n"
     ]
    }
   ],
   "source": [
    "!dir"
   ]
  },
  {
   "cell_type": "code",
   "execution_count": null,
   "id": "edaf7728-bb76-4fbe-9076-a7a37c431fd7",
   "metadata": {},
   "outputs": [],
   "source": []
  },
  {
   "cell_type": "markdown",
   "id": "3f845279",
   "metadata": {},
   "source": [
    "# 2 Jupyter Extensions"
   ]
  },
  {
   "cell_type": "markdown",
   "id": "5f5faaaa",
   "metadata": {},
   "source": [
    "## 2.1 Installing the extensions"
   ]
  },
  {
   "cell_type": "markdown",
   "id": "d27e058a",
   "metadata": {},
   "source": [
    "## 2.2 Enabling the extensions"
   ]
  },
  {
   "cell_type": "markdown",
   "id": "8271a5a0",
   "metadata": {},
   "source": [
    "# 3 Shell Magic"
   ]
  },
  {
   "cell_type": "code",
   "execution_count": 1,
   "id": "1aef3c56",
   "metadata": {},
   "outputs": [
    {
     "name": "stdout",
     "output_type": "stream",
     "text": [
      "12.7 ns ± 0.363 ns per loop (mean ± std. dev. of 7 runs, 100,000,000 loops each)\n"
     ]
    }
   ],
   "source": [
    "%timeit x=10"
   ]
  },
  {
   "cell_type": "markdown",
   "id": "07956cad",
   "metadata": {},
   "source": [
    "# 4 The Kernel"
   ]
  }
 ],
 "metadata": {
  "kernelspec": {
   "display_name": "Python 3 (ipykernel)",
   "language": "python",
   "name": "python3"
  },
  "language_info": {
   "codemirror_mode": {
    "name": "ipython",
    "version": 3
   },
   "file_extension": ".py",
   "mimetype": "text/x-python",
   "name": "python",
   "nbconvert_exporter": "python",
   "pygments_lexer": "ipython3",
   "version": "3.11.5"
  },
  "toc": {
   "base_numbering": 1,
   "nav_menu": {},
   "number_sections": true,
   "sideBar": true,
   "skip_h1_title": false,
   "title_cell": "Table of Contents",
   "title_sidebar": "Contents",
   "toc_cell": false,
   "toc_position": {},
   "toc_section_display": true,
   "toc_window_display": false
  },
  "vscode": {
   "interpreter": {
    "hash": "31f2aee4e71d21fbe5cf8b01ff0e069b9275f58929596ceb00d14d90e3e16cd6"
   }
  }
 },
 "nbformat": 4,
 "nbformat_minor": 5
}
