{
 "cells": [
  {
   "cell_type": "code",
   "execution_count": 2,
   "id": "cbe19d6b-c06e-47dc-81e0-adf82a111bbe",
   "metadata": {},
   "outputs": [
    {
     "name": "stdout",
     "output_type": "stream",
     "text": [
      "Hello World!\n"
     ]
    }
   ],
   "source": [
    "print('Hello World!')"
   ]
  },
  {
   "cell_type": "markdown",
   "id": "4e3f88eb-dfff-42fa-9d1e-34ff4296ecaf",
   "metadata": {},
   "source": [
    "The ships hung in the sky in much the same way that bricks don’t.\n",
    "\n",
    "The ships *hung in the sky* in much the same way that **bricks don't.** <sup>1</sup> <sub>QUOTE</sub>\n"
   ]
  },
  {
   "cell_type": "markdown",
   "id": "e76b8f06-de5e-412b-8d27-e319e37fba47",
   "metadata": {},
   "source": [
    "# This is a big header\n",
    "## This is the second largest header \n",
    "### This is the third largest header\n",
    "#### This is the smallest header\n",
    "\n",
    "```python \n",
    "print('Hello World\")\n",
    "```\n",
    "\n",
    "This is the [SP2273 Website](https://sps.nus.edu.sg/sp2273) "
   ]
  }
 ],
 "metadata": {
  "kernelspec": {
   "display_name": "Python 3 (ipykernel)",
   "language": "python",
   "name": "python3"
  },
  "language_info": {
   "codemirror_mode": {
    "name": "ipython",
    "version": 3
   },
   "file_extension": ".py",
   "mimetype": "text/x-python",
   "name": "python",
   "nbconvert_exporter": "python",
   "pygments_lexer": "ipython3",
   "version": "3.11.5"
  }
 },
 "nbformat": 4,
 "nbformat_minor": 5
}
