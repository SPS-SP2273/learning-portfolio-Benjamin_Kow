{
 "cells": [
  {
   "cell_type": "markdown",
   "id": "123456",
   "metadata": {},
   "source": [
    "<div style=\"text-align:left;font-size:2em\"><span style=\"font-weight:bolder;font-size:1.25em\">SP2273 | Learning Portfolio</span><br><br><span style=\"font-weight:bold;color:darkred\">Files, Folders & OS (Need) Exercises</span></div>"
   ]
  },
  {
   "cell_type": "code",
   "execution_count": 3,
   "id": "845786d6-a462-447f-b991-5325b07d3e56",
   "metadata": {},
   "outputs": [],
   "source": [
    "month_converter = {\n",
    "'jan': '01', 'feb': '02', 'mar': '03',\n",
    "'apr': '04', 'may': '05', 'jun': '06',\n",
    "'jul': '07', 'aug': '08', 'sep': '09',\n",
    "'oct': '10', 'nov': '11', 'dec': '12'\n",
    "}\n",
    "import os\n",
    "import shutil\n",
    "import glob"
   ]
  },
  {
   "cell_type": "markdown",
   "id": "7139a068-8363-43fd-893d-fb02e01421b9",
   "metadata": {},
   "source": [
    "### Task 1"
   ]
  },
  {
   "cell_type": "code",
   "execution_count": 2,
   "id": "c32bf9a8-7a5b-444d-a46c-022a75800ab9",
   "metadata": {},
   "outputs": [
    {
     "name": "stdout",
     "output_type": "stream",
     "text": [
      "10\n",
      "10-08-singapore.txt\n"
     ]
    }
   ],
   "source": [
    "name = 'oct-08-singapore.txt'\n",
    "y = name.split('-')\n",
    "for x in month_converter.keys():\n",
    "    if y[0] == x:\n",
    "        y[0] = month_converter[x]\n",
    "        print(y[0])\n",
    "name = '-'.join(y)\n",
    "print(name)\n",
    "    "
   ]
  },
  {
   "cell_type": "markdown",
   "id": "df8b0d5e-92e9-4829-b638-cd02f995cca5",
   "metadata": {},
   "source": [
    "### Task 2"
   ]
  },
  {
   "cell_type": "code",
   "execution_count": 4,
   "id": "a641bb6b-90ff-4341-ac4f-8913b274ff8b",
   "metadata": {},
   "outputs": [
    {
     "name": "stdout",
     "output_type": "stream",
     "text": [
      "02-09-china\n"
     ]
    }
   ],
   "source": [
    "def rename_my_file(old_file_name):\n",
    "    y = old_file_name.split('-')\n",
    "    for x in month_converter.keys():\n",
    "        if y[0] == x:\n",
    "            y[0] = month_converter[x]\n",
    "            old_file_name = '-'.join(y)\n",
    "    return f'{old_file_name}'\n",
    "\n",
    "print(rename_my_file('feb-09-china'))"
   ]
  },
  {
   "cell_type": "markdown",
   "id": "e6f917ce-0191-4b5c-b9dd-5e68996b7de3",
   "metadata": {},
   "source": [
    "### Task 3 "
   ]
  },
  {
   "cell_type": "code",
   "execution_count": 9,
   "id": "00beda6f-c728-4605-a5d8-070c801d8267",
   "metadata": {},
   "outputs": [
    {
     "name": "stdout",
     "output_type": "stream",
     "text": [
      "['10-08_singapore.txt', '07-10_cairo.txt', '05-15_dhaka.txt', '05-13_cairo.txt', '10-21_cairo.txt', '01-10_singapore.txt', '06-20_tokyo.txt', '08-06_jakarta.txt', '12-21_karachi.txt', '01-01_tokyo.txt']\n"
     ]
    }
   ],
   "source": [
    "old_file_name = ['oct-08_singapore.txt', 'jul-10_cairo.txt', 'may-15_dhaka.txt',\n",
    " 'may-13_cairo.txt', 'oct-21_cairo.txt', 'jan-10_singapore.txt',\n",
    " 'jun-20_tokyo.txt', 'aug-06_jakarta.txt', 'dec-21_karachi.txt',\n",
    " 'jan-01_tokyo.txt']\n",
    "\n",
    "new_file_name = []\n",
    "for x in old_file_name:\n",
    "    new_file_name += [rename_my_file(x)]\n",
    "\n",
    "print(new_file_name)"
   ]
  },
  {
   "cell_type": "markdown",
   "id": "d802cef9-1241-4b26-89a9-5d3528f6bcbd",
   "metadata": {},
   "source": [
    "### Task 4"
   ]
  },
  {
   "cell_type": "code",
   "execution_count": null,
   "id": "28747bba-20e3-4071-bf79-2c7e28dd071b",
   "metadata": {},
   "outputs": [],
   "source": [
    "txt_files = glob.glob('os-collaboration-exercise-data\\**.txt')\n",
    "for old_path in txt_files:\n",
    "    file_name = os.path.split(old_path)\n",
    "    new_file_name = rename_my_file(file_name[-1])\n",
    "    new_path = os.path.join(file_name[0],new_file_name)\n",
    "    os.rename(old_path, new_path)\n",
    "    print(f'{old_path} has been renamed to {new_path}')\n",
    "\n"
   ]
  },
  {
   "cell_type": "code",
   "execution_count": null,
   "id": "61de4f52-70f5-4e6a-9451-7e3aaa33e036",
   "metadata": {},
   "outputs": [],
   "source": [
    "# Test run\n",
    "x = 'os-collaboration-exercise-data\\\\apr-02_jakarta.png'\n",
    "y = os.path.split(x)\n",
    "print(y[-1])\n",
    "new_file_name = rename_my_file(y[-1])\n",
    "z = os.path.join(y[0],new_file_name)\n",
    "print(z)\n",
    "os.rename(z,x)\n",
    "print(f'{z} has been renamed to {x}')"
   ]
  },
  {
   "cell_type": "markdown",
   "id": "8ee1585f-0094-46cc-a7b6-913ca6b5ac80",
   "metadata": {},
   "source": [
    "### Task 5"
   ]
  },
  {
   "cell_type": "code",
   "execution_count": 6,
   "id": "b53bb7f2-873f-4d9b-a6dc-b6667ddd61af",
   "metadata": {},
   "outputs": [
    {
     "name": "stdout",
     "output_type": "stream",
     "text": [
      "folder os-collaboration-exercise-data\\Cairo has been made.\n",
      "folder os-collaboration-exercise-data\\Dhaka has been made.\n",
      "folder os-collaboration-exercise-data\\Jakarta has been made.\n",
      "folder os-collaboration-exercise-data\\Karachi has been made.\n",
      "folder os-collaboration-exercise-data\\Manila has been made.\n",
      "folder os-collaboration-exercise-data\\Melbourne has been made.\n",
      "folder os-collaboration-exercise-data\\Osaka has been made.\n",
      "folder os-collaboration-exercise-data\\Shanghai has been made.\n",
      "folder os-collaboration-exercise-data\\Singapore has been made.\n",
      "folder os-collaboration-exercise-data\\Tokyo has been made.\n"
     ]
    }
   ],
   "source": [
    "city_list = ['Cairo', 'Dhaka', 'Jakarta', 'Karachi', 'Manila',\n",
    " 'Melbourne', 'Osaka', 'Shanghai', 'Singapore', 'Tokyo']\n",
    "for city in city_list:\n",
    "    path_to_city = os.path.join('os-collaboration-exercise-data', city)\n",
    "    os.mkdir(path_to_city)\n",
    "    print(f'folder {path_to_city} has been made.')"
   ]
  },
  {
   "cell_type": "markdown",
   "id": "33e92946-6f23-40bc-a1b9-6dca83d34f9b",
   "metadata": {},
   "source": [
    "### Task 6"
   ]
  },
  {
   "cell_type": "code",
   "execution_count": null,
   "id": "68977ad8-fe8a-4876-b475-04e28f6494ba",
   "metadata": {},
   "outputs": [],
   "source": [
    "cairo_old_path = glob.glob('os*/*cairo.*')\n",
    "for cario_file_path in cairo_old_path :\n",
    "    cairo_file = os.path.split(i)[-1]\n",
    "    new_path = os.path.join('os-collaboration-exercise-data\\Cairo', cairo_file)\n",
    "    print(f'{cairo_file} has been copied to {new_path}')\n",
    "    shutil.copy(cario_file_path, new_path)\n"
   ]
  },
  {
   "cell_type": "markdown",
   "id": "ee23ddaa-f9e7-47a3-a5e5-bcc3326c1eb4",
   "metadata": {},
   "source": [
    "### Task 7"
   ]
  },
  {
   "cell_type": "code",
   "execution_count": 17,
   "id": "dba126e5-144c-40cf-9d7e-237a5189417a",
   "metadata": {},
   "outputs": [
    {
     "name": "stdout",
     "output_type": "stream",
     "text": [
      "os*/*cairo.*\n",
      "['os-collaboration-exercise-data\\\\01-02_cairo.txt', 'os-collaboration-exercise-data\\\\01-03_cairo.txt', 'os-collaboration-exercise-data\\\\01-04_cairo.txt', 'os-collaboration-exercise-data\\\\01-05_cairo.txt', 'os-collaboration-exercise-data\\\\01-07_cairo.txt', 'os-collaboration-exercise-data\\\\01-08_cairo.txt', 'os-collaboration-exercise-data\\\\01-09_cairo.txt', 'os-collaboration-exercise-data\\\\01-11_cairo.txt', 'os-collaboration-exercise-data\\\\01-12_cairo.txt', 'os-collaboration-exercise-data\\\\01-13_cairo.txt', 'os-collaboration-exercise-data\\\\01-15_cairo.txt', 'os-collaboration-exercise-data\\\\01-16_cairo.txt', 'os-collaboration-exercise-data\\\\01-19_cairo.txt', 'os-collaboration-exercise-data\\\\01-20_cairo.txt', 'os-collaboration-exercise-data\\\\01-21_cairo.txt', 'os-collaboration-exercise-data\\\\01-23_cairo.txt', 'os-collaboration-exercise-data\\\\01-27_cairo.txt', 'os-collaboration-exercise-data\\\\01-30_cairo.txt', 'os-collaboration-exercise-data\\\\02-10_cairo.txt', 'os-collaboration-exercise-data\\\\02-17_cairo.txt', 'os-collaboration-exercise-data\\\\02-20_cairo.txt', 'os-collaboration-exercise-data\\\\02-22_cairo.txt', 'os-collaboration-exercise-data\\\\02-25_cairo.txt', 'os-collaboration-exercise-data\\\\02-26_cairo.txt', 'os-collaboration-exercise-data\\\\03-05_cairo.txt', 'os-collaboration-exercise-data\\\\03-06_cairo.txt', 'os-collaboration-exercise-data\\\\03-12_cairo.txt', 'os-collaboration-exercise-data\\\\03-14_cairo.txt', 'os-collaboration-exercise-data\\\\03-19_cairo.txt', 'os-collaboration-exercise-data\\\\03-24_cairo.txt', 'os-collaboration-exercise-data\\\\04-02_cairo.txt', 'os-collaboration-exercise-data\\\\04-06_cairo.txt', 'os-collaboration-exercise-data\\\\04-07_cairo.txt', 'os-collaboration-exercise-data\\\\04-10_cairo.txt', 'os-collaboration-exercise-data\\\\04-12_cairo.txt', 'os-collaboration-exercise-data\\\\04-13_cairo.txt', 'os-collaboration-exercise-data\\\\04-14_cairo.txt', 'os-collaboration-exercise-data\\\\04-15_cairo.txt', 'os-collaboration-exercise-data\\\\04-17_cairo.txt', 'os-collaboration-exercise-data\\\\04-20_cairo.txt', 'os-collaboration-exercise-data\\\\04-21_cairo.txt', 'os-collaboration-exercise-data\\\\04-22_cairo.txt', 'os-collaboration-exercise-data\\\\04-23_cairo.txt', 'os-collaboration-exercise-data\\\\04-24_cairo.txt', 'os-collaboration-exercise-data\\\\05-01_cairo.txt', 'os-collaboration-exercise-data\\\\05-02_cairo.txt', 'os-collaboration-exercise-data\\\\05-12_cairo.txt', 'os-collaboration-exercise-data\\\\05-17_cairo.txt', 'os-collaboration-exercise-data\\\\05-25_cairo.txt', 'os-collaboration-exercise-data\\\\05-27_cairo.txt', 'os-collaboration-exercise-data\\\\05-29_cairo.txt', 'os-collaboration-exercise-data\\\\05-30_cairo.txt', 'os-collaboration-exercise-data\\\\06-28_cairo.txt', 'os-collaboration-exercise-data\\\\07-04_cairo.txt', 'os-collaboration-exercise-data\\\\07-08_cairo.txt', 'os-collaboration-exercise-data\\\\07-10_cairo.txt', 'os-collaboration-exercise-data\\\\07-13_cairo.txt', 'os-collaboration-exercise-data\\\\07-14_cairo.txt', 'os-collaboration-exercise-data\\\\07-15_cairo.txt', 'os-collaboration-exercise-data\\\\07-16_cairo.txt', 'os-collaboration-exercise-data\\\\07-17_cairo.txt', 'os-collaboration-exercise-data\\\\07-19_cairo.txt', 'os-collaboration-exercise-data\\\\07-24_cairo.txt', 'os-collaboration-exercise-data\\\\07-26_cairo.txt', 'os-collaboration-exercise-data\\\\07-27_cairo.txt', 'os-collaboration-exercise-data\\\\07-29_cairo.txt', 'os-collaboration-exercise-data\\\\07-30_cairo.txt', 'os-collaboration-exercise-data\\\\08-01_cairo.txt', 'os-collaboration-exercise-data\\\\08-03_cairo.txt', 'os-collaboration-exercise-data\\\\08-04_cairo.txt', 'os-collaboration-exercise-data\\\\08-05_cairo.txt', 'os-collaboration-exercise-data\\\\08-07_cairo.txt', 'os-collaboration-exercise-data\\\\08-08_cairo.txt', 'os-collaboration-exercise-data\\\\08-10_cairo.txt', 'os-collaboration-exercise-data\\\\08-12_cairo.txt', 'os-collaboration-exercise-data\\\\08-14_cairo.txt', 'os-collaboration-exercise-data\\\\08-18_cairo.txt', 'os-collaboration-exercise-data\\\\08-19_cairo.txt', 'os-collaboration-exercise-data\\\\08-20_cairo.txt', 'os-collaboration-exercise-data\\\\08-24_cairo.txt', 'os-collaboration-exercise-data\\\\08-25_cairo.txt', 'os-collaboration-exercise-data\\\\08-26_cairo.txt', 'os-collaboration-exercise-data\\\\09-02_cairo.txt', 'os-collaboration-exercise-data\\\\09-04_cairo.txt', 'os-collaboration-exercise-data\\\\09-05_cairo.txt', 'os-collaboration-exercise-data\\\\09-07_cairo.txt', 'os-collaboration-exercise-data\\\\09-08_cairo.txt', 'os-collaboration-exercise-data\\\\09-11_cairo.txt', 'os-collaboration-exercise-data\\\\09-12_cairo.txt', 'os-collaboration-exercise-data\\\\09-13_cairo.txt', 'os-collaboration-exercise-data\\\\09-16_cairo.txt', 'os-collaboration-exercise-data\\\\09-18_cairo.txt', 'os-collaboration-exercise-data\\\\09-20_cairo.txt', 'os-collaboration-exercise-data\\\\09-22_cairo.txt', 'os-collaboration-exercise-data\\\\09-23_cairo.txt', 'os-collaboration-exercise-data\\\\09-24_cairo.txt', 'os-collaboration-exercise-data\\\\09-25_cairo.txt', 'os-collaboration-exercise-data\\\\09-26_cairo.txt', 'os-collaboration-exercise-data\\\\09-28_cairo.txt', 'os-collaboration-exercise-data\\\\10-23_cairo.txt', 'os-collaboration-exercise-data\\\\11-03_cairo.txt', 'os-collaboration-exercise-data\\\\11-04_cairo.txt', 'os-collaboration-exercise-data\\\\11-05_cairo.txt', 'os-collaboration-exercise-data\\\\11-10_cairo.txt', 'os-collaboration-exercise-data\\\\11-14_cairo.txt', 'os-collaboration-exercise-data\\\\11-17_cairo.txt', 'os-collaboration-exercise-data\\\\11-19_cairo.txt', 'os-collaboration-exercise-data\\\\11-21_cairo.txt', 'os-collaboration-exercise-data\\\\11-29_cairo.txt', 'os-collaboration-exercise-data\\\\12-01_cairo.txt', 'os-collaboration-exercise-data\\\\12-03_cairo.txt', 'os-collaboration-exercise-data\\\\12-04_cairo.txt', 'os-collaboration-exercise-data\\\\12-05_cairo.txt', 'os-collaboration-exercise-data\\\\12-07_cairo.txt', 'os-collaboration-exercise-data\\\\12-09_cairo.txt', 'os-collaboration-exercise-data\\\\12-10_cairo.txt', 'os-collaboration-exercise-data\\\\12-13_cairo.txt', 'os-collaboration-exercise-data\\\\12-17_cairo.txt', 'os-collaboration-exercise-data\\\\12-18_cairo.txt', 'os-collaboration-exercise-data\\\\12-19_cairo.txt', 'os-collaboration-exercise-data\\\\12-21_cairo.txt', 'os-collaboration-exercise-data\\\\12-22_cairo.txt', 'os-collaboration-exercise-data\\\\12-23_cairo.txt', 'os-collaboration-exercise-data\\\\12-26_cairo.txt', 'os-collaboration-exercise-data\\\\12-27_cairo.txt', 'os-collaboration-exercise-data\\\\12-29_cairo.txt', 'os-collaboration-exercise-data\\\\apr-02_cairo.jpg', 'os-collaboration-exercise-data\\\\apr-06_cairo.png', 'os-collaboration-exercise-data\\\\apr-07_cairo.png', 'os-collaboration-exercise-data\\\\apr-10_cairo.png', 'os-collaboration-exercise-data\\\\apr-12_cairo.pdf', 'os-collaboration-exercise-data\\\\apr-12_cairo.png', 'os-collaboration-exercise-data\\\\apr-13_cairo.png', 'os-collaboration-exercise-data\\\\apr-14_cairo.jpg', 'os-collaboration-exercise-data\\\\apr-14_cairo.png', 'os-collaboration-exercise-data\\\\apr-15_cairo.jpg', 'os-collaboration-exercise-data\\\\apr-17_cairo.jpg', 'os-collaboration-exercise-data\\\\apr-17_cairo.pdf', 'os-collaboration-exercise-data\\\\apr-17_cairo.png', 'os-collaboration-exercise-data\\\\apr-20_cairo.jpg', 'os-collaboration-exercise-data\\\\apr-21_cairo.pdf', 'os-collaboration-exercise-data\\\\apr-22_cairo.pdf', 'os-collaboration-exercise-data\\\\apr-23_cairo.jpg', 'os-collaboration-exercise-data\\\\apr-24_cairo.jpg', 'os-collaboration-exercise-data\\\\aug-01_cairo.jpg', 'os-collaboration-exercise-data\\\\aug-01_cairo.png', 'os-collaboration-exercise-data\\\\aug-03_cairo.png', 'os-collaboration-exercise-data\\\\aug-04_cairo.jpg', 'os-collaboration-exercise-data\\\\aug-04_cairo.pdf', 'os-collaboration-exercise-data\\\\aug-05_cairo.pdf', 'os-collaboration-exercise-data\\\\aug-07_cairo.png', 'os-collaboration-exercise-data\\\\aug-08_cairo.jpg', 'os-collaboration-exercise-data\\\\aug-10_cairo.png', 'os-collaboration-exercise-data\\\\aug-12_cairo.jpg', 'os-collaboration-exercise-data\\\\aug-14_cairo.jpg', 'os-collaboration-exercise-data\\\\aug-14_cairo.png', 'os-collaboration-exercise-data\\\\aug-18_cairo.jpg', 'os-collaboration-exercise-data\\\\aug-19_cairo.jpg', 'os-collaboration-exercise-data\\\\aug-20_cairo.png', 'os-collaboration-exercise-data\\\\aug-24_cairo.pdf', 'os-collaboration-exercise-data\\\\aug-25_cairo.png', 'os-collaboration-exercise-data\\\\aug-26_cairo.png', 'os-collaboration-exercise-data\\\\dec-01_cairo.jpg', 'os-collaboration-exercise-data\\\\dec-03_cairo.jpg', 'os-collaboration-exercise-data\\\\dec-03_cairo.png', 'os-collaboration-exercise-data\\\\dec-04_cairo.jpg', 'os-collaboration-exercise-data\\\\dec-04_cairo.pdf', 'os-collaboration-exercise-data\\\\dec-04_cairo.png', 'os-collaboration-exercise-data\\\\dec-05_cairo.png', 'os-collaboration-exercise-data\\\\dec-07_cairo.jpg', 'os-collaboration-exercise-data\\\\dec-09_cairo.png', 'os-collaboration-exercise-data\\\\dec-10_cairo.jpg', 'os-collaboration-exercise-data\\\\dec-10_cairo.pdf', 'os-collaboration-exercise-data\\\\dec-13_cairo.pdf', 'os-collaboration-exercise-data\\\\dec-17_cairo.png', 'os-collaboration-exercise-data\\\\dec-18_cairo.jpg', 'os-collaboration-exercise-data\\\\dec-19_cairo.pdf', 'os-collaboration-exercise-data\\\\dec-21_cairo.png', 'os-collaboration-exercise-data\\\\dec-22_cairo.jpg', 'os-collaboration-exercise-data\\\\dec-23_cairo.pdf', 'os-collaboration-exercise-data\\\\dec-26_cairo.pdf', 'os-collaboration-exercise-data\\\\dec-27_cairo.png', 'os-collaboration-exercise-data\\\\dec-29_cairo.jpg', 'os-collaboration-exercise-data\\\\dec-29_cairo.png', 'os-collaboration-exercise-data\\\\feb-10_cairo.jpg', 'os-collaboration-exercise-data\\\\feb-10_cairo.pdf', 'os-collaboration-exercise-data\\\\feb-17_cairo.jpg', 'os-collaboration-exercise-data\\\\feb-20_cairo.png', 'os-collaboration-exercise-data\\\\feb-22_cairo.pdf', 'os-collaboration-exercise-data\\\\feb-22_cairo.png', 'os-collaboration-exercise-data\\\\feb-25_cairo.jpg', 'os-collaboration-exercise-data\\\\feb-25_cairo.pdf', 'os-collaboration-exercise-data\\\\feb-26_cairo.png', 'os-collaboration-exercise-data\\\\jan-02_cairo.pdf', 'os-collaboration-exercise-data\\\\jan-03_cairo.pdf', 'os-collaboration-exercise-data\\\\jan-04_cairo.jpg', 'os-collaboration-exercise-data\\\\jan-05_cairo.jpg', 'os-collaboration-exercise-data\\\\jan-07_cairo.jpg', 'os-collaboration-exercise-data\\\\jan-08_cairo.png', 'os-collaboration-exercise-data\\\\jan-09_cairo.jpg', 'os-collaboration-exercise-data\\\\jan-11_cairo.png', 'os-collaboration-exercise-data\\\\jan-12_cairo.pdf', 'os-collaboration-exercise-data\\\\jan-13_cairo.png', 'os-collaboration-exercise-data\\\\jan-15_cairo.jpg', 'os-collaboration-exercise-data\\\\jan-15_cairo.png', 'os-collaboration-exercise-data\\\\jan-16_cairo.png', 'os-collaboration-exercise-data\\\\jan-19_cairo.pdf', 'os-collaboration-exercise-data\\\\jan-20_cairo.pdf', 'os-collaboration-exercise-data\\\\jan-21_cairo.jpg', 'os-collaboration-exercise-data\\\\jan-23_cairo.png', 'os-collaboration-exercise-data\\\\jan-27_cairo.jpg', 'os-collaboration-exercise-data\\\\jan-30_cairo.pdf', 'os-collaboration-exercise-data\\\\jul-04_cairo.jpg', 'os-collaboration-exercise-data\\\\jul-08_cairo.png', 'os-collaboration-exercise-data\\\\jul-10_cairo.png', 'os-collaboration-exercise-data\\\\jul-13_cairo.png', 'os-collaboration-exercise-data\\\\jul-14_cairo.jpg', 'os-collaboration-exercise-data\\\\jul-15_cairo.pdf', 'os-collaboration-exercise-data\\\\jul-16_cairo.png', 'os-collaboration-exercise-data\\\\jul-17_cairo.pdf', 'os-collaboration-exercise-data\\\\jul-19_cairo.jpg', 'os-collaboration-exercise-data\\\\jul-24_cairo.pdf', 'os-collaboration-exercise-data\\\\jul-26_cairo.png', 'os-collaboration-exercise-data\\\\jul-27_cairo.png', 'os-collaboration-exercise-data\\\\jul-29_cairo.jpg', 'os-collaboration-exercise-data\\\\jul-30_cairo.png', 'os-collaboration-exercise-data\\\\jun-28_cairo.pdf', 'os-collaboration-exercise-data\\\\mar-05_cairo.pdf', 'os-collaboration-exercise-data\\\\mar-05_cairo.png', 'os-collaboration-exercise-data\\\\mar-06_cairo.pdf', 'os-collaboration-exercise-data\\\\mar-12_cairo.jpg', 'os-collaboration-exercise-data\\\\mar-14_cairo.pdf', 'os-collaboration-exercise-data\\\\mar-19_cairo.jpg', 'os-collaboration-exercise-data\\\\mar-24_cairo.pdf', 'os-collaboration-exercise-data\\\\may-01_cairo.png', 'os-collaboration-exercise-data\\\\may-02_cairo.png', 'os-collaboration-exercise-data\\\\may-12_cairo.png', 'os-collaboration-exercise-data\\\\may-17_cairo.png', 'os-collaboration-exercise-data\\\\may-25_cairo.png', 'os-collaboration-exercise-data\\\\may-27_cairo.pdf', 'os-collaboration-exercise-data\\\\may-29_cairo.pdf', 'os-collaboration-exercise-data\\\\may-30_cairo.jpg', 'os-collaboration-exercise-data\\\\may-30_cairo.png', 'os-collaboration-exercise-data\\\\nov-03_cairo.png', 'os-collaboration-exercise-data\\\\nov-04_cairo.pdf', 'os-collaboration-exercise-data\\\\nov-05_cairo.jpg', 'os-collaboration-exercise-data\\\\nov-05_cairo.png', 'os-collaboration-exercise-data\\\\nov-10_cairo.pdf', 'os-collaboration-exercise-data\\\\nov-14_cairo.pdf', 'os-collaboration-exercise-data\\\\nov-17_cairo.pdf', 'os-collaboration-exercise-data\\\\nov-19_cairo.jpg', 'os-collaboration-exercise-data\\\\nov-21_cairo.pdf', 'os-collaboration-exercise-data\\\\nov-29_cairo.pdf', 'os-collaboration-exercise-data\\\\oct-23_cairo.jpg', 'os-collaboration-exercise-data\\\\sep-02_cairo.png', 'os-collaboration-exercise-data\\\\sep-04_cairo.pdf', 'os-collaboration-exercise-data\\\\sep-05_cairo.pdf', 'os-collaboration-exercise-data\\\\sep-07_cairo.jpg', 'os-collaboration-exercise-data\\\\sep-08_cairo.pdf', 'os-collaboration-exercise-data\\\\sep-11_cairo.png', 'os-collaboration-exercise-data\\\\sep-12_cairo.png', 'os-collaboration-exercise-data\\\\sep-13_cairo.jpg', 'os-collaboration-exercise-data\\\\sep-13_cairo.png', 'os-collaboration-exercise-data\\\\sep-16_cairo.png', 'os-collaboration-exercise-data\\\\sep-18_cairo.pdf', 'os-collaboration-exercise-data\\\\sep-20_cairo.jpg', 'os-collaboration-exercise-data\\\\sep-22_cairo.pdf', 'os-collaboration-exercise-data\\\\sep-23_cairo.pdf', 'os-collaboration-exercise-data\\\\sep-24_cairo.pdf', 'os-collaboration-exercise-data\\\\sep-25_cairo.jpg', 'os-collaboration-exercise-data\\\\sep-25_cairo.pdf', 'os-collaboration-exercise-data\\\\sep-26_cairo.pdf', 'os-collaboration-exercise-data\\\\sep-28_cairo.jpg', 'os-collaboration-exercise-data\\\\sep-28_cairo.pdf', 'os-collaboration-exercise-data\\\\sep-28_cairo.png']\n"
     ]
    },
    {
     "data": {
      "text/plain": [
       "['os-collaboration-exercise-data\\\\01-02_cairo.txt',\n",
       " 'os-collaboration-exercise-data\\\\01-03_cairo.txt',\n",
       " 'os-collaboration-exercise-data\\\\01-04_cairo.txt',\n",
       " 'os-collaboration-exercise-data\\\\01-05_cairo.txt',\n",
       " 'os-collaboration-exercise-data\\\\01-07_cairo.txt',\n",
       " 'os-collaboration-exercise-data\\\\01-08_cairo.txt',\n",
       " 'os-collaboration-exercise-data\\\\01-09_cairo.txt',\n",
       " 'os-collaboration-exercise-data\\\\01-11_cairo.txt',\n",
       " 'os-collaboration-exercise-data\\\\01-12_cairo.txt',\n",
       " 'os-collaboration-exercise-data\\\\01-13_cairo.txt',\n",
       " 'os-collaboration-exercise-data\\\\01-15_cairo.txt',\n",
       " 'os-collaboration-exercise-data\\\\01-16_cairo.txt',\n",
       " 'os-collaboration-exercise-data\\\\01-19_cairo.txt',\n",
       " 'os-collaboration-exercise-data\\\\01-20_cairo.txt',\n",
       " 'os-collaboration-exercise-data\\\\01-21_cairo.txt',\n",
       " 'os-collaboration-exercise-data\\\\01-23_cairo.txt',\n",
       " 'os-collaboration-exercise-data\\\\01-27_cairo.txt',\n",
       " 'os-collaboration-exercise-data\\\\01-30_cairo.txt',\n",
       " 'os-collaboration-exercise-data\\\\02-10_cairo.txt',\n",
       " 'os-collaboration-exercise-data\\\\02-17_cairo.txt',\n",
       " 'os-collaboration-exercise-data\\\\02-20_cairo.txt',\n",
       " 'os-collaboration-exercise-data\\\\02-22_cairo.txt',\n",
       " 'os-collaboration-exercise-data\\\\02-25_cairo.txt',\n",
       " 'os-collaboration-exercise-data\\\\02-26_cairo.txt',\n",
       " 'os-collaboration-exercise-data\\\\03-05_cairo.txt',\n",
       " 'os-collaboration-exercise-data\\\\03-06_cairo.txt',\n",
       " 'os-collaboration-exercise-data\\\\03-12_cairo.txt',\n",
       " 'os-collaboration-exercise-data\\\\03-14_cairo.txt',\n",
       " 'os-collaboration-exercise-data\\\\03-19_cairo.txt',\n",
       " 'os-collaboration-exercise-data\\\\03-24_cairo.txt',\n",
       " 'os-collaboration-exercise-data\\\\04-02_cairo.txt',\n",
       " 'os-collaboration-exercise-data\\\\04-06_cairo.txt',\n",
       " 'os-collaboration-exercise-data\\\\04-07_cairo.txt',\n",
       " 'os-collaboration-exercise-data\\\\04-10_cairo.txt',\n",
       " 'os-collaboration-exercise-data\\\\04-12_cairo.txt',\n",
       " 'os-collaboration-exercise-data\\\\04-13_cairo.txt',\n",
       " 'os-collaboration-exercise-data\\\\04-14_cairo.txt',\n",
       " 'os-collaboration-exercise-data\\\\04-15_cairo.txt',\n",
       " 'os-collaboration-exercise-data\\\\04-17_cairo.txt',\n",
       " 'os-collaboration-exercise-data\\\\04-20_cairo.txt',\n",
       " 'os-collaboration-exercise-data\\\\04-21_cairo.txt',\n",
       " 'os-collaboration-exercise-data\\\\04-22_cairo.txt',\n",
       " 'os-collaboration-exercise-data\\\\04-23_cairo.txt',\n",
       " 'os-collaboration-exercise-data\\\\04-24_cairo.txt',\n",
       " 'os-collaboration-exercise-data\\\\05-01_cairo.txt',\n",
       " 'os-collaboration-exercise-data\\\\05-02_cairo.txt',\n",
       " 'os-collaboration-exercise-data\\\\05-12_cairo.txt',\n",
       " 'os-collaboration-exercise-data\\\\05-17_cairo.txt',\n",
       " 'os-collaboration-exercise-data\\\\05-25_cairo.txt',\n",
       " 'os-collaboration-exercise-data\\\\05-27_cairo.txt',\n",
       " 'os-collaboration-exercise-data\\\\05-29_cairo.txt',\n",
       " 'os-collaboration-exercise-data\\\\05-30_cairo.txt',\n",
       " 'os-collaboration-exercise-data\\\\06-28_cairo.txt',\n",
       " 'os-collaboration-exercise-data\\\\07-04_cairo.txt',\n",
       " 'os-collaboration-exercise-data\\\\07-08_cairo.txt',\n",
       " 'os-collaboration-exercise-data\\\\07-10_cairo.txt',\n",
       " 'os-collaboration-exercise-data\\\\07-13_cairo.txt',\n",
       " 'os-collaboration-exercise-data\\\\07-14_cairo.txt',\n",
       " 'os-collaboration-exercise-data\\\\07-15_cairo.txt',\n",
       " 'os-collaboration-exercise-data\\\\07-16_cairo.txt',\n",
       " 'os-collaboration-exercise-data\\\\07-17_cairo.txt',\n",
       " 'os-collaboration-exercise-data\\\\07-19_cairo.txt',\n",
       " 'os-collaboration-exercise-data\\\\07-24_cairo.txt',\n",
       " 'os-collaboration-exercise-data\\\\07-26_cairo.txt',\n",
       " 'os-collaboration-exercise-data\\\\07-27_cairo.txt',\n",
       " 'os-collaboration-exercise-data\\\\07-29_cairo.txt',\n",
       " 'os-collaboration-exercise-data\\\\07-30_cairo.txt',\n",
       " 'os-collaboration-exercise-data\\\\08-01_cairo.txt',\n",
       " 'os-collaboration-exercise-data\\\\08-03_cairo.txt',\n",
       " 'os-collaboration-exercise-data\\\\08-04_cairo.txt',\n",
       " 'os-collaboration-exercise-data\\\\08-05_cairo.txt',\n",
       " 'os-collaboration-exercise-data\\\\08-07_cairo.txt',\n",
       " 'os-collaboration-exercise-data\\\\08-08_cairo.txt',\n",
       " 'os-collaboration-exercise-data\\\\08-10_cairo.txt',\n",
       " 'os-collaboration-exercise-data\\\\08-12_cairo.txt',\n",
       " 'os-collaboration-exercise-data\\\\08-14_cairo.txt',\n",
       " 'os-collaboration-exercise-data\\\\08-18_cairo.txt',\n",
       " 'os-collaboration-exercise-data\\\\08-19_cairo.txt',\n",
       " 'os-collaboration-exercise-data\\\\08-20_cairo.txt',\n",
       " 'os-collaboration-exercise-data\\\\08-24_cairo.txt',\n",
       " 'os-collaboration-exercise-data\\\\08-25_cairo.txt',\n",
       " 'os-collaboration-exercise-data\\\\08-26_cairo.txt',\n",
       " 'os-collaboration-exercise-data\\\\09-02_cairo.txt',\n",
       " 'os-collaboration-exercise-data\\\\09-04_cairo.txt',\n",
       " 'os-collaboration-exercise-data\\\\09-05_cairo.txt',\n",
       " 'os-collaboration-exercise-data\\\\09-07_cairo.txt',\n",
       " 'os-collaboration-exercise-data\\\\09-08_cairo.txt',\n",
       " 'os-collaboration-exercise-data\\\\09-11_cairo.txt',\n",
       " 'os-collaboration-exercise-data\\\\09-12_cairo.txt',\n",
       " 'os-collaboration-exercise-data\\\\09-13_cairo.txt',\n",
       " 'os-collaboration-exercise-data\\\\09-16_cairo.txt',\n",
       " 'os-collaboration-exercise-data\\\\09-18_cairo.txt',\n",
       " 'os-collaboration-exercise-data\\\\09-20_cairo.txt',\n",
       " 'os-collaboration-exercise-data\\\\09-22_cairo.txt',\n",
       " 'os-collaboration-exercise-data\\\\09-23_cairo.txt',\n",
       " 'os-collaboration-exercise-data\\\\09-24_cairo.txt',\n",
       " 'os-collaboration-exercise-data\\\\09-25_cairo.txt',\n",
       " 'os-collaboration-exercise-data\\\\09-26_cairo.txt',\n",
       " 'os-collaboration-exercise-data\\\\09-28_cairo.txt',\n",
       " 'os-collaboration-exercise-data\\\\10-23_cairo.txt',\n",
       " 'os-collaboration-exercise-data\\\\11-03_cairo.txt',\n",
       " 'os-collaboration-exercise-data\\\\11-04_cairo.txt',\n",
       " 'os-collaboration-exercise-data\\\\11-05_cairo.txt',\n",
       " 'os-collaboration-exercise-data\\\\11-10_cairo.txt',\n",
       " 'os-collaboration-exercise-data\\\\11-14_cairo.txt',\n",
       " 'os-collaboration-exercise-data\\\\11-17_cairo.txt',\n",
       " 'os-collaboration-exercise-data\\\\11-19_cairo.txt',\n",
       " 'os-collaboration-exercise-data\\\\11-21_cairo.txt',\n",
       " 'os-collaboration-exercise-data\\\\11-29_cairo.txt',\n",
       " 'os-collaboration-exercise-data\\\\12-01_cairo.txt',\n",
       " 'os-collaboration-exercise-data\\\\12-03_cairo.txt',\n",
       " 'os-collaboration-exercise-data\\\\12-04_cairo.txt',\n",
       " 'os-collaboration-exercise-data\\\\12-05_cairo.txt',\n",
       " 'os-collaboration-exercise-data\\\\12-07_cairo.txt',\n",
       " 'os-collaboration-exercise-data\\\\12-09_cairo.txt',\n",
       " 'os-collaboration-exercise-data\\\\12-10_cairo.txt',\n",
       " 'os-collaboration-exercise-data\\\\12-13_cairo.txt',\n",
       " 'os-collaboration-exercise-data\\\\12-17_cairo.txt',\n",
       " 'os-collaboration-exercise-data\\\\12-18_cairo.txt',\n",
       " 'os-collaboration-exercise-data\\\\12-19_cairo.txt',\n",
       " 'os-collaboration-exercise-data\\\\12-21_cairo.txt',\n",
       " 'os-collaboration-exercise-data\\\\12-22_cairo.txt',\n",
       " 'os-collaboration-exercise-data\\\\12-23_cairo.txt',\n",
       " 'os-collaboration-exercise-data\\\\12-26_cairo.txt',\n",
       " 'os-collaboration-exercise-data\\\\12-27_cairo.txt',\n",
       " 'os-collaboration-exercise-data\\\\12-29_cairo.txt',\n",
       " 'os-collaboration-exercise-data\\\\apr-02_cairo.jpg',\n",
       " 'os-collaboration-exercise-data\\\\apr-06_cairo.png',\n",
       " 'os-collaboration-exercise-data\\\\apr-07_cairo.png',\n",
       " 'os-collaboration-exercise-data\\\\apr-10_cairo.png',\n",
       " 'os-collaboration-exercise-data\\\\apr-12_cairo.pdf',\n",
       " 'os-collaboration-exercise-data\\\\apr-12_cairo.png',\n",
       " 'os-collaboration-exercise-data\\\\apr-13_cairo.png',\n",
       " 'os-collaboration-exercise-data\\\\apr-14_cairo.jpg',\n",
       " 'os-collaboration-exercise-data\\\\apr-14_cairo.png',\n",
       " 'os-collaboration-exercise-data\\\\apr-15_cairo.jpg',\n",
       " 'os-collaboration-exercise-data\\\\apr-17_cairo.jpg',\n",
       " 'os-collaboration-exercise-data\\\\apr-17_cairo.pdf',\n",
       " 'os-collaboration-exercise-data\\\\apr-17_cairo.png',\n",
       " 'os-collaboration-exercise-data\\\\apr-20_cairo.jpg',\n",
       " 'os-collaboration-exercise-data\\\\apr-21_cairo.pdf',\n",
       " 'os-collaboration-exercise-data\\\\apr-22_cairo.pdf',\n",
       " 'os-collaboration-exercise-data\\\\apr-23_cairo.jpg',\n",
       " 'os-collaboration-exercise-data\\\\apr-24_cairo.jpg',\n",
       " 'os-collaboration-exercise-data\\\\aug-01_cairo.jpg',\n",
       " 'os-collaboration-exercise-data\\\\aug-01_cairo.png',\n",
       " 'os-collaboration-exercise-data\\\\aug-03_cairo.png',\n",
       " 'os-collaboration-exercise-data\\\\aug-04_cairo.jpg',\n",
       " 'os-collaboration-exercise-data\\\\aug-04_cairo.pdf',\n",
       " 'os-collaboration-exercise-data\\\\aug-05_cairo.pdf',\n",
       " 'os-collaboration-exercise-data\\\\aug-07_cairo.png',\n",
       " 'os-collaboration-exercise-data\\\\aug-08_cairo.jpg',\n",
       " 'os-collaboration-exercise-data\\\\aug-10_cairo.png',\n",
       " 'os-collaboration-exercise-data\\\\aug-12_cairo.jpg',\n",
       " 'os-collaboration-exercise-data\\\\aug-14_cairo.jpg',\n",
       " 'os-collaboration-exercise-data\\\\aug-14_cairo.png',\n",
       " 'os-collaboration-exercise-data\\\\aug-18_cairo.jpg',\n",
       " 'os-collaboration-exercise-data\\\\aug-19_cairo.jpg',\n",
       " 'os-collaboration-exercise-data\\\\aug-20_cairo.png',\n",
       " 'os-collaboration-exercise-data\\\\aug-24_cairo.pdf',\n",
       " 'os-collaboration-exercise-data\\\\aug-25_cairo.png',\n",
       " 'os-collaboration-exercise-data\\\\aug-26_cairo.png',\n",
       " 'os-collaboration-exercise-data\\\\dec-01_cairo.jpg',\n",
       " 'os-collaboration-exercise-data\\\\dec-03_cairo.jpg',\n",
       " 'os-collaboration-exercise-data\\\\dec-03_cairo.png',\n",
       " 'os-collaboration-exercise-data\\\\dec-04_cairo.jpg',\n",
       " 'os-collaboration-exercise-data\\\\dec-04_cairo.pdf',\n",
       " 'os-collaboration-exercise-data\\\\dec-04_cairo.png',\n",
       " 'os-collaboration-exercise-data\\\\dec-05_cairo.png',\n",
       " 'os-collaboration-exercise-data\\\\dec-07_cairo.jpg',\n",
       " 'os-collaboration-exercise-data\\\\dec-09_cairo.png',\n",
       " 'os-collaboration-exercise-data\\\\dec-10_cairo.jpg',\n",
       " 'os-collaboration-exercise-data\\\\dec-10_cairo.pdf',\n",
       " 'os-collaboration-exercise-data\\\\dec-13_cairo.pdf',\n",
       " 'os-collaboration-exercise-data\\\\dec-17_cairo.png',\n",
       " 'os-collaboration-exercise-data\\\\dec-18_cairo.jpg',\n",
       " 'os-collaboration-exercise-data\\\\dec-19_cairo.pdf',\n",
       " 'os-collaboration-exercise-data\\\\dec-21_cairo.png',\n",
       " 'os-collaboration-exercise-data\\\\dec-22_cairo.jpg',\n",
       " 'os-collaboration-exercise-data\\\\dec-23_cairo.pdf',\n",
       " 'os-collaboration-exercise-data\\\\dec-26_cairo.pdf',\n",
       " 'os-collaboration-exercise-data\\\\dec-27_cairo.png',\n",
       " 'os-collaboration-exercise-data\\\\dec-29_cairo.jpg',\n",
       " 'os-collaboration-exercise-data\\\\dec-29_cairo.png',\n",
       " 'os-collaboration-exercise-data\\\\feb-10_cairo.jpg',\n",
       " 'os-collaboration-exercise-data\\\\feb-10_cairo.pdf',\n",
       " 'os-collaboration-exercise-data\\\\feb-17_cairo.jpg',\n",
       " 'os-collaboration-exercise-data\\\\feb-20_cairo.png',\n",
       " 'os-collaboration-exercise-data\\\\feb-22_cairo.pdf',\n",
       " 'os-collaboration-exercise-data\\\\feb-22_cairo.png',\n",
       " 'os-collaboration-exercise-data\\\\feb-25_cairo.jpg',\n",
       " 'os-collaboration-exercise-data\\\\feb-25_cairo.pdf',\n",
       " 'os-collaboration-exercise-data\\\\feb-26_cairo.png',\n",
       " 'os-collaboration-exercise-data\\\\jan-02_cairo.pdf',\n",
       " 'os-collaboration-exercise-data\\\\jan-03_cairo.pdf',\n",
       " 'os-collaboration-exercise-data\\\\jan-04_cairo.jpg',\n",
       " 'os-collaboration-exercise-data\\\\jan-05_cairo.jpg',\n",
       " 'os-collaboration-exercise-data\\\\jan-07_cairo.jpg',\n",
       " 'os-collaboration-exercise-data\\\\jan-08_cairo.png',\n",
       " 'os-collaboration-exercise-data\\\\jan-09_cairo.jpg',\n",
       " 'os-collaboration-exercise-data\\\\jan-11_cairo.png',\n",
       " 'os-collaboration-exercise-data\\\\jan-12_cairo.pdf',\n",
       " 'os-collaboration-exercise-data\\\\jan-13_cairo.png',\n",
       " 'os-collaboration-exercise-data\\\\jan-15_cairo.jpg',\n",
       " 'os-collaboration-exercise-data\\\\jan-15_cairo.png',\n",
       " 'os-collaboration-exercise-data\\\\jan-16_cairo.png',\n",
       " 'os-collaboration-exercise-data\\\\jan-19_cairo.pdf',\n",
       " 'os-collaboration-exercise-data\\\\jan-20_cairo.pdf',\n",
       " 'os-collaboration-exercise-data\\\\jan-21_cairo.jpg',\n",
       " 'os-collaboration-exercise-data\\\\jan-23_cairo.png',\n",
       " 'os-collaboration-exercise-data\\\\jan-27_cairo.jpg',\n",
       " 'os-collaboration-exercise-data\\\\jan-30_cairo.pdf',\n",
       " 'os-collaboration-exercise-data\\\\jul-04_cairo.jpg',\n",
       " 'os-collaboration-exercise-data\\\\jul-08_cairo.png',\n",
       " 'os-collaboration-exercise-data\\\\jul-10_cairo.png',\n",
       " 'os-collaboration-exercise-data\\\\jul-13_cairo.png',\n",
       " 'os-collaboration-exercise-data\\\\jul-14_cairo.jpg',\n",
       " 'os-collaboration-exercise-data\\\\jul-15_cairo.pdf',\n",
       " 'os-collaboration-exercise-data\\\\jul-16_cairo.png',\n",
       " 'os-collaboration-exercise-data\\\\jul-17_cairo.pdf',\n",
       " 'os-collaboration-exercise-data\\\\jul-19_cairo.jpg',\n",
       " 'os-collaboration-exercise-data\\\\jul-24_cairo.pdf',\n",
       " 'os-collaboration-exercise-data\\\\jul-26_cairo.png',\n",
       " 'os-collaboration-exercise-data\\\\jul-27_cairo.png',\n",
       " 'os-collaboration-exercise-data\\\\jul-29_cairo.jpg',\n",
       " 'os-collaboration-exercise-data\\\\jul-30_cairo.png',\n",
       " 'os-collaboration-exercise-data\\\\jun-28_cairo.pdf',\n",
       " 'os-collaboration-exercise-data\\\\mar-05_cairo.pdf',\n",
       " 'os-collaboration-exercise-data\\\\mar-05_cairo.png',\n",
       " 'os-collaboration-exercise-data\\\\mar-06_cairo.pdf',\n",
       " 'os-collaboration-exercise-data\\\\mar-12_cairo.jpg',\n",
       " 'os-collaboration-exercise-data\\\\mar-14_cairo.pdf',\n",
       " 'os-collaboration-exercise-data\\\\mar-19_cairo.jpg',\n",
       " 'os-collaboration-exercise-data\\\\mar-24_cairo.pdf',\n",
       " 'os-collaboration-exercise-data\\\\may-01_cairo.png',\n",
       " 'os-collaboration-exercise-data\\\\may-02_cairo.png',\n",
       " 'os-collaboration-exercise-data\\\\may-12_cairo.png',\n",
       " 'os-collaboration-exercise-data\\\\may-17_cairo.png',\n",
       " 'os-collaboration-exercise-data\\\\may-25_cairo.png',\n",
       " 'os-collaboration-exercise-data\\\\may-27_cairo.pdf',\n",
       " 'os-collaboration-exercise-data\\\\may-29_cairo.pdf',\n",
       " 'os-collaboration-exercise-data\\\\may-30_cairo.jpg',\n",
       " 'os-collaboration-exercise-data\\\\may-30_cairo.png',\n",
       " 'os-collaboration-exercise-data\\\\nov-03_cairo.png',\n",
       " 'os-collaboration-exercise-data\\\\nov-04_cairo.pdf',\n",
       " 'os-collaboration-exercise-data\\\\nov-05_cairo.jpg',\n",
       " 'os-collaboration-exercise-data\\\\nov-05_cairo.png',\n",
       " 'os-collaboration-exercise-data\\\\nov-10_cairo.pdf',\n",
       " 'os-collaboration-exercise-data\\\\nov-14_cairo.pdf',\n",
       " 'os-collaboration-exercise-data\\\\nov-17_cairo.pdf',\n",
       " 'os-collaboration-exercise-data\\\\nov-19_cairo.jpg',\n",
       " 'os-collaboration-exercise-data\\\\nov-21_cairo.pdf',\n",
       " 'os-collaboration-exercise-data\\\\nov-29_cairo.pdf',\n",
       " 'os-collaboration-exercise-data\\\\oct-23_cairo.jpg',\n",
       " 'os-collaboration-exercise-data\\\\sep-02_cairo.png',\n",
       " 'os-collaboration-exercise-data\\\\sep-04_cairo.pdf',\n",
       " 'os-collaboration-exercise-data\\\\sep-05_cairo.pdf',\n",
       " 'os-collaboration-exercise-data\\\\sep-07_cairo.jpg',\n",
       " 'os-collaboration-exercise-data\\\\sep-08_cairo.pdf',\n",
       " 'os-collaboration-exercise-data\\\\sep-11_cairo.png',\n",
       " 'os-collaboration-exercise-data\\\\sep-12_cairo.png',\n",
       " 'os-collaboration-exercise-data\\\\sep-13_cairo.jpg',\n",
       " 'os-collaboration-exercise-data\\\\sep-13_cairo.png',\n",
       " 'os-collaboration-exercise-data\\\\sep-16_cairo.png',\n",
       " 'os-collaboration-exercise-data\\\\sep-18_cairo.pdf',\n",
       " 'os-collaboration-exercise-data\\\\sep-20_cairo.jpg',\n",
       " 'os-collaboration-exercise-data\\\\sep-22_cairo.pdf',\n",
       " 'os-collaboration-exercise-data\\\\sep-23_cairo.pdf',\n",
       " 'os-collaboration-exercise-data\\\\sep-24_cairo.pdf',\n",
       " 'os-collaboration-exercise-data\\\\sep-25_cairo.jpg',\n",
       " 'os-collaboration-exercise-data\\\\sep-25_cairo.pdf',\n",
       " 'os-collaboration-exercise-data\\\\sep-26_cairo.pdf',\n",
       " 'os-collaboration-exercise-data\\\\sep-28_cairo.jpg',\n",
       " 'os-collaboration-exercise-data\\\\sep-28_cairo.pdf',\n",
       " 'os-collaboration-exercise-data\\\\sep-28_cairo.png']"
      ]
     },
     "execution_count": 17,
     "metadata": {},
     "output_type": "execute_result"
    }
   ],
   "source": [
    "def copy_files(source):\n",
    "    x = f'os*/*{source}.*'\n",
    "    print(x)\n",
    "    y = glob.glob(x)\n",
    "    print(y)\n",
    "    return y\n",
    "copy_files('cairo')"
   ]
  },
  {
   "cell_type": "code",
   "execution_count": null,
   "id": "d6a0956c-cc87-4a17-947a-965af91a1f81",
   "metadata": {},
   "outputs": [],
   "source": []
  },
  {
   "cell_type": "code",
   "execution_count": null,
   "id": "98337149-9355-4454-beb9-3118e7f262b0",
   "metadata": {},
   "outputs": [],
   "source": []
  }
 ],
 "metadata": {
  "kernelspec": {
   "display_name": "Python 3 (ipykernel)",
   "language": "python",
   "name": "python3"
  },
  "language_info": {
   "codemirror_mode": {
    "name": "ipython",
    "version": 3
   },
   "file_extension": ".py",
   "mimetype": "text/x-python",
   "name": "python",
   "nbconvert_exporter": "python",
   "pygments_lexer": "ipython3",
   "version": "3.11.5"
  },
  "toc": {
   "base_numbering": 1,
   "nav_menu": {},
   "number_sections": true,
   "sideBar": true,
   "skip_h1_title": false,
   "title_cell": "Table of Contents",
   "title_sidebar": "Contents",
   "toc_cell": false,
   "toc_position": {},
   "toc_section_display": true,
   "toc_window_display": false
  },
  "vscode": {
   "interpreter": {
    "hash": "31f2aee4e71d21fbe5cf8b01ff0e069b9275f58929596ceb00d14d90e3e16cd6"
   }
  }
 },
 "nbformat": 4,
 "nbformat_minor": 5
}
