{
 "cells": [
  {
   "attachments": {},
   "cell_type": "markdown",
   "id": "123456",
   "metadata": {},
   "source": [
    "<div style=\"text-align:left;font-size:2em\"><span style=\"font-weight:bolder;font-size:1.25em\">SP2273 | Learning Portfolio</span><br><br><span style=\"font-weight:bold;color:darkred\">Files, Folders & OS (Need) Exercises</span></div>"
   ]
  },
  {
   "cell_type": "code",
   "execution_count": 2,
   "id": "845786d6-a462-447f-b991-5325b07d3e56",
   "metadata": {},
   "outputs": [],
   "source": [
    "month_converter = {\n",
    "'jan': '01', 'feb': '02', 'mar': '03',\n",
    "'apr': '04', 'may': '05', 'jun': '06',\n",
    "'jul': '07', 'aug': '08', 'sep': '09',\n",
    "'oct': '10', 'nov': '11', 'dec': '12'\n",
    "}\n",
    "import os\n",
    "import shutil\n",
    "import glob"
   ]
  },
  {
   "cell_type": "markdown",
   "id": "7139a068-8363-43fd-893d-fb02e01421b9",
   "metadata": {},
   "source": [
    "### Task 1"
   ]
  },
  {
   "cell_type": "code",
   "execution_count": 3,
   "id": "c32bf9a8-7a5b-444d-a46c-022a75800ab9",
   "metadata": {},
   "outputs": [
    {
     "name": "stdout",
     "output_type": "stream",
     "text": [
      "10\n",
      "10-08-singapore.txt\n"
     ]
    }
   ],
   "source": [
    "name = 'oct-08-singapore.txt'\n",
    "y = name.split('-')\n",
    "for x in month_converter.keys():\n",
    "    if y[0] == x:\n",
    "        y[0] = month_converter[x]\n",
    "        print(y[0])\n",
    "name = '-'.join(y)\n",
    "print(name)\n",
    "    "
   ]
  },
  {
   "cell_type": "markdown",
   "id": "df8b0d5e-92e9-4829-b638-cd02f995cca5",
   "metadata": {},
   "source": [
    "### Task 2"
   ]
  },
  {
   "cell_type": "code",
   "execution_count": 30,
   "id": "a641bb6b-90ff-4341-ac4f-8913b274ff8b",
   "metadata": {},
   "outputs": [
    {
     "name": "stdout",
     "output_type": "stream",
     "text": [
      "02-09-china\n"
     ]
    }
   ],
   "source": [
    "def rename_my_file(old_file_name):\n",
    "    y = old_file_name.split('-')\n",
    "    for x in month_converter.keys():\n",
    "        if y[0] == x:\n",
    "            y[0] = month_converter[x]\n",
    "            old_file_name = '-'.join(y)\n",
    "    return f'{old_file_name}'\n",
    "\n",
    "print(rename_my_file('feb-09-china'))"
   ]
  },
  {
   "cell_type": "markdown",
   "id": "e6f917ce-0191-4b5c-b9dd-5e68996b7de3",
   "metadata": {},
   "source": [
    "### Task 3 "
   ]
  },
  {
   "cell_type": "code",
   "execution_count": 9,
   "id": "00beda6f-c728-4605-a5d8-070c801d8267",
   "metadata": {},
   "outputs": [
    {
     "name": "stdout",
     "output_type": "stream",
     "text": [
      "['10-08_singapore.txt', '07-10_cairo.txt', '05-15_dhaka.txt', '05-13_cairo.txt', '10-21_cairo.txt', '01-10_singapore.txt', '06-20_tokyo.txt', '08-06_jakarta.txt', '12-21_karachi.txt', '01-01_tokyo.txt']\n"
     ]
    }
   ],
   "source": [
    "old_file_name = ['oct-08_singapore.txt', 'jul-10_cairo.txt', 'may-15_dhaka.txt',\n",
    " 'may-13_cairo.txt', 'oct-21_cairo.txt', 'jan-10_singapore.txt',\n",
    " 'jun-20_tokyo.txt', 'aug-06_jakarta.txt', 'dec-21_karachi.txt',\n",
    " 'jan-01_tokyo.txt']\n",
    "\n",
    "new_file_name = []\n",
    "for x in old_file_name:\n",
    "    new_file_name += [rename_my_file(x)]\n",
    "\n",
    "print(new_file_name)"
   ]
  },
  {
   "cell_type": "markdown",
   "id": "d802cef9-1241-4b26-89a9-5d3528f6bcbd",
   "metadata": {},
   "source": [
    "### Task 4"
   ]
  },
  {
   "cell_type": "code",
   "execution_count": 44,
   "id": "28747bba-20e3-4071-bf79-2c7e28dd071b",
   "metadata": {},
   "outputs": [
    {
     "name": "stdout",
     "output_type": "stream",
     "text": [
      "apr-02_jakarta.png\n"
     ]
    },
    {
     "ename": "FileNotFoundError",
     "evalue": "[WinError 2] The system cannot find the file specified: 'apr-02_jakarta.png' -> '04-02_jakarta.png'",
     "output_type": "error",
     "traceback": [
      "\u001b[1;31m---------------------------------------------------------------------------\u001b[0m",
      "\u001b[1;31mFileNotFoundError\u001b[0m                         Traceback (most recent call last)",
      "Cell \u001b[1;32mIn[44], line 10\u001b[0m\n\u001b[0;32m      8\u001b[0m y \u001b[38;5;241m=\u001b[39m os\u001b[38;5;241m.\u001b[39mpath\u001b[38;5;241m.\u001b[39msplit(x)[\u001b[38;5;241m-\u001b[39m\u001b[38;5;241m1\u001b[39m]\n\u001b[0;32m      9\u001b[0m \u001b[38;5;28mprint\u001b[39m(y)\n\u001b[1;32m---> 10\u001b[0m \u001b[43mos\u001b[49m\u001b[38;5;241;43m.\u001b[39;49m\u001b[43mrename\u001b[49m\u001b[43m(\u001b[49m\u001b[43my\u001b[49m\u001b[43m,\u001b[49m\u001b[43mrename_my_file\u001b[49m\u001b[43m(\u001b[49m\u001b[43my\u001b[49m\u001b[43m)\u001b[49m\u001b[43m)\u001b[49m\n\u001b[0;32m     11\u001b[0m \u001b[38;5;28mprint\u001b[39m(\u001b[38;5;124mf\u001b[39m\u001b[38;5;124m'\u001b[39m\u001b[38;5;132;01m{\u001b[39;00my\u001b[38;5;132;01m}\u001b[39;00m\u001b[38;5;124m has been renamed to \u001b[39m\u001b[38;5;132;01m{\u001b[39;00mrename_my_file(y)\u001b[38;5;132;01m}\u001b[39;00m\u001b[38;5;124m'\u001b[39m)\n",
      "\u001b[1;31mFileNotFoundError\u001b[0m: [WinError 2] The system cannot find the file specified: 'apr-02_jakarta.png' -> '04-02_jakarta.png'"
     ]
    }
   ],
   "source": [
    "txt_files = glob.glob('os-collaboration-exercise-data\\**.txt')\n",
    "for i in txt_files:\n",
    "    # os.rename(i, rename_my_file(i))\n",
    "    j = os.path.split(i)[-1]\n",
    "    # print(f'{j} has been renamed to {rename_my_file(j)}')\n",
    "\n",
    "x = 'os-collaboration-exercise-data\\\\apr-02_jakarta.png'\n",
    "y = os.path.split(x)[-1]\n",
    "print(y)\n",
    "os.rename(y,rename_my_file(y))\n",
    "print(f'{y} has been renamed to {rename_my_file(y)}')"
   ]
  },
  {
   "cell_type": "code",
   "execution_count": null,
   "id": "61de4f52-70f5-4e6a-9451-7e3aaa33e036",
   "metadata": {},
   "outputs": [],
   "source": []
  },
  {
   "cell_type": "code",
   "execution_count": null,
   "id": "53e3d713-b6f8-4818-877a-050db43fc5db",
   "metadata": {},
   "outputs": [],
   "source": []
  },
  {
   "cell_type": "code",
   "execution_count": null,
   "id": "b53bb7f2-873f-4d9b-a6dc-b6667ddd61af",
   "metadata": {},
   "outputs": [],
   "source": []
  }
 ],
 "metadata": {
  "kernelspec": {
   "display_name": "Python 3 (ipykernel)",
   "language": "python",
   "name": "python3"
  },
  "language_info": {
   "codemirror_mode": {
    "name": "ipython",
    "version": 3
   },
   "file_extension": ".py",
   "mimetype": "text/x-python",
   "name": "python",
   "nbconvert_exporter": "python",
   "pygments_lexer": "ipython3",
   "version": "3.11.5"
  },
  "toc": {
   "base_numbering": 1,
   "nav_menu": {},
   "number_sections": true,
   "sideBar": true,
   "skip_h1_title": false,
   "title_cell": "Table of Contents",
   "title_sidebar": "Contents",
   "toc_cell": false,
   "toc_position": {},
   "toc_section_display": true,
   "toc_window_display": false
  },
  "vscode": {
   "interpreter": {
    "hash": "31f2aee4e71d21fbe5cf8b01ff0e069b9275f58929596ceb00d14d90e3e16cd6"
   }
  }
 },
 "nbformat": 4,
 "nbformat_minor": 5
}
