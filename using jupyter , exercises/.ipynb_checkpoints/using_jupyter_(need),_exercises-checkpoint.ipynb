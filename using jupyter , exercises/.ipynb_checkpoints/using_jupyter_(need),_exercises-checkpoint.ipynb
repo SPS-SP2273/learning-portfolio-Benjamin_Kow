{
 "cells": [
  {
   "attachments": {},
   "cell_type": "markdown",
   "id": "123456",
   "metadata": {},
   "source": [
    "<div style=\"text-align:left;font-size:2em\"><span style=\"font-weight:bolder;font-size:1.25em\">SP2273 | Learning Portfolio</span><br><br><span style=\"font-weight:bold;color:darkred\">Using Jupyter (Need), Exercises</span></div>"
   ]
  },
  {
   "attachments": {},
   "cell_type": "markdown",
   "id": "be14f8f3",
   "metadata": {},
   "source": [
    "## Quadratic Equations"
   ]
  },
  {
   "attachments": {},
   "cell_type": "markdown",
   "id": "910b10d4",
   "metadata": {},
   "source": [
    "### Introduction"
   ]
  },
  {
   "cell_type": "markdown",
   "id": "52a68bf2-2294-4be5-899e-40c581accdce",
   "metadata": {},
   "source": [
    "![](https://upload.wikimedia.org/wikipedia/commons/f/f8/Polynomialdeg2.svg)\n",
    "\n",
    "(Image from the [Wikipedia page on Quardratic equations](https://en.wikipedia.org/wiki/Quadratic_equation))\n",
    "\n",
    "The general form of a quadratic equation is:\n",
    "$$ax^2+bx+c=0$$\n"
   ]
  },
  {
   "attachments": {},
   "cell_type": "markdown",
   "id": "b1e869f3",
   "metadata": {},
   "source": [
    "### Solutions"
   ]
  },
  {
   "cell_type": "markdown",
   "id": "927802ae-97e7-4999-b900-fbda2d823973",
   "metadata": {},
   "source": [
    "Provided that $a\\ne0$, we can use an elementary algebraic method called [completing the square](https://en.wikipedia.org/wiki/Completing_the_square) to show that a quadratic equation has the following solution:\n",
    "$$x= \\frac{-b \\pm \\sqrt{b^2-4ac}}{2a} $$\n",
    "\n"
   ]
  },
  {
   "attachments": {},
   "cell_type": "markdown",
   "id": "f1d15864",
   "metadata": {},
   "source": [
    "### Discriminant"
   ]
  },
  {
   "cell_type": "markdown",
   "id": "5716392e-9f88-496c-bf6b-852fbe2c6981",
   "metadata": {},
   "source": [
    "The quantity $\\Delta = b^2-4ac$ is called the **discriminant** of the equation and decides the nature of its solutions. The table below shows the various possibilities.\n",
    "\n",
    "| Discriminant         | Roots                                |\n",
    "|:---                  | :---                                 |\n",
    "| $\\Delta=b^2-4ac=0$   | A single solution of $-b/(2a)$       |\n",
    "| $\\Delta=b^2-4ac\\gt0$ | Two distinct solutions               |\n",
    "| $\\Delta=b^2-4ac\\lt0$ | No real solutions; both are complex. |\n"
   ]
  },
  {
   "cell_type": "markdown",
   "id": "d50bb30b-7a02-4489-a5b1-a7632496422a",
   "metadata": {},
   "source": [
    "## Exercise 2"
   ]
  },
  {
   "cell_type": "markdown",
   "id": "bee8e0d9-6c77-4867-94c0-9a61b9ad16c4",
   "metadata": {},
   "source": [
    "1. What is a Git **repository**?\n",
    "   - It is a folder stored on a online server called Github which stores all the files and folders you choose to put inside it.\n",
    "1. Git keeps tracks of **changes** in your repository\n",
    "1. What is a **commit**?\n",
    "   - It is a tracking of changes which you make to a file in your Github repository\n",
    "1. What is a **push**?\n",
    "   - It is a sync, where GitHub desktop will move the changes which it has tracked on your local desktop to the online server.\n",
    "1. What is a **pull**?\n",
    "   - If there are any changes to the files to the online sever, pulling will pull whatever changes from the online server to your local files.\n",
    "1. What is the difference between **GitHub** and **GitHub Desktop**?\n",
    "   - GitHub desktop "
   ]
  }
 ],
 "metadata": {
  "kernelspec": {
   "display_name": "Python 3 (ipykernel)",
   "language": "python",
   "name": "python3"
  },
  "language_info": {
   "codemirror_mode": {
    "name": "ipython",
    "version": 3
   },
   "file_extension": ".py",
   "mimetype": "text/x-python",
   "name": "python",
   "nbconvert_exporter": "python",
   "pygments_lexer": "ipython3",
   "version": "3.11.5"
  },
  "toc": {
   "base_numbering": 1,
   "nav_menu": {},
   "number_sections": true,
   "sideBar": true,
   "skip_h1_title": false,
   "title_cell": "Table of Contents",
   "title_sidebar": "Contents",
   "toc_cell": false,
   "toc_position": {},
   "toc_section_display": true,
   "toc_window_display": false
  },
  "vscode": {
   "interpreter": {
    "hash": "31f2aee4e71d21fbe5cf8b01ff0e069b9275f58929596ceb00d14d90e3e16cd6"
   }
  }
 },
 "nbformat": 4,
 "nbformat_minor": 5
}
