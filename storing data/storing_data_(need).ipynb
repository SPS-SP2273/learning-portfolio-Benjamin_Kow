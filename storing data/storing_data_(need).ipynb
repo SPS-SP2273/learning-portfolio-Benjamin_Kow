{
 "cells": [
  {
   "cell_type": "markdown",
   "id": "123456",
   "metadata": {},
   "source": [
    "<div style=\"text-align:left;font-size:2em\"><span style=\"font-weight:bolder;font-size:1.25em\">SP2273 | Learning Portfolio</span><br><br><span style=\"font-weight:bold;color:darkred\">Storing Data (Need)</span></div>"
   ]
  },
  {
   "cell_type": "markdown",
   "id": "55e9569c",
   "metadata": {},
   "source": [
    "# What to expect in this chapter"
   ]
  },
  {
   "cell_type": "code",
   "execution_count": 4,
   "id": "0c024b2f",
   "metadata": {},
   "outputs": [],
   "source": [
    "import numpy as np"
   ]
  },
  {
   "cell_type": "markdown",
   "id": "abeb6d1c",
   "metadata": {},
   "source": [
    "1. Lists\n",
    "1. Numpy Arrays\n",
    "1. Dictionaries\n",
    "1. Tuples\n",
    "1. Dataframes (data processing part)\n",
    "1. Classes (nice chapter)"
   ]
  },
  {
   "cell_type": "markdown",
   "id": "241709ee",
   "metadata": {},
   "source": [
    "# 1 Lists, Arrays & Dictionaries"
   ]
  },
  {
   "cell_type": "markdown",
   "id": "6e2e1a66",
   "metadata": {},
   "source": [
    "## 1.1 Lets Compare"
   ]
  },
  {
   "cell_type": "code",
   "execution_count": 13,
   "id": "37b59f5b",
   "metadata": {},
   "outputs": [],
   "source": [
    "#This is a python list, just use []\n",
    "pymods = ['SP2273','HSA1000','HSS1000','DTK1234','PC1101','MA2001']"
   ]
  },
  {
   "cell_type": "code",
   "execution_count": 14,
   "id": "c5295084",
   "metadata": {},
   "outputs": [],
   "source": [
    "#This is a numpy array use 'np.array' \n",
    "np.mods = np.array(['SP2273','HSA1000','HSS1000','DTK1234','PC1101','MA2001'])"
   ]
  },
  {
   "cell_type": "code",
   "execution_count": 15,
   "id": "a65dad4d",
   "metadata": {},
   "outputs": [],
   "source": [
    "#This is a dictionary the associated value is seperated using : it kind of \n",
    "#stores \"two\" arrays as one and the ORDER MATTERS. mods[0] must have its\n",
    "#equivalent value in the 0th slot as well. does not apply for dictionaries.\n",
    "\n",
    "mods_subject={\n",
    "    'Physics':'PC1101',\n",
    "    'Math': 'MA2001',\n",
    "    'SPS':'SP2273',\n",
    "    'CHS':'HSS1000'\n",
    "}"
   ]
  },
  {
   "cell_type": "markdown",
   "id": "63391b78",
   "metadata": {},
   "source": [
    "## 1.2 Accessing data from a list (or array)"
   ]
  },
  {
   "cell_type": "code",
   "execution_count": 20,
   "id": "c662d5aa",
   "metadata": {},
   "outputs": [
    {
     "data": {
      "text/plain": [
       "'SP2273'"
      ]
     },
     "execution_count": 20,
     "metadata": {},
     "output_type": "execute_result"
    }
   ],
   "source": [
    "#Python lists always starts counting from the 0th term\n",
    "pymods[0]"
   ]
  },
  {
   "cell_type": "code",
   "execution_count": 19,
   "id": "036feadf",
   "metadata": {},
   "outputs": [
    {
     "data": {
      "text/plain": [
       "'MA2001'"
      ]
     },
     "execution_count": 19,
     "metadata": {},
     "output_type": "execute_result"
    }
   ],
   "source": [
    "#you can use '-1' to count from the back as well\n",
    "#For when we don't know the total number of terms in the list\n",
    "pymods[-1]"
   ]
  },
  {
   "cell_type": "markdown",
   "id": "674a953f",
   "metadata": {},
   "source": [
    "## 1.3 Accessing data from a dictionary"
   ]
  },
  {
   "cell_type": "code",
   "execution_count": 23,
   "id": "ff75e404",
   "metadata": {},
   "outputs": [
    {
     "data": {
      "text/plain": [
       "'MA2001'"
      ]
     },
     "execution_count": 23,
     "metadata": {},
     "output_type": "execute_result"
    }
   ],
   "source": [
    "#You access the corresponding term using the 'key' which is the \n",
    "#Value on the left of the :\n",
    "mods_subject['Math']"
   ]
  },
  {
   "cell_type": "code",
   "execution_count": 24,
   "id": "b58fc0c4",
   "metadata": {},
   "outputs": [
    {
     "data": {
      "text/plain": [
       "dict_keys(['Physics', 'Math', 'SPS', 'CHS'])"
      ]
     },
     "execution_count": 24,
     "metadata": {},
     "output_type": "execute_result"
    }
   ],
   "source": [
    "#In order to access all the keys\n",
    "mods_subject.keys()"
   ]
  },
  {
   "cell_type": "code",
   "execution_count": 25,
   "id": "73affcd6",
   "metadata": {},
   "outputs": [
    {
     "data": {
      "text/plain": [
       "dict_values(['PC1101', 'MA2001', 'SP2273', 'HSS1000'])"
      ]
     },
     "execution_count": 25,
     "metadata": {},
     "output_type": "execute_result"
    }
   ],
   "source": [
    "#In order to access all the corresponding values\n",
    "mods_subject.values()"
   ]
  },
  {
   "cell_type": "markdown",
   "id": "5aabd483",
   "metadata": {},
   "source": [
    "## 1.4 Higher dimensional lists"
   ]
  },
  {
   "cell_type": "code",
   "execution_count": 31,
   "id": "ad2ee715",
   "metadata": {},
   "outputs": [
    {
     "data": {
      "text/plain": [
       "['physics', 'PC1101']"
      ]
     },
     "execution_count": 31,
     "metadata": {},
     "output_type": "execute_result"
    }
   ],
   "source": [
    "#For higher dimensional arrays use multiple []s\n",
    "\n",
    "modsarray=[['physics','PC1101'],\n",
    "           ['math','MA2001'],\n",
    "           ['chem','CM1102'],\n",
    "           ['CHS','DTK1234']]\n",
    "modsarray[0] \n",
    "#Do both values have to be called together? \n",
    "#Like can I somehow get 'CHS','MA2001' using 2D arrays?"
   ]
  },
  {
   "cell_type": "markdown",
   "id": "aff9f772",
   "metadata": {},
   "source": [
    "# 2 Lists vs. Arrays"
   ]
  },
  {
   "cell_type": "markdown",
   "id": "3dd8204c",
   "metadata": {},
   "source": [
    "## 2.1 Size"
   ]
  },
  {
   "cell_type": "code",
   "execution_count": 6,
   "id": "23ca5198",
   "metadata": {},
   "outputs": [],
   "source": [
    "#Use the function len() to figure out the size of the list or the array.\n",
    "\n",
    "list2d = [[1,'a'],\n",
    "        [2,'b'],\n",
    "        [3,'c'],\n",
    "        [4,'d']]\n",
    "array2d = np.array(list2d) \n",
    "#Converting the py list into a np array\n",
    "# Why cant i name my variable starting with an integer like '2dlist'? \n",
    "# It keeps giving me an error\n",
    "# Its just a syntax thing and part of the way python parses variable names "
   ]
  },
  {
   "cell_type": "code",
   "execution_count": 3,
   "id": "c5aa149c",
   "metadata": {},
   "outputs": [
    {
     "data": {
      "text/plain": [
       "4"
      ]
     },
     "execution_count": 3,
     "metadata": {},
     "output_type": "execute_result"
    }
   ],
   "source": [
    "len(list2d)"
   ]
  },
  {
   "cell_type": "code",
   "execution_count": 39,
   "id": "1c922f7f",
   "metadata": {},
   "outputs": [
    {
     "data": {
      "text/plain": [
       "4"
      ]
     },
     "execution_count": 39,
     "metadata": {},
     "output_type": "execute_result"
    }
   ],
   "source": [
    "len(array2d)"
   ]
  },
  {
   "cell_type": "code",
   "execution_count": 7,
   "id": "b9cc4f7d",
   "metadata": {},
   "outputs": [
    {
     "name": "stdout",
     "output_type": "stream",
     "text": [
      "<class 'tuple'>\n"
     ]
    }
   ],
   "source": [
    "array2d.shape\n",
    "#shape is not a function but a property/ attribute? \n",
    "#I dont understand what this means"
   ]
  },
  {
   "cell_type": "code",
   "execution_count": 48,
   "id": "91c8896c",
   "metadata": {},
   "outputs": [
    {
     "data": {
      "text/plain": [
       "(1, 2, 3)"
      ]
     },
     "execution_count": 48,
     "metadata": {},
     "output_type": "execute_result"
    }
   ],
   "source": [
    "test3d = [[['a','b','c'], ['e','f','g']]]\n",
    "array3d= np.array(test3d)\n",
    "array3d.shape\n",
    "#what does this result even mean LOL \n",
    "# This gives the distance of the dimentions of the array. "
   ]
  },
  {
   "cell_type": "code",
   "execution_count": 10,
   "id": "66d11797-b00d-4d6e-9472-05c47c9ade8e",
   "metadata": {},
   "outputs": [
    {
     "ename": "ValueError",
     "evalue": "setting an array element with a sequence. The requested array has an inhomogeneous shape after 1 dimensions. The detected shape was (4,) + inhomogeneous part.",
     "output_type": "error",
     "traceback": [
      "\u001b[1;31m---------------------------------------------------------------------------\u001b[0m",
      "\u001b[1;31mValueError\u001b[0m                                Traceback (most recent call last)",
      "Cell \u001b[1;32mIn[10], line 2\u001b[0m\n\u001b[0;32m      1\u001b[0m x \u001b[38;5;241m=\u001b[39m [ \u001b[38;5;241m1\u001b[39m, [\u001b[38;5;241m1\u001b[39m, \u001b[38;5;241m2\u001b[39m, [\u001b[38;5;241m4\u001b[39m, \u001b[38;5;241m7\u001b[39m], \u001b[38;5;241m5\u001b[39m], \u001b[38;5;241m6\u001b[39m , [\u001b[38;5;241m1\u001b[39m, \u001b[38;5;241m4\u001b[39m]]\n\u001b[1;32m----> 2\u001b[0m y \u001b[38;5;241m=\u001b[39m \u001b[43mnp\u001b[49m\u001b[38;5;241;43m.\u001b[39;49m\u001b[43marray\u001b[49m\u001b[43m(\u001b[49m\u001b[43mx\u001b[49m\u001b[43m)\u001b[49m\n",
      "\u001b[1;31mValueError\u001b[0m: setting an array element with a sequence. The requested array has an inhomogeneous shape after 1 dimensions. The detected shape was (4,) + inhomogeneous part."
     ]
    }
   ],
   "source": [
    "x = [ 1, [1, 2, [4, 7], 5], 6 , [1, 4]]\n",
    "y = np.array(x)"
   ]
  },
  {
   "cell_type": "markdown",
   "id": "5c23ec42-ef37-45e7-8f96-d0568f803357",
   "metadata": {},
   "source": [
    "For the one above, there are 4 elements in the 'vector' but each vector is a different size"
   ]
  },
  {
   "cell_type": "code",
   "execution_count": 16,
   "id": "002ebaff-d341-437c-a367-51bf73530783",
   "metadata": {},
   "outputs": [
    {
     "data": {
      "text/plain": [
       "(2, 3, 2)"
      ]
     },
     "execution_count": 16,
     "metadata": {},
     "output_type": "execute_result"
    }
   ],
   "source": [
    "x = [[[1, 2],[3,4], [4, 7]], [[1, 2],[3,4], [4, 7]]]\n",
    "# Because numpy arrays use vectorised operations, it is like a 3x3 matrix with each element of the matrix being a matrix of a different side. \n",
    "# Hence numpy cannot store the array properly if the dimensions within each [] of the array is different\n",
    "y = np.array(x)\n",
    "y.shape \n",
    "# Gives you the 'width' of each dimension like [4,7] is 2, there are 3 of such 2 element lists in the second dimension and \n",
    "# total of 2 lists in this array"
   ]
  },
  {
   "cell_type": "markdown",
   "id": "6063cc22",
   "metadata": {},
   "source": [
    "## 2.2 Arrays are fussy about type"
   ]
  },
  {
   "cell_type": "code",
   "execution_count": 50,
   "id": "3bc012a4",
   "metadata": {},
   "outputs": [
    {
     "data": {
      "text/plain": [
       "[1, 2, 3, 4, 1.5, 'A']"
      ]
     },
     "execution_count": 50,
     "metadata": {},
     "output_type": "execute_result"
    }
   ],
   "source": [
    "#Numpy arrays only tolerate ONE type. meaning all integers muust be all integers\n",
    "py_list =[1,2,3,4,1.5,'A']\n",
    "np_array=np.array(py_list)\n",
    "py_list"
   ]
  },
  {
   "cell_type": "code",
   "execution_count": 53,
   "id": "b2f19c1a",
   "metadata": {},
   "outputs": [
    {
     "data": {
      "text/plain": [
       "array(['1', '2', '3', '4', '1.5', 'A'], dtype='<U32')"
      ]
     },
     "execution_count": 53,
     "metadata": {},
     "output_type": "execute_result"
    }
   ],
   "source": [
    "np_array\n",
    "# So all the values have been converted into strings \n",
    "# What does 'dtype=\"<U32\"' mean?"
   ]
  },
  {
   "cell_type": "markdown",
   "id": "f891325a",
   "metadata": {},
   "source": [
    "## 2.3 Adding a number"
   ]
  },
  {
   "cell_type": "code",
   "execution_count": 91,
   "id": "310da499",
   "metadata": {},
   "outputs": [],
   "source": [
    "x = [1,2,3,4,5,6]\n",
    "npx = np.array(x)"
   ]
  },
  {
   "cell_type": "code",
   "execution_count": 56,
   "id": "2fded2ca",
   "metadata": {},
   "outputs": [
    {
     "data": {
      "text/plain": [
       "array([11, 12, 13, 14, 15, 16])"
      ]
     },
     "execution_count": 56,
     "metadata": {},
     "output_type": "execute_result"
    }
   ],
   "source": [
    "#Arrays work like mathematical objects\n",
    "npx + 10 "
   ]
  },
  {
   "cell_type": "code",
   "execution_count": 57,
   "id": "158f9275",
   "metadata": {},
   "outputs": [
    {
     "ename": "TypeError",
     "evalue": "can only concatenate list (not \"int\") to list",
     "output_type": "error",
     "traceback": [
      "\u001b[1;31m---------------------------------------------------------------------------\u001b[0m",
      "\u001b[1;31mTypeError\u001b[0m                                 Traceback (most recent call last)",
      "Cell \u001b[1;32mIn[57], line 1\u001b[0m\n\u001b[1;32m----> 1\u001b[0m \u001b[43mx\u001b[49m\u001b[43m \u001b[49m\u001b[38;5;241;43m+\u001b[39;49m\u001b[43m \u001b[49m\u001b[38;5;241;43m10\u001b[39;49m \u001b[38;5;66;03m# This doesnt work\u001b[39;00m\n",
      "\u001b[1;31mTypeError\u001b[0m: can only concatenate list (not \"int\") to list"
     ]
    }
   ],
   "source": [
    "x + 10 # This doesnt work"
   ]
  },
  {
   "cell_type": "markdown",
   "id": "a629d310",
   "metadata": {},
   "source": [
    "## 2.4 Adding another list"
   ]
  },
  {
   "cell_type": "code",
   "execution_count": 58,
   "id": "10209791",
   "metadata": {},
   "outputs": [],
   "source": [
    "x2=[10,10,10,10,10,10]\n",
    "npx2 = np.array(x2)"
   ]
  },
  {
   "cell_type": "code",
   "execution_count": 60,
   "id": "72aa34cf",
   "metadata": {},
   "outputs": [
    {
     "data": {
      "text/plain": [
       "[1, 2, 3, 4, 5, 6, 10, 10, 10, 10, 10, 10]"
      ]
     },
     "execution_count": 60,
     "metadata": {},
     "output_type": "execute_result"
    }
   ],
   "source": [
    "# Summing lists just adds the two groups together\n",
    "x+ x2"
   ]
  },
  {
   "cell_type": "code",
   "execution_count": 62,
   "id": "179e1acb",
   "metadata": {},
   "outputs": [
    {
     "data": {
      "text/plain": [
       "array([11, 12, 13, 14, 15, 16])"
      ]
     },
     "execution_count": 62,
     "metadata": {},
     "output_type": "execute_result"
    }
   ],
   "source": [
    "npx + npx2 \n",
    "# Adding arrays is like a mathematical operation,\n",
    "#Adding 0th term to the 0th terms"
   ]
  },
  {
   "cell_type": "markdown",
   "id": "910ad43e",
   "metadata": {},
   "source": [
    "## 2.5 Multiplying by a Number"
   ]
  },
  {
   "cell_type": "code",
   "execution_count": 64,
   "id": "072e0102",
   "metadata": {},
   "outputs": [
    {
     "name": "stdout",
     "output_type": "stream",
     "text": [
      "[1, 2, 3, 4, 5, 6, 1, 2, 3, 4, 5, 6] [10, 10, 10, 10, 10, 10, 10, 10, 10, 10, 10, 10]\n"
     ]
    }
   ],
   "source": [
    "#Same explaination as above for lists vs arrays \n",
    "print(x*2,x2*2)"
   ]
  },
  {
   "cell_type": "code",
   "execution_count": 73,
   "id": "4913f826",
   "metadata": {},
   "outputs": [
    {
     "name": "stdout",
     "output_type": "stream",
     "text": [
      "[ 2  4  6  8 10 12] \n",
      " [20 20 20 20 20 20]\n"
     ]
    }
   ],
   "source": [
    "print(npx*2,'\\n',npx2*2)\n",
    "#Why are they misaligned haha"
   ]
  },
  {
   "cell_type": "markdown",
   "id": "e2cc5d7c",
   "metadata": {},
   "source": [
    "## 2.6 Squaring"
   ]
  },
  {
   "cell_type": "code",
   "execution_count": 74,
   "id": "7101a52c",
   "metadata": {},
   "outputs": [
    {
     "ename": "TypeError",
     "evalue": "unsupported operand type(s) for ** or pow(): 'list' and 'int'",
     "output_type": "error",
     "traceback": [
      "\u001b[1;31m---------------------------------------------------------------------------\u001b[0m",
      "\u001b[1;31mTypeError\u001b[0m                                 Traceback (most recent call last)",
      "Cell \u001b[1;32mIn[74], line 2\u001b[0m\n\u001b[0;32m      1\u001b[0m \u001b[38;5;66;03m#You can't square a list\u001b[39;00m\n\u001b[1;32m----> 2\u001b[0m \u001b[43mx\u001b[49m\u001b[38;5;241;43m*\u001b[39;49m\u001b[38;5;241;43m*\u001b[39;49m\u001b[38;5;241;43m2\u001b[39;49m\n",
      "\u001b[1;31mTypeError\u001b[0m: unsupported operand type(s) for ** or pow(): 'list' and 'int'"
     ]
    }
   ],
   "source": [
    "#You can't square a list\n",
    "x**2"
   ]
  },
  {
   "cell_type": "code",
   "execution_count": 75,
   "id": "c6a97415",
   "metadata": {},
   "outputs": [
    {
     "data": {
      "text/plain": [
       "array([ 1,  4,  9, 16, 25, 36])"
      ]
     },
     "execution_count": 75,
     "metadata": {},
     "output_type": "execute_result"
    }
   ],
   "source": [
    "npx**2 \n",
    "#just does the mathematical operation to every term in the array \n",
    "#Just as you expect it to"
   ]
  },
  {
   "cell_type": "markdown",
   "id": "95679cee",
   "metadata": {},
   "source": [
    "## 2.7 Asking questions"
   ]
  },
  {
   "cell_type": "code",
   "execution_count": 77,
   "id": "e14a3e3a",
   "metadata": {},
   "outputs": [
    {
     "data": {
      "text/plain": [
       "False"
      ]
     },
     "execution_count": 77,
     "metadata": {},
     "output_type": "execute_result"
    }
   ],
   "source": [
    "x == 3"
   ]
  },
  {
   "cell_type": "code",
   "execution_count": 78,
   "id": "f5a24c30",
   "metadata": {},
   "outputs": [
    {
     "data": {
      "text/plain": [
       "False"
      ]
     },
     "execution_count": 78,
     "metadata": {},
     "output_type": "execute_result"
    }
   ],
   "source": [
    "x == 6"
   ]
  },
  {
   "cell_type": "code",
   "execution_count": 88,
   "id": "a7e50f75",
   "metadata": {},
   "outputs": [
    {
     "data": {
      "text/plain": [
       "True"
      ]
     },
     "execution_count": 88,
     "metadata": {},
     "output_type": "execute_result"
    }
   ],
   "source": [
    "x == [1,2,3,4,5,6] # Its comparing if the entire list is identical "
   ]
  },
  {
   "cell_type": "code",
   "execution_count": 93,
   "id": "a65892d5",
   "metadata": {},
   "outputs": [
    {
     "data": {
      "text/plain": [
       "array([False, False,  True, False, False, False])"
      ]
     },
     "execution_count": 93,
     "metadata": {},
     "output_type": "execute_result"
    }
   ],
   "source": [
    "npx == 3 #Tests if each term of the array is equal to that number"
   ]
  },
  {
   "cell_type": "code",
   "execution_count": 95,
   "id": "20a7ac58",
   "metadata": {},
   "outputs": [
    {
     "data": {
      "text/plain": [
       "array([False, False,  True,  True,  True,  True])"
      ]
     },
     "execution_count": 95,
     "metadata": {},
     "output_type": "execute_result"
    }
   ],
   "source": [
    "npx >= 3 # Works the same for any mathematical conditional"
   ]
  },
  {
   "cell_type": "markdown",
   "id": "310b6fea",
   "metadata": {},
   "source": [
    "## 2.8 Mathematics"
   ]
  },
  {
   "cell_type": "markdown",
   "id": "0433adaf",
   "metadata": {},
   "source": [
    "### 2.8.1 Lists"
   ]
  },
  {
   "cell_type": "code",
   "execution_count": 99,
   "id": "006c4fb0",
   "metadata": {},
   "outputs": [
    {
     "name": "stdout",
     "output_type": "stream",
     "text": [
      "21 1 6\n"
     ]
    }
   ],
   "source": [
    "print(sum(x),min(x),max(x)) #All quite self explainatory"
   ]
  },
  {
   "cell_type": "code",
   "execution_count": 100,
   "id": "43e4fcbb",
   "metadata": {},
   "outputs": [
    {
     "ename": "AttributeError",
     "evalue": "'list' object has no attribute 'sum'",
     "output_type": "error",
     "traceback": [
      "\u001b[1;31m---------------------------------------------------------------------------\u001b[0m",
      "\u001b[1;31mAttributeError\u001b[0m                            Traceback (most recent call last)",
      "Cell \u001b[1;32mIn[100], line 1\u001b[0m\n\u001b[1;32m----> 1\u001b[0m \u001b[43mx\u001b[49m\u001b[38;5;241;43m.\u001b[39;49m\u001b[43msum\u001b[49m() \u001b[38;5;66;03m#This does not work but it needs to be an array for this to work\u001b[39;00m\n",
      "\u001b[1;31mAttributeError\u001b[0m: 'list' object has no attribute 'sum'"
     ]
    }
   ],
   "source": [
    "x.sum() #This does not work but it needs to be an array for this to work"
   ]
  },
  {
   "cell_type": "code",
   "execution_count": 103,
   "id": "447adb57",
   "metadata": {},
   "outputs": [
    {
     "name": "stdout",
     "output_type": "stream",
     "text": [
      "21 6 1 3.5 1.707825127659933\n"
     ]
    }
   ],
   "source": [
    "print(npx.sum(),npx.max(),npx.min(),npx.mean(), npx.std())\n",
    "#Also all quite self explainatory just that you put '.function()' unlike lists\n",
    "# Also std is sample standard deviation not variance"
   ]
  },
  {
   "cell_type": "markdown",
   "id": "14952371",
   "metadata": {},
   "source": [
    "Generally operations works on the whole **list** and takes it as **one object** while **arrays** operates on **every element** in the array individually.\n"
   ]
  },
  {
   "cell_type": "markdown",
   "id": "7b1db7fc",
   "metadata": {},
   "source": [
    "## Footnotes"
   ]
  }
 ],
 "metadata": {
  "kernelspec": {
   "display_name": "Python 3 (ipykernel)",
   "language": "python",
   "name": "python3"
  },
  "language_info": {
   "codemirror_mode": {
    "name": "ipython",
    "version": 3
   },
   "file_extension": ".py",
   "mimetype": "text/x-python",
   "name": "python",
   "nbconvert_exporter": "python",
   "pygments_lexer": "ipython3",
   "version": "3.11.5"
  },
  "toc": {
   "base_numbering": 1,
   "nav_menu": {},
   "number_sections": true,
   "sideBar": true,
   "skip_h1_title": false,
   "title_cell": "Table of Contents",
   "title_sidebar": "Contents",
   "toc_cell": false,
   "toc_position": {},
   "toc_section_display": true,
   "toc_window_display": false
  },
  "vscode": {
   "interpreter": {
    "hash": "31f2aee4e71d21fbe5cf8b01ff0e069b9275f58929596ceb00d14d90e3e16cd6"
   }
  }
 },
 "nbformat": 4,
 "nbformat_minor": 5
}
