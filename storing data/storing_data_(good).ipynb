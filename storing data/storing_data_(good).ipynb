{
 "cells": [
  {
   "cell_type": "markdown",
   "id": "123456",
   "metadata": {},
   "source": [
    "<div style=\"text-align:left;font-size:2em\"><span style=\"font-weight:bolder;font-size:1.25em\">SP2273 | Learning Portfolio</span><br><br><span style=\"font-weight:bold;color:darkred\">Storing Data (Good)</span></div>"
   ]
  },
  {
   "cell_type": "markdown",
   "id": "267a1f3b",
   "metadata": {},
   "source": [
    "# What to expect in this chapter"
   ]
  },
  {
   "cell_type": "markdown",
   "id": "94c8411e",
   "metadata": {},
   "source": [
    "# 1 Subsetting: Indexing and Slicing\n",
    "\n",
    "- **Subsetting** means to select\n",
    "- **Indexing** means to pick only one element of the list or array \n",
    "- **Slicing** refers to picking a range of elements"
   ]
  },
  {
   "cell_type": "markdown",
   "id": "db6d2b4c",
   "metadata": {},
   "source": [
    "## 1.1 Lists & Arrays in 1D | Subsetting & Indexing"
   ]
  },
  {
   "cell_type": "code",
   "execution_count": 16,
   "id": "7dd29aad",
   "metadata": {},
   "outputs": [
    {
     "data": {
      "text/plain": [
       "array(['a1', 'a2', 'b3'], dtype='<U2')"
      ]
     },
     "execution_count": 16,
     "metadata": {},
     "output_type": "execute_result"
    }
   ],
   "source": [
    "import numpy as np\n",
    "py_list= ['a1','a2','b3','b4','c5','c6','d7','d8','e9']\n",
    "np_array= np.array(py_list)\n",
    "x=np_array\n",
    "x[0:3] # (excluding last term)"
   ]
  },
  {
   "cell_type": "code",
   "execution_count": 18,
   "id": "7e918d72",
   "metadata": {},
   "outputs": [
    {
     "data": {
      "text/plain": [
       "array(['a1', 'b4', 'd7'], dtype='<U2')"
      ]
     },
     "execution_count": 18,
     "metadata": {},
     "output_type": "execute_result"
    }
   ],
   "source": [
    "x[0:9:3] #index 0 and every third after it till index 9 (excluding last term)"
   ]
  },
  {
   "cell_type": "code",
   "execution_count": 12,
   "id": "e80df507",
   "metadata": {},
   "outputs": [
    {
     "data": {
      "text/plain": [
       "array(['b4', 'c5', 'c6', 'd7', 'd8', 'e9'], dtype='<U2')"
      ]
     },
     "execution_count": 12,
     "metadata": {},
     "output_type": "execute_result"
    }
   ],
   "source": [
    "x[3:] # index 3 to the end (excluding last term)"
   ]
  },
  {
   "cell_type": "code",
   "execution_count": 13,
   "id": "a749b249",
   "metadata": {},
   "outputs": [
    {
     "data": {
      "text/plain": [
       "array(['a1', 'a2', 'b3', 'b4'], dtype='<U2')"
      ]
     },
     "execution_count": 13,
     "metadata": {},
     "output_type": "execute_result"
    }
   ],
   "source": [
    "x[:4] # index 0 to 4 (excluding last term)"
   ]
  },
  {
   "cell_type": "code",
   "execution_count": 11,
   "id": "69cacf1c",
   "metadata": {},
   "outputs": [
    {
     "data": {
      "text/plain": [
       "array(['c5', 'b4', 'b3', 'a2'], dtype='<U2')"
      ]
     },
     "execution_count": 11,
     "metadata": {},
     "output_type": "execute_result"
    }
   ],
   "source": [
    "x[::-1] # Reverses the list \n",
    "x[4:0:-1] # Reverses the list from index 0 to 5 (excluding last term)"
   ]
  },
  {
   "cell_type": "markdown",
   "id": "1fcb9f5e",
   "metadata": {},
   "source": [
    "## 1.2 Arrays only | Subsetting by masking"
   ]
  },
  {
   "cell_type": "code",
   "execution_count": 22,
   "id": "e6d25e9d",
   "metadata": {},
   "outputs": [
    {
     "data": {
      "text/plain": [
       "array([False, False, False, False,  True,  True,  True,  True,  True,\n",
       "        True])"
      ]
     },
     "execution_count": 22,
     "metadata": {},
     "output_type": "execute_result"
    }
   ],
   "source": [
    "npx = np.array([1,2,3,4,5,6,7,8,9,10])\n",
    "mask = npx >=5\n",
    "mask"
   ]
  },
  {
   "cell_type": "code",
   "execution_count": 23,
   "id": "fb2c1f54",
   "metadata": {},
   "outputs": [
    {
     "data": {
      "text/plain": [
       "array([ 5,  6,  7,  8,  9, 10])"
      ]
     },
     "execution_count": 23,
     "metadata": {},
     "output_type": "execute_result"
    }
   ],
   "source": [
    "npx[mask] \n",
    "# If you input another \"array\" as the index of the original array, \n",
    "# you will get only the 'true' values of the original array"
   ]
  },
  {
   "cell_type": "code",
   "execution_count": 24,
   "id": "1cdb35e3",
   "metadata": {},
   "outputs": [
    {
     "data": {
      "text/plain": [
       "array([1, 2])"
      ]
     },
     "execution_count": 24,
     "metadata": {},
     "output_type": "execute_result"
    }
   ],
   "source": [
    "npx[npx<3] #alternatively can just put the condition straight in as the index"
   ]
  },
  {
   "cell_type": "code",
   "execution_count": 26,
   "id": "00a7f003",
   "metadata": {},
   "outputs": [
    {
     "data": {
      "text/plain": [
       "array([ 3,  4,  5,  6,  7,  8,  9, 10])"
      ]
     },
     "execution_count": 26,
     "metadata": {},
     "output_type": "execute_result"
    }
   ],
   "source": [
    "npx[~(npx<3)] # ~ is the bitwise NOT operator (what does BITWISE mean?)"
   ]
  },
  {
   "cell_type": "code",
   "execution_count": 28,
   "id": "4c0f310f",
   "metadata": {},
   "outputs": [
    {
     "data": {
      "text/plain": [
       "array([3, 4, 5, 6])"
      ]
     },
     "execution_count": 28,
     "metadata": {},
     "output_type": "execute_result"
    }
   ],
   "source": [
    "npx[(npx>2) & (npx<7)] # & is the AND operator"
   ]
  },
  {
   "cell_type": "code",
   "execution_count": 29,
   "id": "08b30c4a",
   "metadata": {},
   "outputs": [
    {
     "data": {
      "text/plain": [
       "array([ 1,  2,  3,  4,  5,  6,  7,  8,  9, 10])"
      ]
     },
     "execution_count": 29,
     "metadata": {},
     "output_type": "execute_result"
    }
   ],
   "source": [
    "npx[(npx >3) | (npx < 7)] # | This is the OR operator, in the inclusive sense"
   ]
  },
  {
   "cell_type": "code",
   "execution_count": 32,
   "id": "e8d81c02",
   "metadata": {},
   "outputs": [
    {
     "data": {
      "text/plain": [
       "array([ 1,  2,  8,  9, 10])"
      ]
     },
     "execution_count": 32,
     "metadata": {},
     "output_type": "execute_result"
    }
   ],
   "source": [
    "npx[(npx <3) | (npx > 7)]"
   ]
  },
  {
   "cell_type": "markdown",
   "id": "f194c4ee",
   "metadata": {},
   "source": [
    "## 1.3 Lists & Arrays in 2D | Indexing & Slicing"
   ]
  },
  {
   "cell_type": "code",
   "execution_count": 38,
   "id": "a714d5d3",
   "metadata": {},
   "outputs": [
    {
     "name": "stdout",
     "output_type": "stream",
     "text": [
      "[4, 'D'] ['4' 'D']\n"
     ]
    }
   ],
   "source": [
    "py2dx = [[1, \"A\"], [2, \"B\"], [3, \"C\"], [4, \"D\"],\n",
    "              [5, \"E\"], [6, \"F\"], [7, \"G\"], [8, \"H\"],\n",
    "              [9, \"I\"], [10, \"J\"]]\n",
    "\n",
    "np2dx = np.array(py2dx) \n",
    "print(py2dx[3],np2dx[3])"
   ]
  },
  {
   "cell_type": "code",
   "execution_count": 39,
   "id": "391bcefb",
   "metadata": {},
   "outputs": [
    {
     "data": {
      "text/plain": [
       "4"
      ]
     },
     "execution_count": 39,
     "metadata": {},
     "output_type": "execute_result"
    }
   ],
   "source": [
    "py2dx[3][0] # The first element at index 3 (position 4)"
   ]
  },
  {
   "cell_type": "code",
   "execution_count": 40,
   "id": "49b2f060",
   "metadata": {},
   "outputs": [
    {
     "data": {
      "text/plain": [
       "'4'"
      ]
     },
     "execution_count": 40,
     "metadata": {},
     "output_type": "execute_result"
    }
   ],
   "source": [
    "np2dx[3,0] # The first element at index 3 (position 4)"
   ]
  },
  {
   "cell_type": "markdown",
   "id": "edcbe181",
   "metadata": {},
   "source": [
    "Difference between numpy array and list: the array use a comma to seperate the values but use more brackets in lists"
   ]
  },
  {
   "cell_type": "code",
   "execution_count": 42,
   "id": "a0b393e3",
   "metadata": {},
   "outputs": [
    {
     "data": {
      "text/plain": [
       "array(['4', '5', '6'], dtype='<U11')"
      ]
     },
     "execution_count": 42,
     "metadata": {},
     "output_type": "execute_result"
    }
   ],
   "source": [
    "py2dx[3:6][0]\n",
    "np2dx[3:6,0] #The difference is here again "
   ]
  },
  {
   "cell_type": "markdown",
   "id": "5d2459e3",
   "metadata": {},
   "source": [
    "## 1.4 Growing lists"
   ]
  },
  {
   "cell_type": "code",
   "execution_count": null,
   "id": "66fec695",
   "metadata": {},
   "outputs": [],
   "source": []
  },
  {
   "cell_type": "markdown",
   "id": "3e84d035",
   "metadata": {},
   "source": [
    "# Some loose ends"
   ]
  },
  {
   "cell_type": "markdown",
   "id": "e4567de3",
   "metadata": {},
   "source": [
    "## 1.5 Tuples"
   ]
  },
  {
   "cell_type": "markdown",
   "id": "f8f3cff8",
   "metadata": {},
   "source": [
    "## 1.6 Be VERY careful when copying"
   ]
  },
  {
   "cell_type": "markdown",
   "id": "2e6152d5",
   "metadata": {},
   "source": [
    "# Exercises & Self-Assessment"
   ]
  },
  {
   "cell_type": "code",
   "execution_count": null,
   "id": "88b3cd71",
   "metadata": {},
   "outputs": [],
   "source": [
    "# Your solution here\n",
    "\n",
    "\n",
    "\n"
   ]
  },
  {
   "cell_type": "markdown",
   "id": "117909c1",
   "metadata": {},
   "source": [
    "## Footnotes"
   ]
  }
 ],
 "metadata": {
  "kernelspec": {
   "display_name": "Python 3 (ipykernel)",
   "language": "python",
   "name": "python3"
  },
  "language_info": {
   "codemirror_mode": {
    "name": "ipython",
    "version": 3
   },
   "file_extension": ".py",
   "mimetype": "text/x-python",
   "name": "python",
   "nbconvert_exporter": "python",
   "pygments_lexer": "ipython3",
   "version": "3.11.5"
  },
  "toc": {
   "base_numbering": 1,
   "nav_menu": {},
   "number_sections": true,
   "sideBar": true,
   "skip_h1_title": false,
   "title_cell": "Table of Contents",
   "title_sidebar": "Contents",
   "toc_cell": false,
   "toc_position": {},
   "toc_section_display": true,
   "toc_window_display": false
  },
  "vscode": {
   "interpreter": {
    "hash": "31f2aee4e71d21fbe5cf8b01ff0e069b9275f58929596ceb00d14d90e3e16cd6"
   }
  }
 },
 "nbformat": 4,
 "nbformat_minor": 5
}
