{
 "cells": [
  {
   "cell_type": "markdown",
   "id": "123456",
   "metadata": {},
   "source": [
    "<div style=\"text-align:left;font-size:2em\"><span style=\"font-weight:bolder;font-size:1.25em\">SP2273 | Learning Portfolio</span><br><br><span style=\"font-weight:bold;color:darkred\">Storing Data (Good)</span></div>"
   ]
  },
  {
   "cell_type": "markdown",
   "id": "267a1f3b",
   "metadata": {},
   "source": [
    "# What to expect in this chapter"
   ]
  },
  {
   "cell_type": "markdown",
   "id": "94c8411e",
   "metadata": {},
   "source": [
    "# 1 Subsetting: Indexing and Slicing\n",
    "\n",
    "- **Subsetting** means to select\n",
    "- **Indexing** means to pick only one element of the list or array \n",
    "- **Slicing** refers to picking a range of elements"
   ]
  },
  {
   "cell_type": "markdown",
   "id": "db6d2b4c",
   "metadata": {},
   "source": [
    "## 1.1 Lists & Arrays in 1D | Subsetting & Indexing"
   ]
  },
  {
   "cell_type": "code",
   "execution_count": 3,
   "id": "7dd29aad",
   "metadata": {},
   "outputs": [
    {
     "data": {
      "text/plain": [
       "array(['a1', 'a2', 'b3'], dtype='<U2')"
      ]
     },
     "execution_count": 3,
     "metadata": {},
     "output_type": "execute_result"
    }
   ],
   "source": [
    "import numpy as np\n",
    "py_list= ['a1','a2','b3','b4','c5','c6','d7','d8','e9']\n",
    "np_array= np.array(py_list)\n",
    "x=np_array\n",
    "x[0:3] # (excluding last term)"
   ]
  },
  {
   "cell_type": "code",
   "execution_count": 4,
   "id": "7e918d72",
   "metadata": {},
   "outputs": [
    {
     "data": {
      "text/plain": [
       "array(['a1', 'b4', 'd7'], dtype='<U2')"
      ]
     },
     "execution_count": 4,
     "metadata": {},
     "output_type": "execute_result"
    }
   ],
   "source": [
    "x[0:9:3] #index 0 and every third after it till index 9 (excluding last term)"
   ]
  },
  {
   "cell_type": "code",
   "execution_count": 5,
   "id": "e80df507",
   "metadata": {},
   "outputs": [
    {
     "data": {
      "text/plain": [
       "array(['b4', 'c5', 'c6', 'd7', 'd8', 'e9'], dtype='<U2')"
      ]
     },
     "execution_count": 5,
     "metadata": {},
     "output_type": "execute_result"
    }
   ],
   "source": [
    "x[3:] # index 3 to the end (excluding last term)"
   ]
  },
  {
   "cell_type": "code",
   "execution_count": 6,
   "id": "a749b249",
   "metadata": {},
   "outputs": [
    {
     "data": {
      "text/plain": [
       "array(['a1', 'a2', 'b3', 'b4'], dtype='<U2')"
      ]
     },
     "execution_count": 6,
     "metadata": {},
     "output_type": "execute_result"
    }
   ],
   "source": [
    "x[:4] # index 0 to 4 (excluding last term)"
   ]
  },
  {
   "cell_type": "code",
   "execution_count": 7,
   "id": "69cacf1c",
   "metadata": {},
   "outputs": [
    {
     "data": {
      "text/plain": [
       "array(['c5', 'b4', 'b3', 'a2'], dtype='<U2')"
      ]
     },
     "execution_count": 7,
     "metadata": {},
     "output_type": "execute_result"
    }
   ],
   "source": [
    "x[::-1] # Reverses the list \n",
    "x[4:0:-1] # Reverses the list from index 0 to 5 (excluding last term)"
   ]
  },
  {
   "cell_type": "markdown",
   "id": "1fcb9f5e",
   "metadata": {},
   "source": [
    "## 1.2 Arrays only | Subsetting by masking"
   ]
  },
  {
   "cell_type": "code",
   "execution_count": 8,
   "id": "e6d25e9d",
   "metadata": {},
   "outputs": [
    {
     "data": {
      "text/plain": [
       "array([False, False, False, False,  True,  True,  True,  True,  True,\n",
       "        True])"
      ]
     },
     "execution_count": 8,
     "metadata": {},
     "output_type": "execute_result"
    }
   ],
   "source": [
    "npx = np.array([1,2,3,4,5,6,7,8,9,10])\n",
    "mask = npx >=5\n",
    "mask"
   ]
  },
  {
   "cell_type": "code",
   "execution_count": 9,
   "id": "fb2c1f54",
   "metadata": {},
   "outputs": [
    {
     "data": {
      "text/plain": [
       "array([ 5,  6,  7,  8,  9, 10])"
      ]
     },
     "execution_count": 9,
     "metadata": {},
     "output_type": "execute_result"
    }
   ],
   "source": [
    "npx[mask] \n",
    "# If you input another \"array\" as the index of the original array, \n",
    "# you will get only the 'true' values of the original array"
   ]
  },
  {
   "cell_type": "code",
   "execution_count": 10,
   "id": "1cdb35e3",
   "metadata": {},
   "outputs": [
    {
     "data": {
      "text/plain": [
       "array([1, 2])"
      ]
     },
     "execution_count": 10,
     "metadata": {},
     "output_type": "execute_result"
    }
   ],
   "source": [
    "npx[npx<3] #alternatively can just put the condition straight in as the index"
   ]
  },
  {
   "cell_type": "code",
   "execution_count": 11,
   "id": "00a7f003",
   "metadata": {},
   "outputs": [
    {
     "data": {
      "text/plain": [
       "array([ 3,  4,  5,  6,  7,  8,  9, 10])"
      ]
     },
     "execution_count": 11,
     "metadata": {},
     "output_type": "execute_result"
    }
   ],
   "source": [
    "npx[~(npx<3)] # ~ is the bitwise NOT operator (what does BITWISE mean?)"
   ]
  },
  {
   "cell_type": "code",
   "execution_count": 12,
   "id": "4c0f310f",
   "metadata": {},
   "outputs": [
    {
     "data": {
      "text/plain": [
       "array([3, 4, 5, 6])"
      ]
     },
     "execution_count": 12,
     "metadata": {},
     "output_type": "execute_result"
    }
   ],
   "source": [
    "npx[(npx>2) & (npx<7)] # & is the AND operator"
   ]
  },
  {
   "cell_type": "code",
   "execution_count": 13,
   "id": "08b30c4a",
   "metadata": {},
   "outputs": [
    {
     "data": {
      "text/plain": [
       "array([ 1,  2,  3,  4,  5,  6,  7,  8,  9, 10])"
      ]
     },
     "execution_count": 13,
     "metadata": {},
     "output_type": "execute_result"
    }
   ],
   "source": [
    "npx[(npx >3) | (npx < 7)] # | This is the OR operator, in the inclusive sense"
   ]
  },
  {
   "cell_type": "code",
   "execution_count": 14,
   "id": "e8d81c02",
   "metadata": {},
   "outputs": [
    {
     "data": {
      "text/plain": [
       "array([ 1,  2,  8,  9, 10])"
      ]
     },
     "execution_count": 14,
     "metadata": {},
     "output_type": "execute_result"
    }
   ],
   "source": [
    "npx[(npx <3) | (npx > 7)]"
   ]
  },
  {
   "cell_type": "markdown",
   "id": "f194c4ee",
   "metadata": {},
   "source": [
    "## 1.3 Lists & Arrays in 2D | Indexing & Slicing"
   ]
  },
  {
   "cell_type": "code",
   "execution_count": 15,
   "id": "a714d5d3",
   "metadata": {},
   "outputs": [
    {
     "name": "stdout",
     "output_type": "stream",
     "text": [
      "[4, 'D'] ['4' 'D']\n"
     ]
    }
   ],
   "source": [
    "py2dx = [[1, \"A\"], [2, \"B\"], [3, \"C\"], [4, \"D\"],\n",
    "              [5, \"E\"], [6, \"F\"], [7, \"G\"], [8, \"H\"],\n",
    "              [9, \"I\"], [10, \"J\"]]\n",
    "\n",
    "np2dx = np.array(py2dx) \n",
    "print(py2dx[3],np2dx[3])"
   ]
  },
  {
   "cell_type": "code",
   "execution_count": 21,
   "id": "391bcefb",
   "metadata": {},
   "outputs": [
    {
     "data": {
      "text/plain": [
       "[1, 'A']"
      ]
     },
     "execution_count": 21,
     "metadata": {},
     "output_type": "execute_result"
    }
   ],
   "source": [
    "py2dx[:3][0] # This is some strange syntax it does not yield index 0 to 3, why?"
   ]
  },
  {
   "cell_type": "code",
   "execution_count": 22,
   "id": "49b2f060",
   "metadata": {},
   "outputs": [
    {
     "data": {
      "text/plain": [
       "array(['1', '2', '3'], dtype='<U11')"
      ]
     },
     "execution_count": 22,
     "metadata": {},
     "output_type": "execute_result"
    }
   ],
   "source": [
    "np2dx[:3,0] # The first element at index 0 - 3 (position 4)"
   ]
  },
  {
   "cell_type": "code",
   "execution_count": 23,
   "id": "a0b393e3",
   "metadata": {},
   "outputs": [
    {
     "data": {
      "text/plain": [
       "[4, 'D']"
      ]
     },
     "execution_count": 23,
     "metadata": {},
     "output_type": "execute_result"
    }
   ],
   "source": [
    "py2dx[3:6][0] # This does not work also, it only prints out index 3 \n"
   ]
  },
  {
   "cell_type": "code",
   "execution_count": 24,
   "id": "251c1a6a",
   "metadata": {},
   "outputs": [
    {
     "data": {
      "text/plain": [
       "array(['4', '5', '6'], dtype='<U11')"
      ]
     },
     "execution_count": 24,
     "metadata": {},
     "output_type": "execute_result"
    }
   ],
   "source": [
    "np2dx[3:6,0] # This only works in np arrays i guess"
   ]
  },
  {
   "cell_type": "markdown",
   "id": "5d2459e3",
   "metadata": {},
   "source": [
    "## 1.4 Growing lists\n",
    "For the purposes of the mod, we will not grow a np array, but learn how to grow a list. np arrays are used for mathematical operations to every element in the array, but not good for growing as it takes a long time (because it destroys and remakes the whole array) \n",
    "\n",
    "**Question**: If i can convert a list to a np array, can i convert an np array to a list, also how to do that?"
   ]
  },
  {
   "cell_type": "code",
   "execution_count": 26,
   "id": "fdea6b2b",
   "metadata": {},
   "outputs": [
    {
     "data": {
      "text/plain": [
       "[1, 5, 1, 5, 1, 5, 1, 5, 1, 5, 1, 5]"
      ]
     },
     "execution_count": 26,
     "metadata": {},
     "output_type": "execute_result"
    }
   ],
   "source": [
    "#One option is multiplication\n",
    "x = [1,5]*6\n",
    "x`"
   ]
  },
  {
   "cell_type": "code",
   "execution_count": 27,
   "id": "0c9c18a9",
   "metadata": {},
   "outputs": [
    {
     "data": {
      "text/plain": [
       "[1, 5, 7]"
      ]
     },
     "execution_count": 27,
     "metadata": {},
     "output_type": "execute_result"
    }
   ],
   "source": [
    "# Another option is just adding the term in []s\n",
    "\n",
    "x = [1]\n",
    "x = x + [5]\n",
    "x = x + [7]\n",
    "x"
   ]
  },
  {
   "cell_type": "code",
   "execution_count": 29,
   "id": "468a65c4",
   "metadata": {},
   "outputs": [
    {
     "data": {
      "text/plain": [
       "[2, 4, 6]"
      ]
     },
     "execution_count": 29,
     "metadata": {},
     "output_type": "execute_result"
    }
   ],
   "source": [
    "# Can shorten the syntax with += like previously \n",
    "x = [2]\n",
    "x += [4]\n",
    "x += [6]\n",
    "x"
   ]
  },
  {
   "cell_type": "code",
   "execution_count": 38,
   "id": "fe87266d",
   "metadata": {},
   "outputs": [
    {
     "data": {
      "text/plain": [
       "[1, 1, 4, 5]"
      ]
     },
     "execution_count": 38,
     "metadata": {},
     "output_type": "execute_result"
    }
   ],
   "source": [
    "# can use .append() as well also append is 1.5 times faster \n",
    "x=[1]\n",
    "x.append(1)\n",
    "x.append(2*2)\n",
    "x.append(5)\n",
    "x"
   ]
  },
  {
   "cell_type": "markdown",
   "id": "6682822b",
   "metadata": {},
   "source": [
    "#### extend() vs append()"
   ]
  },
  {
   "cell_type": "code",
   "execution_count": 39,
   "id": "b1f8e6c0",
   "metadata": {},
   "outputs": [
    {
     "data": {
      "text/plain": [
       "[1, 2, 3, 1, 3, 'A']"
      ]
     },
     "execution_count": 39,
     "metadata": {},
     "output_type": "execute_result"
    }
   ],
   "source": [
    "#extend() adds the integers or elements individually \n",
    "x = [1,2,3]\n",
    "x.extend([1,3,'A'])\n",
    "x"
   ]
  },
  {
   "cell_type": "code",
   "execution_count": 40,
   "id": "5f80ab23",
   "metadata": {},
   "outputs": [
    {
     "data": {
      "text/plain": [
       "[1, 2, 3, [1, 3, 'A']]"
      ]
     },
     "execution_count": 40,
     "metadata": {},
     "output_type": "execute_result"
    }
   ],
   "source": [
    "# Append adds everything inside as 'one' element\n",
    "y =[1,2,3]\n",
    "y.append([1,3,'A'])\n",
    "y"
   ]
  },
  {
   "cell_type": "markdown",
   "id": "c6ace1d0",
   "metadata": {},
   "source": [
    "#### Sidenote"
   ]
  },
  {
   "cell_type": "code",
   "execution_count": 41,
   "id": "b50805f2",
   "metadata": {},
   "outputs": [
    {
     "ename": "TypeError",
     "evalue": "unsupported operand type(s) for -=: 'list' and 'list'",
     "output_type": "error",
     "traceback": [
      "\u001b[1;31m---------------------------------------------------------------------------\u001b[0m",
      "\u001b[1;31mTypeError\u001b[0m                                 Traceback (most recent call last)",
      "Cell \u001b[1;32mIn[41], line 4\u001b[0m\n\u001b[0;32m      2\u001b[0m x \u001b[38;5;241m+\u001b[39m\u001b[38;5;241m=\u001b[39m [\u001b[38;5;241m2\u001b[39m]\n\u001b[0;32m      3\u001b[0m x\u001b[38;5;241m*\u001b[39m\u001b[38;5;241m5\u001b[39m\n\u001b[1;32m----> 4\u001b[0m \u001b[43mx\u001b[49m\u001b[43m \u001b[49m\u001b[38;5;241;43m-\u001b[39;49m\u001b[38;5;241;43m=\u001b[39;49m\u001b[43m \u001b[49m\u001b[43m[\u001b[49m\u001b[38;5;241;43m1\u001b[39;49m\u001b[43m]\u001b[49m\n\u001b[0;32m      5\u001b[0m x\n\u001b[0;32m      6\u001b[0m \u001b[38;5;66;03m# I guess you cant remove items from lists like this \u001b[39;00m\n\u001b[0;32m      7\u001b[0m \u001b[38;5;66;03m# How do you remove items from lists?\u001b[39;00m\n",
      "\u001b[1;31mTypeError\u001b[0m: unsupported operand type(s) for -=: 'list' and 'list'"
     ]
    }
   ],
   "source": [
    "x = [1]\n",
    "x += [2]\n",
    "x*5\n",
    "x -= [1]\n",
    "x\n",
    "# I guess you cant remove items from lists like this \n",
    "# How do you remove items from lists?"
   ]
  },
  {
   "cell_type": "markdown",
   "id": "3e84d035",
   "metadata": {},
   "source": [
    "# Some loose ends"
   ]
  },
  {
   "cell_type": "markdown",
   "id": "e4567de3",
   "metadata": {},
   "source": [
    "## 1.5 Tuples\n",
    "\n",
    "Tuples are like lists (multi-type) but they are **immutable** meaning they **cannot** be changed after creation. Also their syntax used `()` instead of `[]`"
   ]
  },
  {
   "cell_type": "code",
   "execution_count": 42,
   "id": "9ba5078e",
   "metadata": {},
   "outputs": [
    {
     "name": "stdout",
     "output_type": "stream",
     "text": [
      "1 (1, 2, 3)\n"
     ]
    }
   ],
   "source": [
    "a = (1,2,3)\n",
    "print(a[0],a[:3])"
   ]
  },
  {
   "cell_type": "code",
   "execution_count": 43,
   "id": "5bf20d79",
   "metadata": {},
   "outputs": [
    {
     "ename": "TypeError",
     "evalue": "'tuple' object does not support item assignment",
     "output_type": "error",
     "traceback": [
      "\u001b[1;31m---------------------------------------------------------------------------\u001b[0m",
      "\u001b[1;31mTypeError\u001b[0m                                 Traceback (most recent call last)",
      "Cell \u001b[1;32mIn[43], line 1\u001b[0m\n\u001b[1;32m----> 1\u001b[0m \u001b[43ma\u001b[49m\u001b[43m[\u001b[49m\u001b[38;5;241;43m0\u001b[39;49m\u001b[43m]\u001b[49m \u001b[38;5;241m=\u001b[39m \u001b[38;5;241m-\u001b[39m\u001b[38;5;241m1\u001b[39m \u001b[38;5;66;03m# This no longer works\u001b[39;00m\n",
      "\u001b[1;31mTypeError\u001b[0m: 'tuple' object does not support item assignment"
     ]
    }
   ],
   "source": [
    "a[0] = -1 # This no longer works"
   ]
  },
  {
   "cell_type": "markdown",
   "id": "f8f3cff8",
   "metadata": {},
   "source": [
    "## 1.6 Be VERY careful when copying\n",
    "Because lists and arrays are mutable objects, they are directiories, and the lists are stored at the same location. "
   ]
  },
  {
   "cell_type": "code",
   "execution_count": 44,
   "id": "f237ecb9",
   "metadata": {},
   "outputs": [
    {
     "name": "stdout",
     "output_type": "stream",
     "text": [
      "[1, 2, 3, 4] [1, 2, 3, 4]\n"
     ]
    }
   ],
   "source": [
    "x = [1,2,3]\n",
    "y = x # DO NOT do this because this will make y's ID equivalent to x and \n",
    "      # any changes in y will be reflected in x. for eg. \n",
    "\n",
    "y += [4]\n",
    "print(y,x)"
   ]
  },
  {
   "cell_type": "code",
   "execution_count": 45,
   "id": "4e99e2c6",
   "metadata": {},
   "outputs": [
    {
     "name": "stdout",
     "output_type": "stream",
     "text": [
      "[1, 2, 3, 4] [1, 2, 3]\n"
     ]
    }
   ],
   "source": [
    "#Do this instead\n",
    "\n",
    "x=[1,2,3]\n",
    "y = x.copy()\n",
    "y +=[4]\n",
    "print(y,x)"
   ]
  }
 ],
 "metadata": {
  "kernelspec": {
   "display_name": "Python 3 (ipykernel)",
   "language": "python",
   "name": "python3"
  },
  "language_info": {
   "codemirror_mode": {
    "name": "ipython",
    "version": 3
   },
   "file_extension": ".py",
   "mimetype": "text/x-python",
   "name": "python",
   "nbconvert_exporter": "python",
   "pygments_lexer": "ipython3",
   "version": "3.11.5"
  },
  "toc": {
   "base_numbering": 1,
   "nav_menu": {},
   "number_sections": true,
   "sideBar": true,
   "skip_h1_title": false,
   "title_cell": "Table of Contents",
   "title_sidebar": "Contents",
   "toc_cell": false,
   "toc_position": {},
   "toc_section_display": true,
   "toc_window_display": false
  },
  "vscode": {
   "interpreter": {
    "hash": "31f2aee4e71d21fbe5cf8b01ff0e069b9275f58929596ceb00d14d90e3e16cd6"
   }
  }
 },
 "nbformat": 4,
 "nbformat_minor": 5
}
