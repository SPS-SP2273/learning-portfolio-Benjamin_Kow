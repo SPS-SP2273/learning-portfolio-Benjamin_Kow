{
 "cells": [
  {
   "cell_type": "markdown",
   "id": "9326d775-faf5-443d-a747-2b0046b8dd66",
   "metadata": {},
   "source": [
    "# Classes \n",
    "\n",
    "Classes support a different programming philosophy called object-oriented programming (OOP). The type of programming we do now is some form of functional or procdural programming."
   ]
  },
  {
   "cell_type": "markdown",
   "id": "c1f99fe7-1341-4a4e-aa66-48319deb9fff",
   "metadata": {},
   "source": [
    "## Setting Up classes "
   ]
  },
  {
   "cell_type": "code",
   "execution_count": 2,
   "id": "536b954e-99b2-411b-b668-15b52cf6bafa",
   "metadata": {},
   "outputs": [],
   "source": [
    "class CParticle1D:\n",
    "    mass=None\n",
    "    position=None\n",
    "    radius=None"
   ]
  },
  {
   "cell_type": "code",
   "execution_count": 3,
   "id": "a49d6bbb-e5d1-4b11-a5f8-bbbb40241bb2",
   "metadata": {},
   "outputs": [],
   "source": [
    "particle_0=CParticle1D()        # Create a new particle\n",
    "particle_0.mass=10             # Set mass for particle 0 \n",
    "particle_0.position=.5         # Set position of particle 0\n",
    "particle_0.radius=.01          # Set the radius of particle 0\n",
    "\n",
    "particle_1=CParticle1D()        # Create another particle\n",
    "particle_1.mass=20             # Set mass for particle 1 \n",
    "particle_1.position=.1         # Set position of particle 1\n",
    "particle_1.radius=.01          # Set the radius of particle 1"
   ]
  },
  {
   "cell_type": "markdown",
   "id": "cc1fc32b-4ddd-4c33-821c-d72dd44c565b",
   "metadata": {},
   "source": [
    "In the above snippet, `particle_0` and `particle_1` are instances of the class `CParticle1D`. `particle_0` and `particle_1` are also called objects of the type `CParticle1D`. This is similar to 1 being an object of the class int."
   ]
  },
  {
   "cell_type": "code",
   "execution_count": 6,
   "id": "03007a99-d803-4b15-b93f-6770518ec414",
   "metadata": {},
   "outputs": [
    {
     "name": "stdout",
     "output_type": "stream",
     "text": [
      "Particle 0 has mass 10 and is at position 0.5.\n"
     ]
    }
   ],
   "source": [
    "print(f'Particle 0 has mass {particle_0.mass} and is at position {particle_0.position}.')\n",
    "# can call the variables like this "
   ]
  },
  {
   "cell_type": "markdown",
   "id": "12a19644-a1fc-49c3-bf93-6e28fc8d6ad5",
   "metadata": {},
   "source": [
    "## Class vs Object variables \n",
    "If you want the variables for all things of the same class to be the same you can do the following"
   ]
  },
  {
   "cell_type": "code",
   "execution_count": 8,
   "id": "692284b5-1b06-4370-acfb-2349dd613d01",
   "metadata": {},
   "outputs": [],
   "source": [
    "CParticle1D.mass = 99           # Set the class variable mass\n",
    "CParticle1D.radius = .01        # Set the class variable radius\n",
    "\n",
    "particle_0=CParticle1D()        # Create a new particle\n",
    "particle_0.position=.5         # Set position of particle 0\n",
    "                               # This is the position variable\n",
    "                               # of object 0\n",
    "\n",
    "particle_1=CParticle1D()        # Create another particle\n",
    "particle_1.position=.1         # Set position of particle 1\n",
    "                               # This is the position variable\n",
    "                               # of object 1"
   ]
  },
  {
   "cell_type": "code",
   "execution_count": 9,
   "id": "abc73454-0e60-47ac-b75f-b902d6225203",
   "metadata": {},
   "outputs": [
    {
     "name": "stdout",
     "output_type": "stream",
     "text": [
      "Particle 0 has mass 99 and is at position 0.5.\n"
     ]
    }
   ],
   "source": [
    "print(f'Particle 0 has mass {particle_0.mass} and is at position {particle_0.position}.')"
   ]
  },
  {
   "cell_type": "markdown",
   "id": "54afe230-2180-4f20-80aa-3cf0f49bc66f",
   "metadata": {},
   "source": [
    "Notice the distinction between class variables and object variables. When you want to access the class variable, you use the . with the class name. Instead, if you wish to use the object variable, use the . with the object. What you do with the object does not affect the class or other objects (particles, in our case). However, there are subtleties to this that I don’t want to go into now. Let’s discover them later."
   ]
  },
  {
   "cell_type": "code",
   "execution_count": 11,
   "id": "a9c59917-e32f-41b0-9299-ad5847d3e4bd",
   "metadata": {},
   "outputs": [],
   "source": [
    "import numpy as np\n",
    "# Make all the particles identical\n",
    "CParticle1D.mass=99\n",
    "CParticle1D.radius=.01\n",
    "\n",
    "# Create a list of particles\n",
    "all_particles=[CParticle1D()]\n",
    "all_particles+=[CParticle1D()]\n",
    "all_particles+=[CParticle1D()]\n",
    "\n",
    "# Initialise with a random position\n",
    "i = 0\n",
    "all_particles[i].position=np.random.rand()\n",
    "\n",
    "i += 1\n",
    "all_particles[i].position=np.random.rand()\n",
    "\n",
    "i += 1\n",
    "all_particles[i].position=np.random.rand()"
   ]
  },
  {
   "cell_type": "markdown",
   "id": "c6bd1698-0ada-4c8f-b0d5-349435d3ca6b",
   "metadata": {},
   "source": [
    "This is inefficient, can just use loops"
   ]
  },
  {
   "cell_type": "code",
   "execution_count": 15,
   "id": "994e8075-b87e-4e64-aaab-862fff11ce38",
   "metadata": {},
   "outputs": [
    {
     "name": "stdout",
     "output_type": "stream",
     "text": [
      "The position of particle 0 is 0.77088\n",
      "The position of particle 1 is 0.25367\n",
      "The position of particle 2 is 0.60892\n",
      "The position of particle 3 is 0.29812\n",
      "The position of particle 4 is 0.16742\n",
      "The position of particle 5 is 0.10449\n",
      "The position of particle 6 is 0.46976\n",
      "The position of particle 7 is 0.81473\n",
      "The position of particle 8 is 0.83135\n",
      "The position of particle 9 is 0.10056\n"
     ]
    }
   ],
   "source": [
    "new_particles = []\n",
    "\n",
    "for i in range(10):\n",
    "    new_particles += [CParticle1D]\n",
    "    new_particles[i].position = np.random.rand()\n",
    "    print(f'The position of particle {i} is {new_particles[i].position:.5f}')"
   ]
  },
  {
   "cell_type": "code",
   "execution_count": null,
   "id": "8411693e-5869-4f6f-91ee-8933ab8c7237",
   "metadata": {},
   "outputs": [],
   "source": []
  }
 ],
 "metadata": {
  "kernelspec": {
   "display_name": "Python 3 (ipykernel)",
   "language": "python",
   "name": "python3"
  },
  "language_info": {
   "codemirror_mode": {
    "name": "ipython",
    "version": 3
   },
   "file_extension": ".py",
   "mimetype": "text/x-python",
   "name": "python",
   "nbconvert_exporter": "python",
   "pygments_lexer": "ipython3",
   "version": "3.11.5"
  }
 },
 "nbformat": 4,
 "nbformat_minor": 5
}
