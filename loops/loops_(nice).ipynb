{
 "cells": [
  {
   "cell_type": "markdown",
   "id": "123456",
   "metadata": {},
   "source": [
    "<div style=\"text-align:left;font-size:2em\"><span style=\"font-weight:bolder;font-size:1.25em\">SP2273 | Learning Portfolio</span><br><br><span style=\"font-weight:bold;color:darkred\">Loops (Nice)</span></div>"
   ]
  },
  {
   "cell_type": "markdown",
   "id": "2a0e07cb",
   "metadata": {},
   "source": [
    "# 1 There is more to list comprehension\n",
    "You can have multiple loops in list comprehension to make multi dimensional lists"
   ]
  },
  {
   "cell_type": "code",
   "execution_count": 4,
   "id": "5d0c3147",
   "metadata": {},
   "outputs": [
    {
     "data": {
      "text/plain": [
       "[[1, 'First', 'A'],\n",
       " [1, 'First', 'C'],\n",
       " [1, 'Second', 'A'],\n",
       " [1, 'Second', 'C'],\n",
       " [1, 'Third', 'A'],\n",
       " [1, 'Third', 'C'],\n",
       " [2, 'First', 'A'],\n",
       " [2, 'First', 'C'],\n",
       " [2, 'Second', 'A'],\n",
       " [2, 'Second', 'C'],\n",
       " [2, 'Third', 'A'],\n",
       " [2, 'Third', 'C']]"
      ]
     },
     "execution_count": 4,
     "metadata": {},
     "output_type": "execute_result"
    }
   ],
   "source": [
    "x = [[a,b,c] for a in range (1,3) for b in ['First','Second','Third'] for c in ['A','C']]\n",
    "x"
   ]
  },
  {
   "cell_type": "code",
   "execution_count": 11,
   "id": "6d186cf4",
   "metadata": {},
   "outputs": [
    {
     "data": {
      "text/plain": [
       "[[['a', 'b'], 'A', 0],\n",
       " [['a', 'b'], 'A', 1],\n",
       " [['a', 'b'], 'A', 2],\n",
       " [['a', 'b'], 'B', 0],\n",
       " [['a', 'b'], 'B', 1],\n",
       " [['a', 'b'], 'B', 2],\n",
       " [['c', 'd'], 'A', 0],\n",
       " [['c', 'd'], 'A', 1],\n",
       " [['c', 'd'], 'A', 2],\n",
       " [['c', 'd'], 'B', 0],\n",
       " [['c', 'd'], 'B', 1],\n",
       " [['c', 'd'], 'B', 2]]"
      ]
     },
     "execution_count": 11,
     "metadata": {},
     "output_type": "execute_result"
    }
   ],
   "source": [
    "y = [[a,b,c] for a in [['a','b'],['c','d']] for b in ['A','B']for c in range(3)]\n",
    "y"
   ]
  },
  {
   "cell_type": "code",
   "execution_count": 21,
   "id": "9b17dea4",
   "metadata": {},
   "outputs": [
    {
     "data": {
      "text/plain": [
       "'b'"
      ]
     },
     "execution_count": 21,
     "metadata": {},
     "output_type": "execute_result"
    }
   ],
   "source": [
    "y[0][0][1]\n",
    "# y is a 3d list but it doesn't have a consistent shape."
   ]
  },
  {
   "cell_type": "code",
   "execution_count": 25,
   "id": "df152be8",
   "metadata": {},
   "outputs": [
    {
     "data": {
      "text/plain": [
       "[[0, 'C'], [2, 'C'], [4, 'C'], [6, 'C'], [8, 'C']]"
      ]
     },
     "execution_count": 25,
     "metadata": {},
     "output_type": "execute_result"
    }
   ],
   "source": [
    "# can include conditionals as well\n",
    "z = [[a,b] for a in range(10) for b in ['C'] if a%2 == 0]\n",
    "z"
   ]
  },
  {
   "cell_type": "code",
   "execution_count": 30,
   "id": "da0f5535",
   "metadata": {},
   "outputs": [
    {
     "data": {
      "text/plain": [
       "[1, 2, 3, 4, 5, 6, 7]"
      ]
     },
     "execution_count": 30,
     "metadata": {},
     "output_type": "execute_result"
    }
   ],
   "source": [
    "nested_list=[[1, 2, 3], [4, 5, 6, 7]]\n",
    "[y for x in nested_list for y in x]\n",
    "# can remove the inner dimensions of the list as well \n",
    "# this line is equivalent to the cell below this\n",
    "# Format is [(main variable) for (some variable) in (list) \n",
    "# for (some other variable) in (another list)] and so on..."
   ]
  },
  {
   "cell_type": "code",
   "execution_count": 28,
   "id": "54f100ea",
   "metadata": {},
   "outputs": [
    {
     "data": {
      "text/plain": [
       "[1, 2, 3, 4, 5, 6, 7]"
      ]
     },
     "execution_count": 28,
     "metadata": {},
     "output_type": "execute_result"
    }
   ],
   "source": [
    "nested_list=[[1, 2, 3], [4, 5, 6, 7]]\n",
    "\n",
    "output =[]\n",
    "for x in nested_list:\n",
    "    for y in x:\n",
    "        output.append(y)\n",
    "output"
   ]
  },
  {
   "cell_type": "markdown",
   "id": "52e5084d",
   "metadata": {},
   "source": [
    "# 2 Zipping a dictionary\n",
    "You can zip two lists into a dictionary where the order of the list matters, using `zip()` and you can put the key first and the value second."
   ]
  },
  {
   "cell_type": "code",
   "execution_count": 33,
   "id": "dbfcee86",
   "metadata": {},
   "outputs": [
    {
     "name": "stdout",
     "output_type": "stream",
     "text": [
      "dict_keys(['ttyl', 'brb', 'lol']) dict_values(['talk to you later', 'be right back', 'laughing out loud'])\n"
     ]
    }
   ],
   "source": [
    "x = ['ttyl','brb','lol']\n",
    "y = ['talk to you later', 'be right back', 'laughing out loud']\n",
    "z = dict(zip(x,y))\n",
    "print(z.keys(),z.values())"
   ]
  },
  {
   "cell_type": "code",
   "execution_count": 36,
   "id": "7d58dad1",
   "metadata": {},
   "outputs": [
    {
     "data": {
      "text/plain": [
       "'talk to you later'"
      ]
     },
     "execution_count": 36,
     "metadata": {},
     "output_type": "execute_result"
    }
   ],
   "source": [
    "z[\"ttyl\"]"
   ]
  },
  {
   "cell_type": "markdown",
   "id": "6e8fcb65",
   "metadata": {},
   "source": [
    "# 3 for and while has an else\n",
    "you can use `for` and `while` loops with another `else` which is only executed if the for loop runs to completion. "
   ]
  },
  {
   "cell_type": "code",
   "execution_count": 41,
   "id": "bc20612a",
   "metadata": {},
   "outputs": [
    {
     "name": "stdout",
     "output_type": "stream",
     "text": [
      "What grade? D\n",
      "about time you S/U your D grade .-.\n"
     ]
    }
   ],
   "source": [
    "x = input(\"What grade? \")\n",
    "grades = ['A+','A','A-','B+','B','B-']\n",
    "\n",
    "for i in grades:\n",
    "    if x == i: break\n",
    "else:\n",
    "    print(f'about time you S/U your {x} grade .-.')\n",
    "    "
   ]
  },
  {
   "cell_type": "markdown",
   "id": "13269200",
   "metadata": {},
   "source": [
    "# Exercises"
   ]
  },
  {
   "cell_type": "markdown",
   "id": "e737b7f2",
   "metadata": {},
   "source": [
    "### Exercise 1\n",
    "The error is quite subtle, it is because when you visualise the code, you realise that the `for` loop iterates over each index of the loop, and when you remove the item from the loop, all the indexes in loop are shifted to the left (-1) and hence you won't iterate over the next item in the list.\n",
    "\n",
    "as shown in the example, the pineapple is index 3 and when it is iterated over index 3 pineapple is removed, then index 4 is processed. but index 4 is now watermelons and not papaya so papaya is not removed. "
   ]
  },
  {
   "cell_type": "code",
   "execution_count": 50,
   "id": "b8b9b222",
   "metadata": {},
   "outputs": [
    {
     "name": "stdout",
     "output_type": "stream",
     "text": [
      "pineapple\n",
      "peaches\n",
      "passionfruit\n"
     ]
    },
    {
     "data": {
      "text/plain": [
       "['apple',\n",
       " 'banana',\n",
       " 'jackfruit',\n",
       " 'papaya',\n",
       " 'watermelons',\n",
       " 'durian',\n",
       " 'mangoes',\n",
       " 'strawberries']"
      ]
     },
     "execution_count": 50,
     "metadata": {},
     "output_type": "execute_result"
    }
   ],
   "source": [
    "fruits = [\"apple\", \"banana\", \"jackfruit\",\n",
    "          \"pineapple\", \"papaya\", \"watermelons\",\n",
    "          \"peaches\", \"durian\",  \"mangoes\",\n",
    "          \"strawberries\", \"passionfruit\"\n",
    "          ]\n",
    "for fruit in fruits:\n",
    "    if fruit[0] == \"p\":\n",
    "        fruits.remove(fruit)\n",
    "        print(fruit)\n",
    "\n",
    "fruits\n",
    "# To fix this iterate over a copy of the list (see below)"
   ]
  },
  {
   "cell_type": "code",
   "execution_count": 56,
   "id": "a3e7493c",
   "metadata": {},
   "outputs": [
    {
     "name": "stdout",
     "output_type": "stream",
     "text": [
      "pineapple\n",
      "papaya\n",
      "peaches\n",
      "passionfruit\n"
     ]
    },
    {
     "data": {
      "text/plain": [
       "['apple',\n",
       " 'banana',\n",
       " 'jackfruit',\n",
       " 'watermelons',\n",
       " 'durian',\n",
       " 'mangoes',\n",
       " 'strawberries']"
      ]
     },
     "execution_count": 56,
     "metadata": {},
     "output_type": "execute_result"
    }
   ],
   "source": [
    "fruits = [\"apple\", \"banana\", \"jackfruit\",\n",
    "          \"pineapple\", \"papaya\", \"watermelons\",\n",
    "          \"peaches\", \"durian\",  \"mangoes\",\n",
    "          \"strawberries\", \"passionfruit\"\n",
    "          ]\n",
    "copy = fruits.copy()\n",
    "for fruit in copy:\n",
    "    if fruit[0] == \"p\":\n",
    "        fruits.remove(fruit)\n",
    "        print(fruit)\n",
    "fruits"
   ]
  },
  {
   "cell_type": "code",
   "execution_count": 53,
   "id": "4ab5e737",
   "metadata": {},
   "outputs": [
    {
     "data": {
      "text/plain": [
       "['apple',\n",
       " 'banana',\n",
       " 'jackfruit',\n",
       " 'watermelons',\n",
       " 'durian',\n",
       " 'mangoes',\n",
       " 'strawberries']"
      ]
     },
     "execution_count": 53,
     "metadata": {},
     "output_type": "execute_result"
    }
   ],
   "source": [
    "# Alternative method\n",
    "fruits = [\"apple\", \"banana\", \"jackfruit\",\n",
    "          \"pineapple\", \"papaya\", \"watermelons\",\n",
    "          \"peaches\", \"durian\",  \"mangoes\",\n",
    "          \"strawberries\", \"passionfruit\"\n",
    "          ]\n",
    "[x for x in fruits if x[0] != 'p']"
   ]
  },
  {
   "cell_type": "markdown",
   "id": "754cc68f",
   "metadata": {},
   "source": [
    "### Exercise 2"
   ]
  },
  {
   "cell_type": "code",
   "execution_count": 59,
   "id": "2d1b9304",
   "metadata": {},
   "outputs": [
    {
     "data": {
      "text/plain": [
       "[[1, 1, 1, 2, 4, 8, 3, 9, 27, 4, 16, 64, 5, 25, 125],\n",
       " [1, 1, 1, 2, 4, 8, 3, 9, 27, 4, 16, 64, 5, 25, 125],\n",
       " [1, 1, 1, 2, 4, 8, 3, 9, 27, 4, 16, 64, 5, 25, 125],\n",
       " [1, 1, 1, 2, 4, 8, 3, 9, 27, 4, 16, 64, 5, 25, 125],\n",
       " [1, 1, 1, 2, 4, 8, 3, 9, 27, 4, 16, 64, 5, 25, 125]]"
      ]
     },
     "execution_count": 59,
     "metadata": {},
     "output_type": "execute_result"
    }
   ],
   "source": [
    "maximum_n = 5\n",
    "result = [[]] * maximum_n\n",
    "\n",
    "for n in range(1, maximum_n + 1):\n",
    "    result[n - 1].append(n)\n",
    "    result[n - 1].append(n**2)\n",
    "    result[n - 1].append(n**3)\n",
    "    \n",
    "result"
   ]
  },
  {
   "cell_type": "code",
   "execution_count": 60,
   "id": "f3b265e8",
   "metadata": {},
   "outputs": [
    {
     "data": {
      "text/plain": [
       "[[1, 1, 1], [2, 4, 8], [3, 9, 27], [4, 16, 64], [5, 25, 125]]"
      ]
     },
     "execution_count": 60,
     "metadata": {},
     "output_type": "execute_result"
    }
   ],
   "source": [
    "# intended result\n",
    "[[1, 1, 1],\n",
    " [2, 4, 8],\n",
    " [3, 9, 27],\n",
    " [4, 16, 64],\n",
    " [5, 25, 125]]"
   ]
  },
  {
   "cell_type": "code",
   "execution_count": 77,
   "id": "84156a80",
   "metadata": {},
   "outputs": [
    {
     "name": "stdout",
     "output_type": "stream",
     "text": [
      "0 2276127003008\n",
      "1 2276127003008\n",
      "2 2276127003008\n",
      "3 2276127003008\n",
      "4 2276127003008\n"
     ]
    }
   ],
   "source": [
    "# As said in the solution running [[]] *5 will create 5 lists with the same ID\n",
    "# so all edits will be reflected in all lists.\n",
    "maximum_n = 5\n",
    "\n",
    "result = [[]] * maximum_n\n",
    "\n",
    "for count, element in enumerate(result):\n",
    "    print(count, id(element))"
   ]
  },
  {
   "cell_type": "markdown",
   "id": "f46c6a47",
   "metadata": {},
   "source": [
    "#### Solution to exercise 2\n",
    "List comprehension\n",
    "\n",
    "**Is there a way to not use list comprehension?**"
   ]
  },
  {
   "cell_type": "code",
   "execution_count": 82,
   "id": "76042f25",
   "metadata": {},
   "outputs": [
    {
     "data": {
      "text/plain": [
       "[[1, 1, 1], [2, 4, 8], [3, 9, 27], [4, 16, 64], [5, 25, 125]]"
      ]
     },
     "execution_count": 82,
     "metadata": {},
     "output_type": "execute_result"
    }
   ],
   "source": [
    "maximum_n = 5\n",
    "result = [[] for _ in range(1,maximum_n+1)] # must use _ for some reason \n",
    "\n",
    "for n in range(1, maximum_n + 1):\n",
    "    result[n - 1].append(n)\n",
    "    result[n - 1].append(n**2)\n",
    "    result[n - 1].append(n**3)\n",
    "    \n",
    "result\n"
   ]
  },
  {
   "cell_type": "markdown",
   "id": "35c3724e",
   "metadata": {},
   "source": [
    "### Exercsie 3 Time profiling "
   ]
  },
  {
   "cell_type": "markdown",
   "id": "51ff6b0e",
   "metadata": {},
   "source": [
    "#### Test 1 (For loop is faster)"
   ]
  },
  {
   "cell_type": "code",
   "execution_count": 112,
   "id": "bac69552",
   "metadata": {},
   "outputs": [
    {
     "name": "stdout",
     "output_type": "stream",
     "text": [
      "877 ns ± 10.9 ns per loop (mean ± std. dev. of 7 runs, 1,000,000 loops each)\n"
     ]
    }
   ],
   "source": [
    "%%timeit #Printing a list of squares from 0 to 9\n",
    "x = []\n",
    "for i in range(10):\n",
    "    x = x + [i**2]\n",
    "x"
   ]
  },
  {
   "cell_type": "code",
   "execution_count": 113,
   "id": "ff8ef47f",
   "metadata": {},
   "outputs": [
    {
     "name": "stdout",
     "output_type": "stream",
     "text": [
      "888 ns ± 5.73 ns per loop (mean ± std. dev. of 7 runs, 1,000,000 loops each)\n"
     ]
    }
   ],
   "source": [
    "%%timeit #Printing a list of squares from 0 to 9\n",
    "x = []\n",
    "i = 0\n",
    "while i < 10:\n",
    "    x = x + [i**2]\n",
    "    i = i + 1\n",
    "x"
   ]
  },
  {
   "cell_type": "markdown",
   "id": "43c6cd56",
   "metadata": {},
   "source": [
    "#### Option 2 (list comprehension is faster)"
   ]
  },
  {
   "cell_type": "code",
   "execution_count": 101,
   "id": "187c7a18",
   "metadata": {},
   "outputs": [
    {
     "name": "stdout",
     "output_type": "stream",
     "text": [
      "820 ns ± 5.74 ns per loop (mean ± std. dev. of 7 runs, 1,000,000 loops each)\n"
     ]
    }
   ],
   "source": [
    "%%timeit #Printing a list of squares from 0 to 9\n",
    "x = []\n",
    "for i in range(10):\n",
    "    x +=[i**2]\n",
    "x"
   ]
  },
  {
   "cell_type": "code",
   "execution_count": 111,
   "id": "11e3ca5e",
   "metadata": {},
   "outputs": [
    {
     "name": "stdout",
     "output_type": "stream",
     "text": [
      "566 ns ± 5.12 ns per loop (mean ± std. dev. of 7 runs, 1,000,000 loops each)\n"
     ]
    }
   ],
   "source": [
    "%%timeit #Printing a list of squares from 0 to 9\n",
    "x = [a**2 for a in range(10)]\n",
    "x"
   ]
  },
  {
   "cell_type": "markdown",
   "id": "c2cb77d3",
   "metadata": {},
   "source": [
    "#### Option 3 (Append is faster)"
   ]
  },
  {
   "cell_type": "code",
   "execution_count": 117,
   "id": "271be221",
   "metadata": {},
   "outputs": [
    {
     "name": "stdout",
     "output_type": "stream",
     "text": [
      "592 ns ± 14 ns per loop (mean ± std. dev. of 7 runs, 1,000,000 loops each)\n"
     ]
    }
   ],
   "source": [
    "%%timeit #Printing a list of squares from 0 to 9\n",
    "x = []\n",
    "for i in range(10):\n",
    "    x.append(i**2)\n",
    "x"
   ]
  },
  {
   "cell_type": "code",
   "execution_count": 115,
   "id": "93860ec6",
   "metadata": {},
   "outputs": [
    {
     "name": "stdout",
     "output_type": "stream",
     "text": [
      "829 ns ± 9.62 ns per loop (mean ± std. dev. of 7 runs, 1,000,000 loops each)\n"
     ]
    }
   ],
   "source": [
    "%%timeit #Printing a list of squares from 0 to 9\n",
    "x = []\n",
    "for i in range(10):\n",
    "    x += [i**2]\n",
    "x"
   ]
  },
  {
   "cell_type": "markdown",
   "id": "e25ae503",
   "metadata": {},
   "source": [
    "#### Option 4 (append from python is faster)"
   ]
  },
  {
   "cell_type": "code",
   "execution_count": 119,
   "id": "52ee7f04",
   "metadata": {},
   "outputs": [
    {
     "name": "stdout",
     "output_type": "stream",
     "text": [
      "603 ns ± 16.3 ns per loop (mean ± std. dev. of 7 runs, 1,000,000 loops each)\n"
     ]
    }
   ],
   "source": [
    "%%timeit #Printing a list of squares from 0 to 9\n",
    "x = []\n",
    "for i in range(10):\n",
    "    x.append(i**2)\n",
    "x"
   ]
  },
  {
   "cell_type": "code",
   "execution_count": 4,
   "id": "9d8b38a6",
   "metadata": {},
   "outputs": [
    {
     "name": "stdout",
     "output_type": "stream",
     "text": [
      "17.8 µs ± 268 ns per loop (mean ± std. dev. of 7 runs, 100,000 loops each)\n"
     ]
    }
   ],
   "source": [
    "%%timeit #Printing a list of squares from 0 to 9\n",
    "import numpy as np\n",
    "x = np.array([])\n",
    "for i in range(10):\n",
    "    x = np.append(x,[i**2])\n",
    "x"
   ]
  },
  {
   "cell_type": "markdown",
   "id": "34829953",
   "metadata": {},
   "source": [
    "#### Option 5 (list comprehension is faster)"
   ]
  },
  {
   "cell_type": "code",
   "execution_count": 11,
   "id": "389cce04",
   "metadata": {},
   "outputs": [
    {
     "name": "stdout",
     "output_type": "stream",
     "text": [
      "1.49 µs ± 11.1 ns per loop (mean ± std. dev. of 7 runs, 1,000,000 loops each)\n"
     ]
    }
   ],
   "source": [
    "%%timeit\n",
    "import numpy as np\n",
    "x = np.array([i for i in range(10)])\n",
    "x**2"
   ]
  },
  {
   "cell_type": "code",
   "execution_count": 14,
   "id": "a4f96ebd",
   "metadata": {},
   "outputs": [
    {
     "name": "stdout",
     "output_type": "stream",
     "text": [
      "578 ns ± 12.4 ns per loop (mean ± std. dev. of 7 runs, 1,000,000 loops each)\n"
     ]
    }
   ],
   "source": [
    "%%timeit\n",
    "x = [i**2 for i in range(10)]\n",
    "x"
   ]
  }
 ],
 "metadata": {
  "kernelspec": {
   "display_name": "Python 3 (ipykernel)",
   "language": "python",
   "name": "python3"
  },
  "language_info": {
   "codemirror_mode": {
    "name": "ipython",
    "version": 3
   },
   "file_extension": ".py",
   "mimetype": "text/x-python",
   "name": "python",
   "nbconvert_exporter": "python",
   "pygments_lexer": "ipython3",
   "version": "3.11.5"
  },
  "toc": {
   "base_numbering": 1,
   "nav_menu": {},
   "number_sections": true,
   "sideBar": true,
   "skip_h1_title": false,
   "title_cell": "Table of Contents",
   "title_sidebar": "Contents",
   "toc_cell": false,
   "toc_position": {},
   "toc_section_display": true,
   "toc_window_display": false
  },
  "vscode": {
   "interpreter": {
    "hash": "31f2aee4e71d21fbe5cf8b01ff0e069b9275f58929596ceb00d14d90e3e16cd6"
   }
  }
 },
 "nbformat": 4,
 "nbformat_minor": 5
}
