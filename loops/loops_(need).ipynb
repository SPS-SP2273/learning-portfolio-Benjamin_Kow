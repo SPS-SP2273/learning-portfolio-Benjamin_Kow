{
 "cells": [
  {
   "attachments": {},
   "cell_type": "markdown",
   "id": "123456",
   "metadata": {},
   "source": [
    "<div style=\"text-align:left;font-size:2em\"><span style=\"font-weight:bolder;font-size:1.25em\">SP2273 | Learning Portfolio</span><br><br><span style=\"font-weight:bold;color:darkred\">Loops (Need)</span></div>"
   ]
  },
  {
   "attachments": {},
   "cell_type": "markdown",
   "id": "a96aff60",
   "metadata": {},
   "source": [
    "# What to expect in this chapter"
   ]
  },
  {
   "attachments": {},
   "cell_type": "markdown",
   "id": "8034c804",
   "metadata": {},
   "source": [
    "# 1 The `for` iterator"
   ]
  },
  {
   "cell_type": "markdown",
   "id": "4966e0f5-a0fc-4400-bfab-cd7543dfa326",
   "metadata": {},
   "source": [
    "## 1.1 for with a list"
   ]
  },
  {
   "cell_type": "code",
   "execution_count": 6,
   "id": "e6c502f6-8727-4f5a-bd2b-ffa292d97bfd",
   "metadata": {},
   "outputs": [
    {
     "name": "stdout",
     "output_type": "stream",
     "text": [
      "1 is a number\n",
      "2 is a number\n",
      "3 is a number\n",
      "4 is a number\n",
      "5 is a number\n",
      "6 is a number\n",
      "7 is a number\n",
      "8 is a number\n"
     ]
    }
   ],
   "source": [
    "x = [1,2,3,4,5,6,7,8]\n",
    "for y in x:\n",
    "    print(f\"{y} is a number\") # y just takes on all values in x for \n",
    "                              # the number of elements in x"
   ]
  },
  {
   "attachments": {},
   "cell_type": "markdown",
   "id": "94ab9714",
   "metadata": {},
   "source": [
    "## 1.2 for with enumerate"
   ]
  },
  {
   "cell_type": "code",
   "execution_count": 10,
   "id": "491fc3c9-0b7f-4d9b-b035-7dd50bb9a7fd",
   "metadata": {},
   "outputs": [
    {
     "name": "stdout",
     "output_type": "stream",
     "text": [
      "0: Li is an element in the periodic table\n",
      "1: H is an element in the periodic table\n",
      "2: He is an element in the periodic table\n",
      "3: Be is an element in the periodic table\n",
      "4: B is an element in the periodic table\n"
     ]
    }
   ],
   "source": [
    "table = {'H', 'He','Li','Be', 'B'}\n",
    "\n",
    "for y, x in enumerate(table):\n",
    "    print(f\"{y}: {x} is an element in the periodic table\")"
   ]
  },
  {
   "attachments": {},
   "cell_type": "markdown",
   "id": "2846d51b",
   "metadata": {},
   "source": [
    "## 1.3 for with range"
   ]
  },
  {
   "attachments": {},
   "cell_type": "markdown",
   "id": "59aff541",
   "metadata": {},
   "source": [
    "# 2 while"
   ]
  }
 ],
 "metadata": {
  "kernelspec": {
   "display_name": "Python 3 (ipykernel)",
   "language": "python",
   "name": "python3"
  },
  "language_info": {
   "codemirror_mode": {
    "name": "ipython",
    "version": 3
   },
   "file_extension": ".py",
   "mimetype": "text/x-python",
   "name": "python",
   "nbconvert_exporter": "python",
   "pygments_lexer": "ipython3",
   "version": "3.11.5"
  },
  "toc": {
   "base_numbering": 1,
   "nav_menu": {},
   "number_sections": true,
   "sideBar": true,
   "skip_h1_title": false,
   "title_cell": "Table of Contents",
   "title_sidebar": "Contents",
   "toc_cell": false,
   "toc_position": {},
   "toc_section_display": true,
   "toc_window_display": false
  },
  "vscode": {
   "interpreter": {
    "hash": "31f2aee4e71d21fbe5cf8b01ff0e069b9275f58929596ceb00d14d90e3e16cd6"
   }
  }
 },
 "nbformat": 4,
 "nbformat_minor": 5
}
