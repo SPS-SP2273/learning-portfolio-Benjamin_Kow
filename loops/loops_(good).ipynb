{
 "cells": [
  {
   "cell_type": "markdown",
   "id": "123456",
   "metadata": {},
   "source": [
    "<div style=\"text-align:left;font-size:2em\"><span style=\"font-weight:bolder;font-size:1.25em\">SP2273 | Learning Portfolio</span><br><br><span style=\"font-weight:bold;color:darkred\">Loops (Good)</span></div>"
   ]
  },
  {
   "cell_type": "markdown",
   "id": "337e6024",
   "metadata": {},
   "source": [
    "# What to expect in this chapter"
   ]
  },
  {
   "cell_type": "markdown",
   "id": "cb2db094-fa91-4a3c-b710-3a0fe4d6b602",
   "metadata": {},
   "source": [
    "This chapter includes the use of `continue` and `break` statements in loops. Also, it includes **list comprehension**, essentially how you can creaste a list from other lists. "
   ]
  },
  {
   "cell_type": "markdown",
   "id": "bc88d456",
   "metadata": {},
   "source": [
    "# 1 Interrupting the flow"
   ]
  },
  {
   "cell_type": "code",
   "execution_count": 21,
   "id": "9e893845-d669-4b84-b0db-0b73d0cfce44",
   "metadata": {},
   "outputs": [
    {
     "name": "stdout",
     "output_type": "stream",
     "text": [
      "0:45\n",
      "1:135\n",
      "2:405\n",
      "3:1215\n",
      "4:3645\n",
      "5:10935\n"
     ]
    }
   ],
   "source": [
    "# This stops a loop completely\n",
    "z = 15\n",
    "for x in range(20):\n",
    "    z =  z*3\n",
    "    print(f'{x}:{z}')\n",
    "    if z >10000:\n",
    "        break"
   ]
  },
  {
   "cell_type": "code",
   "execution_count": 24,
   "id": "6e8ea167-590a-4b17-a3c7-f09059866206",
   "metadata": {},
   "outputs": [
    {
     "name": "stdout",
     "output_type": "stream",
     "text": [
      "1: This is 1.\n",
      "3: This is 9.\n",
      "5: This is 25.\n",
      "7: This is 49.\n",
      "9: This is 81.\n",
      "11: This is 121.\n",
      "13: This is 169.\n",
      "15: This is 225.\n",
      "17: This is 289.\n",
      "19: This is 361.\n",
      "21: This is 441.\n",
      "23: This is 529.\n",
      "25: This is 625.\n",
      "27: This is 729.\n",
      "29: This is 841.\n",
      "31: This is 961.\n",
      "33: This is 1089.\n",
      "35: This is 1225.\n",
      "37: This is 1369.\n",
      "39: This is 1521.\n",
      "41: This is 1681.\n",
      "43: This is 1849.\n",
      "45: This is 2025.\n",
      "47: This is 2209.\n",
      "49: This is 2401.\n"
     ]
    }
   ],
   "source": [
    "# This skips the current iteration and moves on to the next one \n",
    "\n",
    "for x in range(50):\n",
    "    if x%2 == 0: # This removes all even number iterations \n",
    "        continue\n",
    "    y = x**2\n",
    "    print(f'{x}: This is {y}.')"
   ]
  },
  {
   "cell_type": "code",
   "execution_count": 26,
   "id": "31d9c831-e1bf-480e-8369-7d7d48ce90f1",
   "metadata": {},
   "outputs": [
    {
     "name": "stdout",
     "output_type": "stream",
     "text": [
      "\n",
      "*\n",
      "**\n",
      "***\n",
      "****\n",
      "*****\n",
      "******\n",
      "*******\n",
      "********\n",
      "*********\n",
      "**********\n"
     ]
    }
   ],
   "source": [
    "# Can use while as well \n",
    "x = 0\n",
    "while True:\n",
    "    print('*'*x)\n",
    "    x +=1\n",
    "    if x > 10: break\n",
    "# This makes half a pyramid"
   ]
  },
  {
   "cell_type": "markdown",
   "id": "7e82debf",
   "metadata": {},
   "source": [
    "# 2 List comprehension!"
   ]
  },
  {
   "cell_type": "markdown",
   "id": "a1f52767",
   "metadata": {},
   "source": [
    "## 2.1 Basic syntax\n",
    "Its like making a `for` loop within a list"
   ]
  },
  {
   "cell_type": "code",
   "execution_count": 44,
   "id": "3e08e27f-dd19-44ae-ba7e-10aa8052667a",
   "metadata": {},
   "outputs": [
    {
     "name": "stdout",
     "output_type": "stream",
     "text": [
      "338 ns ± 8.31 ns per loop (mean ± std. dev. of 7 runs, 1,000,000 loops each)\n"
     ]
    }
   ],
   "source": [
    "%%timeit\n",
    "z = [x for x in range(5)]"
   ]
  },
  {
   "cell_type": "code",
   "execution_count": 46,
   "id": "acaa4503",
   "metadata": {},
   "outputs": [
    {
     "name": "stdout",
     "output_type": "stream",
     "text": [
      "386 ns ± 12.6 ns per loop (mean ± std. dev. of 7 runs, 1,000,000 loops each)\n"
     ]
    }
   ],
   "source": [
    "%%timeit\n",
    "y =[0]\n",
    "for i in range(1,5):\n",
    "    y+= [i]"
   ]
  },
  {
   "cell_type": "code",
   "execution_count": 45,
   "id": "733712dc",
   "metadata": {},
   "outputs": [
    {
     "name": "stdout",
     "output_type": "stream",
     "text": [
      "[0, 1, 2, 3, 4]\n",
      "[0, 1, 2, 3, 4]\n"
     ]
    }
   ],
   "source": [
    "print(f'{z}\\n{y}')"
   ]
  },
  {
   "cell_type": "markdown",
   "id": "d281d574",
   "metadata": {},
   "source": [
    "Not sure if this is the most efficient way to grow the list, but as shown list comprehension is much faster haha\n",
    "\n",
    "according to Google, list comprehension is faster because it generates a 'list' as a whole rather than iterating over the same function again and again. "
   ]
  },
  {
   "cell_type": "code",
   "execution_count": 28,
   "id": "b48e50d3-b37b-4321-be11-f6215d64bf2a",
   "metadata": {},
   "outputs": [
    {
     "data": {
      "text/plain": [
       "[0, 1, 8, 27, 64, 125]"
      ]
     },
     "execution_count": 28,
     "metadata": {},
     "output_type": "execute_result"
    }
   ],
   "source": [
    "[x**3 for x in range(6)]"
   ]
  },
  {
   "cell_type": "markdown",
   "id": "c574ff85",
   "metadata": {},
   "source": [
    "## 2.2 List comprehension with conditions\n",
    "Just add conditionals inside "
   ]
  },
  {
   "cell_type": "code",
   "execution_count": 25,
   "id": "caa3a51d-dda9-4da4-a226-6525b948532a",
   "metadata": {},
   "outputs": [
    {
     "data": {
      "text/plain": [
       "[2, 5]"
      ]
     },
     "execution_count": 25,
     "metadata": {},
     "output_type": "execute_result"
    }
   ],
   "source": [
    "[x for x in range(6) if x%3==2]"
   ]
  },
  {
   "cell_type": "markdown",
   "id": "82c077a7-7bfb-41f7-b91e-9cedda10b910",
   "metadata": {},
   "source": [
    "**Aside**: When you use the `in` it picks the items in the list directly and iterates over all elements of the list"
   ]
  },
  {
   "cell_type": "code",
   "execution_count": 36,
   "id": "17e8a210-0341-4285-8e6a-885d42a7de42",
   "metadata": {},
   "outputs": [
    {
     "data": {
      "text/plain": [
       "['b', 'c', 'd', 'e', 'f']"
      ]
     },
     "execution_count": 36,
     "metadata": {},
     "output_type": "execute_result"
    }
   ],
   "source": [
    "table=['a','b','c','d','e','f']\n",
    "\n",
    "[x for x in table if x != 'a']"
   ]
  },
  {
   "cell_type": "markdown",
   "id": "a0b5c9d9",
   "metadata": {},
   "source": [
    "# 3 Other useful stuff"
   ]
  },
  {
   "cell_type": "markdown",
   "id": "dd5361ea",
   "metadata": {},
   "source": [
    "## 3.1 for with unpacking\n",
    "Python will asssign variables to elements of the list based on the order they come in"
   ]
  },
  {
   "cell_type": "code",
   "execution_count": 37,
   "id": "5e68f267-62c1-48f4-909d-f872b6285067",
   "metadata": {},
   "outputs": [
    {
     "name": "stdout",
     "output_type": "stream",
     "text": [
      "x = 1, y = 2, z = 3\n"
     ]
    }
   ],
   "source": [
    "x, y, z=[1, 2, 3]\n",
    "print(f'x = {x}, y = {y}, z = {z}')"
   ]
  },
  {
   "cell_type": "code",
   "execution_count": 39,
   "id": "bceff72f-aee1-4127-b371-ba8b44afc9c3",
   "metadata": {},
   "outputs": [
    {
     "name": "stdout",
     "output_type": "stream",
     "text": [
      "The symbol of Hydroden is H.\n",
      "The symbol of Helium is He.\n",
      "The symbol of Lithium is Li.\n",
      "The symbol of Beryllium is Be.\n"
     ]
    }
   ],
   "source": [
    "# This works for 2d lists also \n",
    "elements = [['Hydroden','H'],\n",
    "            ['Helium','He'],\n",
    "            ['Lithium','Li'],\n",
    "            ['Beryllium','Be']]\n",
    "for element,symbol in elements:\n",
    "    print(f'The symbol of {element} is {symbol}.')"
   ]
  },
  {
   "cell_type": "markdown",
   "id": "848dab62",
   "metadata": {},
   "source": [
    "## 3.2 for with zip()\n",
    "`zip()` will combine 2 lists"
   ]
  },
  {
   "cell_type": "code",
   "execution_count": 44,
   "id": "84964061-4022-4a41-8393-2fc2645b267f",
   "metadata": {},
   "outputs": [
    {
     "name": "stdout",
     "output_type": "stream",
     "text": [
      "<zip object at 0x000001F352D80900>\n"
     ]
    }
   ],
   "source": [
    "element = ['Hydrogen', 'Helium','Lithium','Beryllium']\n",
    "symbol = ['H','He','Li','Be']\n",
    "x = zip(element,symbol)\n",
    "print(x) \n",
    "# This doesn't work, only use zip() in for loops "
   ]
  },
  {
   "cell_type": "code",
   "execution_count": 45,
   "id": "00380cd5-dceb-42d2-baf7-aef6802ddae9",
   "metadata": {},
   "outputs": [
    {
     "name": "stdout",
     "output_type": "stream",
     "text": [
      "The symbol of H is Hydrogen.\n",
      "The symbol of He is Helium.\n",
      "The symbol of Li is Lithium.\n",
      "The symbol of Be is Beryllium.\n"
     ]
    }
   ],
   "source": [
    "element = ['Hydrogen', 'Helium','Lithium','Beryllium']\n",
    "symbol = ['H','He','Li','Be']\n",
    "\n",
    "for x,y in zip(element,symbol):\n",
    "    print(f'The symbol of {y} is {x}.')"
   ]
  },
  {
   "cell_type": "markdown",
   "id": "be5d6d08",
   "metadata": {},
   "source": [
    "## 3.3 for with dictionaries\n",
    "It works the same say as the variables in zip, the first number is the key and the second is the value."
   ]
  },
  {
   "cell_type": "code",
   "execution_count": 2,
   "id": "b6c90ce2-f15b-4621-8c88-88bca1d92204",
   "metadata": {},
   "outputs": [
    {
     "name": "stdout",
     "output_type": "stream",
     "text": [
      "Hydroden has resulting symbol H\n",
      "Helium has resulting symbol He\n",
      "Lithium has resulting symbol Li\n",
      "Beryllium has resulting symbol B\n",
      "Hydroden has symbol H\n",
      "Helium has symbol He\n",
      "Lithium has symbol Li\n",
      "Beryllium has symbol B\n"
     ]
    }
   ],
   "source": [
    "elements = {'Hydroden':'H',\n",
    "            'Helium':'He',\n",
    "            'Lithium':'Li',\n",
    "            'Beryllium':'B'}\n",
    "\n",
    "for key,value in elements.items():\n",
    "    print(f'{key} has resulting symbol {value}')\n",
    "\n",
    "for key in elements.keys():\n",
    "    x = elements[key]\n",
    "    print(f'{key} has symbol {x}')\n",
    "\n",
    "#Notice the difference between .keys() and .items()"
   ]
  }
 ],
 "metadata": {
  "kernelspec": {
   "display_name": "Python 3 (ipykernel)",
   "language": "python",
   "name": "python3"
  },
  "language_info": {
   "codemirror_mode": {
    "name": "ipython",
    "version": 3
   },
   "file_extension": ".py",
   "mimetype": "text/x-python",
   "name": "python",
   "nbconvert_exporter": "python",
   "pygments_lexer": "ipython3",
   "version": "3.11.5"
  },
  "toc": {
   "base_numbering": 1,
   "nav_menu": {},
   "number_sections": true,
   "sideBar": true,
   "skip_h1_title": false,
   "title_cell": "Table of Contents",
   "title_sidebar": "Contents",
   "toc_cell": false,
   "toc_position": {},
   "toc_section_display": true,
   "toc_window_display": false
  },
  "vscode": {
   "interpreter": {
    "hash": "31f2aee4e71d21fbe5cf8b01ff0e069b9275f58929596ceb00d14d90e3e16cd6"
   }
  }
 },
 "nbformat": 4,
 "nbformat_minor": 5
}
