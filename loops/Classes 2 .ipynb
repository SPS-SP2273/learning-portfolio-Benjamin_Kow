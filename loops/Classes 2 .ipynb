{
 "cells": [
  {
   "cell_type": "markdown",
   "id": "a9e70828-47a0-409a-9a08-2267793cb005",
   "metadata": {},
   "source": [
    "# Classes 2\n",
    "I already did this in classes 1, nothing new"
   ]
  },
  {
   "cell_type": "code",
   "execution_count": 2,
   "id": "dee1b57a-0df3-4be3-a07a-9a009aa675da",
   "metadata": {},
   "outputs": [
    {
     "name": "stdout",
     "output_type": "stream",
     "text": [
      "Particle 0: mass=99, position= 0.598.\n",
      "Particle 1: mass=99, position= 0.653.\n",
      "Particle 2: mass=99, position= 0.992.\n"
     ]
    }
   ],
   "source": [
    "import numpy as np\n",
    "class CParticle1D:\n",
    "    mass = None\n",
    "    position = None\n",
    "    radius = None\n",
    "\n",
    "\n",
    "# Make all the particles identical\n",
    "CParticle1D.mass = 99\n",
    "CParticle1D.radius = .01\n",
    "\n",
    "# Create a list of particles\n",
    "no_of_particles = 3\n",
    "all_particles = [CParticle1D() for _ in range(no_of_particles)]\n",
    "\n",
    "# Initialise with a random position\n",
    "for particle in all_particles:\n",
    "    particle.position = np.random.rand()\n",
    "\n",
    "# Print stuff to check\n",
    "for count, particle in enumerate(all_particles):\n",
    "    print(f'Particle {count}: mass={particle.mass}, position= {particle.position:.3f}.')"
   ]
  },
  {
   "cell_type": "code",
   "execution_count": null,
   "id": "e4cb7b20-444f-46cb-ab88-597c20540ab4",
   "metadata": {},
   "outputs": [],
   "source": []
  }
 ],
 "metadata": {
  "kernelspec": {
   "display_name": "Python 3 (ipykernel)",
   "language": "python",
   "name": "python3"
  },
  "language_info": {
   "codemirror_mode": {
    "name": "ipython",
    "version": 3
   },
   "file_extension": ".py",
   "mimetype": "text/x-python",
   "name": "python",
   "nbconvert_exporter": "python",
   "pygments_lexer": "ipython3",
   "version": "3.11.5"
  }
 },
 "nbformat": 4,
 "nbformat_minor": 5
}
